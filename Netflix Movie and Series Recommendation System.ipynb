{
 "cells": [
  {
   "cell_type": "markdown",
   "metadata": {},
   "source": [
    "# Netflix Movie/Series Recommendation System USING NLP And SIGMOID\n"
   ]
  },
  {
   "cell_type": "markdown",
   "metadata": {},
   "source": [
    "In this project i tried to build a recommendation system just like netflix.\n",
    "\n",
    "To personalize the experience we will require \n",
    "the data of user and a user id so that we can add a separate feature of recommendation as per the shows/movies they have already rated.\n",
    "\n",
    "The recommendation that we are giving will be based on the similarity in genre of movies. It can also be based on the cast of movie or the director of movie.\n",
    "\n",
    "{{Country states that the content ws taken from which country}}"
   ]
  },
  {
   "cell_type": "code",
   "execution_count": 1,
   "metadata": {
    "ExecuteTime": {
     "end_time": "2020-05-13T10:41:20.008285Z",
     "start_time": "2020-05-13T10:41:19.481977Z"
    },
    "scrolled": false
   },
   "outputs": [],
   "source": [
    "import pandas as pd\n",
    "import numpy as np"
   ]
  },
  {
   "cell_type": "code",
   "execution_count": 2,
   "metadata": {
    "ExecuteTime": {
     "end_time": "2020-05-13T10:41:21.989380Z",
     "start_time": "2020-05-13T10:41:20.010283Z"
    },
    "scrolled": false
   },
   "outputs": [],
   "source": [
    "#reading all the data frames and making duplicates\n",
    "df=pd.read_excel(r\"D:\\CV\\Projects present in CV\\Netflix recommendation system/netflix_titles.xlsx\")\n",
    "df1=df\n",
    "df2=df\n",
    "df3=df\n",
    "df4=df\n",
    "df5=df\n",
    "df6=df\n",
    "df7=df\n",
    "df8=df\n",
    "df9=df\n",
    "df10=df\n",
    "df11=df\n",
    "#df.head(2)"
   ]
  },
  {
   "cell_type": "code",
   "execution_count": 3,
   "metadata": {
    "ExecuteTime": {
     "end_time": "2020-05-13T10:43:07.104025Z",
     "start_time": "2020-05-13T10:41:21.989380Z"
    }
   },
   "outputs": [
    {
     "name": "stdout",
     "output_type": "stream",
     "text": [
      "Movie/show name from Netflix: Friends\n"
     ]
    }
   ],
   "source": [
    "#taking input from user \n",
    "k=input(\"Movie/show name from Netflix: \")"
   ]
  },
  {
   "cell_type": "markdown",
   "metadata": {},
   "source": [
    "First we will distribute the movies as per genre  \n",
    "HERE WE ARE USING NLP TO CREATE A VECTOR OUT OF GENRE SENTENCE"
   ]
  },
  {
   "cell_type": "code",
   "execution_count": 4,
   "metadata": {
    "ExecuteTime": {
     "end_time": "2020-05-13T10:43:07.132048Z",
     "start_time": "2020-05-13T10:43:07.108881Z"
    }
   },
   "outputs": [],
   "source": [
    "#replacing nan values with blanks so that nan doesnot hinder in NLP\n",
    "df = df.replace(np.nan, '', regex=True)"
   ]
  },
  {
   "cell_type": "code",
   "execution_count": 5,
   "metadata": {
    "ExecuteTime": {
     "end_time": "2020-05-13T10:43:07.188049Z",
     "start_time": "2020-05-13T10:43:07.135040Z"
    }
   },
   "outputs": [
    {
     "data": {
      "text/html": [
       "<div>\n",
       "<style scoped>\n",
       "    .dataframe tbody tr th:only-of-type {\n",
       "        vertical-align: middle;\n",
       "    }\n",
       "\n",
       "    .dataframe tbody tr th {\n",
       "        vertical-align: top;\n",
       "    }\n",
       "\n",
       "    .dataframe thead th {\n",
       "        text-align: right;\n",
       "    }\n",
       "</style>\n",
       "<table border=\"1\" class=\"dataframe\">\n",
       "  <thead>\n",
       "    <tr style=\"text-align: right;\">\n",
       "      <th></th>\n",
       "      <th>title</th>\n",
       "      <th>type</th>\n",
       "      <th>director</th>\n",
       "      <th>cast</th>\n",
       "      <th>country</th>\n",
       "      <th>date_added</th>\n",
       "      <th>release_year</th>\n",
       "      <th>rating</th>\n",
       "      <th>duration</th>\n",
       "      <th>listed_in</th>\n",
       "      <th>description</th>\n",
       "    </tr>\n",
       "  </thead>\n",
       "  <tbody>\n",
       "    <tr>\n",
       "      <th>0</th>\n",
       "      <td>Norm of the North: King Sized Adventure</td>\n",
       "      <td>Movie</td>\n",
       "      <td>Richard Finn, Tim Maltby</td>\n",
       "      <td>Alan Marriott, Andrew Toth, Brian Dobson, Cole...</td>\n",
       "      <td>United States, India, South Korea, China</td>\n",
       "      <td>2019-09-09 00:00:00</td>\n",
       "      <td>2019</td>\n",
       "      <td>TV-PG</td>\n",
       "      <td>90 min</td>\n",
       "      <td>Children &amp; Family Movies, Comedies</td>\n",
       "      <td>Before planning an awesome wedding for his gra...</td>\n",
       "    </tr>\n",
       "    <tr>\n",
       "      <th>1</th>\n",
       "      <td>Jandino: Whatever it Takes</td>\n",
       "      <td>Movie</td>\n",
       "      <td></td>\n",
       "      <td>Jandino Asporaat</td>\n",
       "      <td>United Kingdom</td>\n",
       "      <td>2016-09-09 00:00:00</td>\n",
       "      <td>2016</td>\n",
       "      <td>TV-MA</td>\n",
       "      <td>94 min</td>\n",
       "      <td>Stand-Up Comedy</td>\n",
       "      <td>Jandino Asporaat riffs on the challenges of ra...</td>\n",
       "    </tr>\n",
       "    <tr>\n",
       "      <th>2</th>\n",
       "      <td>Transformers Prime</td>\n",
       "      <td>TV Show</td>\n",
       "      <td></td>\n",
       "      <td>Peter Cullen, Sumalee Montano, Frank Welker, J...</td>\n",
       "      <td>United States</td>\n",
       "      <td>2018-09-08 00:00:00</td>\n",
       "      <td>2013</td>\n",
       "      <td>TV-Y7-FV</td>\n",
       "      <td>1 Season</td>\n",
       "      <td>Kids' TV</td>\n",
       "      <td>With the help of three human allies, the Autob...</td>\n",
       "    </tr>\n",
       "    <tr>\n",
       "      <th>3</th>\n",
       "      <td>Transformers: Robots in Disguise</td>\n",
       "      <td>TV Show</td>\n",
       "      <td></td>\n",
       "      <td>Will Friedle, Darren Criss, Constance Zimmer, ...</td>\n",
       "      <td>United States</td>\n",
       "      <td>2018-09-08 00:00:00</td>\n",
       "      <td>2016</td>\n",
       "      <td>TV-Y7</td>\n",
       "      <td>1 Season</td>\n",
       "      <td>Kids' TV</td>\n",
       "      <td>When a prison ship crash unleashes hundreds of...</td>\n",
       "    </tr>\n",
       "    <tr>\n",
       "      <th>4</th>\n",
       "      <td>#realityhigh</td>\n",
       "      <td>Movie</td>\n",
       "      <td>Fernando Lebrija</td>\n",
       "      <td>Nesta Cooper, Kate Walsh, John Michael Higgins...</td>\n",
       "      <td>United States</td>\n",
       "      <td>2017-09-08 00:00:00</td>\n",
       "      <td>2017</td>\n",
       "      <td>TV-14</td>\n",
       "      <td>99 min</td>\n",
       "      <td>Comedies</td>\n",
       "      <td>When nerdy high schooler Dani finally attracts...</td>\n",
       "    </tr>\n",
       "    <tr>\n",
       "      <th>5</th>\n",
       "      <td>Apaches</td>\n",
       "      <td>TV Show</td>\n",
       "      <td></td>\n",
       "      <td>Alberto Ammann, Eloy AzorÃ­n, VerÃ³nica Echegu...</td>\n",
       "      <td>Spain</td>\n",
       "      <td>2017-09-08 00:00:00</td>\n",
       "      <td>2016</td>\n",
       "      <td>TV-MA</td>\n",
       "      <td>1 Season</td>\n",
       "      <td>Crime TV Shows, International TV Shows, Spanis...</td>\n",
       "      <td>A young journalist is forced into a life of cr...</td>\n",
       "    </tr>\n",
       "    <tr>\n",
       "      <th>6</th>\n",
       "      <td>Automata</td>\n",
       "      <td>Movie</td>\n",
       "      <td>Gabe IbÃ¡Ã±ez</td>\n",
       "      <td>Antonio Banderas, Dylan McDermott, Melanie Gri...</td>\n",
       "      <td>Bulgaria, United States, Spain, Canada</td>\n",
       "      <td>2017-09-08 00:00:00</td>\n",
       "      <td>2014</td>\n",
       "      <td>R</td>\n",
       "      <td>110 min</td>\n",
       "      <td>International Movies, Sci-Fi &amp; Fantasy, Thrillers</td>\n",
       "      <td>In a dystopian future, an insurance adjuster f...</td>\n",
       "    </tr>\n",
       "    <tr>\n",
       "      <th>7</th>\n",
       "      <td>Fabrizio Copano: Solo pienso en mi</td>\n",
       "      <td>Movie</td>\n",
       "      <td>Rodrigo Toro, Francisco Schultz</td>\n",
       "      <td>Fabrizio Copano</td>\n",
       "      <td>Chile</td>\n",
       "      <td>2017-09-08 00:00:00</td>\n",
       "      <td>2017</td>\n",
       "      <td>TV-MA</td>\n",
       "      <td>60 min</td>\n",
       "      <td>Stand-Up Comedy</td>\n",
       "      <td>Fabrizio Copano takes audience participation t...</td>\n",
       "    </tr>\n",
       "    <tr>\n",
       "      <th>8</th>\n",
       "      <td>Fire Chasers</td>\n",
       "      <td>TV Show</td>\n",
       "      <td></td>\n",
       "      <td></td>\n",
       "      <td>United States</td>\n",
       "      <td>2017-09-08 00:00:00</td>\n",
       "      <td>2017</td>\n",
       "      <td>TV-MA</td>\n",
       "      <td>1 Season</td>\n",
       "      <td>Docuseries, Science &amp; Nature TV</td>\n",
       "      <td>As California's 2016 fire season rages, brave ...</td>\n",
       "    </tr>\n",
       "    <tr>\n",
       "      <th>9</th>\n",
       "      <td>Good People</td>\n",
       "      <td>Movie</td>\n",
       "      <td>Henrik Ruben Genz</td>\n",
       "      <td>James Franco, Kate Hudson, Tom Wilkinson, Omar...</td>\n",
       "      <td>United States, United Kingdom, Denmark, Sweden</td>\n",
       "      <td>2017-09-08 00:00:00</td>\n",
       "      <td>2014</td>\n",
       "      <td>R</td>\n",
       "      <td>90 min</td>\n",
       "      <td>Action &amp; Adventure, Thrillers</td>\n",
       "      <td>A struggling couple can't believe their luck w...</td>\n",
       "    </tr>\n",
       "    <tr>\n",
       "      <th>10</th>\n",
       "      <td>JoaquÃ­n Reyes: Una y no mÃ¡s</td>\n",
       "      <td>Movie</td>\n",
       "      <td>JosÃ© Miguel Contreras</td>\n",
       "      <td>JoaquÃ­n Reyes</td>\n",
       "      <td></td>\n",
       "      <td>2017-09-08 00:00:00</td>\n",
       "      <td>2017</td>\n",
       "      <td>TV-MA</td>\n",
       "      <td>78 min</td>\n",
       "      <td>Stand-Up Comedy</td>\n",
       "      <td>Comedian and celebrity impersonator JoaquÃ­n R...</td>\n",
       "    </tr>\n",
       "    <tr>\n",
       "      <th>11</th>\n",
       "      <td>Kidnapping Mr. Heineken</td>\n",
       "      <td>Movie</td>\n",
       "      <td>Daniel Alfredson</td>\n",
       "      <td>Jim Sturgess, Sam Worthington, Ryan Kwanten, A...</td>\n",
       "      <td>Netherlands, Belgium, United Kingdom, United S...</td>\n",
       "      <td>2017-09-08 00:00:00</td>\n",
       "      <td>2015</td>\n",
       "      <td>R</td>\n",
       "      <td>95 min</td>\n",
       "      <td>Action &amp; Adventure, Dramas, International Movies</td>\n",
       "      <td>When beer magnate Alfred \"Freddy\" Heineken is ...</td>\n",
       "    </tr>\n",
       "    <tr>\n",
       "      <th>12</th>\n",
       "      <td>Krish Trish and Baltiboy</td>\n",
       "      <td>Movie</td>\n",
       "      <td></td>\n",
       "      <td>Damandeep Singh Baggan, Smita Malhotra, Baba S...</td>\n",
       "      <td></td>\n",
       "      <td>2017-09-08 00:00:00</td>\n",
       "      <td>2009</td>\n",
       "      <td>TV-Y7</td>\n",
       "      <td>58 min</td>\n",
       "      <td>Children &amp; Family Movies</td>\n",
       "      <td>A team of minstrels, including a monkey, cat a...</td>\n",
       "    </tr>\n",
       "    <tr>\n",
       "      <th>13</th>\n",
       "      <td>Krish Trish and Baltiboy: Battle of Wits</td>\n",
       "      <td>Movie</td>\n",
       "      <td>Munjal Shroff, Tilak Shetty</td>\n",
       "      <td>Damandeep Singh Baggan, Smita Malhotra, Baba S...</td>\n",
       "      <td></td>\n",
       "      <td>2017-09-08 00:00:00</td>\n",
       "      <td>2013</td>\n",
       "      <td>TV-Y7</td>\n",
       "      <td>62 min</td>\n",
       "      <td>Children &amp; Family Movies</td>\n",
       "      <td>An artisan is cheated of his payment, a lion o...</td>\n",
       "    </tr>\n",
       "    <tr>\n",
       "      <th>14</th>\n",
       "      <td>Krish Trish and Baltiboy: Best Friends Forever</td>\n",
       "      <td>Movie</td>\n",
       "      <td>Munjal Shroff, Tilak Shetty</td>\n",
       "      <td>Damandeep Singh Baggan, Smita Malhotra, Deepak...</td>\n",
       "      <td></td>\n",
       "      <td>2017-09-08 00:00:00</td>\n",
       "      <td>2016</td>\n",
       "      <td>TV-Y</td>\n",
       "      <td>65 min</td>\n",
       "      <td>Children &amp; Family Movies</td>\n",
       "      <td>A cat, monkey and donkey team up to narrate fo...</td>\n",
       "    </tr>\n",
       "    <tr>\n",
       "      <th>15</th>\n",
       "      <td>Krish Trish and Baltiboy: Comics of India</td>\n",
       "      <td>Movie</td>\n",
       "      <td>Tilak Shetty</td>\n",
       "      <td>Damandeep Singh Baggan, Smita Malhotra, Baba S...</td>\n",
       "      <td></td>\n",
       "      <td>2017-09-08 00:00:00</td>\n",
       "      <td>2012</td>\n",
       "      <td>TV-Y7</td>\n",
       "      <td>61 min</td>\n",
       "      <td>Children &amp; Family Movies</td>\n",
       "      <td>In three comic-strip-style tales, a boy tries ...</td>\n",
       "    </tr>\n",
       "    <tr>\n",
       "      <th>16</th>\n",
       "      <td>Krish Trish and Baltiboy: Oversmartness Never ...</td>\n",
       "      <td>Movie</td>\n",
       "      <td>Tilak Shetty</td>\n",
       "      <td>Rishi Gambhir, Smita Malhotra, Deepak Chachra</td>\n",
       "      <td></td>\n",
       "      <td>2017-09-08 00:00:00</td>\n",
       "      <td>2017</td>\n",
       "      <td>TV-Y7</td>\n",
       "      <td>65 min</td>\n",
       "      <td>Children &amp; Family Movies</td>\n",
       "      <td>A cat, monkey and donkey learn the consequence...</td>\n",
       "    </tr>\n",
       "    <tr>\n",
       "      <th>17</th>\n",
       "      <td>Krish Trish and Baltiboy: Part II</td>\n",
       "      <td>Movie</td>\n",
       "      <td></td>\n",
       "      <td>Damandeep Singh Baggan, Smita Malhotra, Baba S...</td>\n",
       "      <td></td>\n",
       "      <td>2017-09-08 00:00:00</td>\n",
       "      <td>2010</td>\n",
       "      <td>TV-Y7</td>\n",
       "      <td>58 min</td>\n",
       "      <td>Children &amp; Family Movies</td>\n",
       "      <td>Animal minstrels narrate stories about a monke...</td>\n",
       "    </tr>\n",
       "    <tr>\n",
       "      <th>18</th>\n",
       "      <td>Krish Trish and Baltiboy: The Greatest Trick</td>\n",
       "      <td>Movie</td>\n",
       "      <td>Munjal Shroff, Tilak Shetty</td>\n",
       "      <td>Damandeep Singh Baggan, Smita Malhotra, Baba S...</td>\n",
       "      <td></td>\n",
       "      <td>2017-09-08 00:00:00</td>\n",
       "      <td>2013</td>\n",
       "      <td>TV-Y7</td>\n",
       "      <td>60 min</td>\n",
       "      <td>Children &amp; Family Movies</td>\n",
       "      <td>The consequences of trickery are explored in s...</td>\n",
       "    </tr>\n",
       "    <tr>\n",
       "      <th>19</th>\n",
       "      <td>Love</td>\n",
       "      <td>Movie</td>\n",
       "      <td>Gaspar NoÃ©</td>\n",
       "      <td>Karl Glusman, Klara Kristin, Aomi Muyock, Ugo ...</td>\n",
       "      <td>France, Belgium</td>\n",
       "      <td>2017-09-08 00:00:00</td>\n",
       "      <td>2015</td>\n",
       "      <td>NR</td>\n",
       "      <td>135 min</td>\n",
       "      <td>Cult Movies, Dramas, Independent Movies</td>\n",
       "      <td>A man in an unsatisfying marriage recalls the ...</td>\n",
       "    </tr>\n",
       "  </tbody>\n",
       "</table>\n",
       "</div>"
      ],
      "text/plain": [
       "                                                title     type  \\\n",
       "0             Norm of the North: King Sized Adventure    Movie   \n",
       "1                          Jandino: Whatever it Takes    Movie   \n",
       "2                                  Transformers Prime  TV Show   \n",
       "3                    Transformers: Robots in Disguise  TV Show   \n",
       "4                                        #realityhigh    Movie   \n",
       "5                                             Apaches  TV Show   \n",
       "6                                            Automata    Movie   \n",
       "7                  Fabrizio Copano: Solo pienso en mi    Movie   \n",
       "8                                        Fire Chasers  TV Show   \n",
       "9                                         Good People    Movie   \n",
       "10                      JoaquÃ­n Reyes: Una y no mÃ¡s    Movie   \n",
       "11                            Kidnapping Mr. Heineken    Movie   \n",
       "12                           Krish Trish and Baltiboy    Movie   \n",
       "13           Krish Trish and Baltiboy: Battle of Wits    Movie   \n",
       "14     Krish Trish and Baltiboy: Best Friends Forever    Movie   \n",
       "15          Krish Trish and Baltiboy: Comics of India    Movie   \n",
       "16  Krish Trish and Baltiboy: Oversmartness Never ...    Movie   \n",
       "17                  Krish Trish and Baltiboy: Part II    Movie   \n",
       "18       Krish Trish and Baltiboy: The Greatest Trick    Movie   \n",
       "19                                               Love    Movie   \n",
       "\n",
       "                           director  \\\n",
       "0          Richard Finn, Tim Maltby   \n",
       "1                                     \n",
       "2                                     \n",
       "3                                     \n",
       "4                  Fernando Lebrija   \n",
       "5                                     \n",
       "6                     Gabe IbÃ¡Ã±ez   \n",
       "7   Rodrigo Toro, Francisco Schultz   \n",
       "8                                     \n",
       "9                 Henrik Ruben Genz   \n",
       "10           JosÃ© Miguel Contreras   \n",
       "11                 Daniel Alfredson   \n",
       "12                                    \n",
       "13      Munjal Shroff, Tilak Shetty   \n",
       "14      Munjal Shroff, Tilak Shetty   \n",
       "15                     Tilak Shetty   \n",
       "16                     Tilak Shetty   \n",
       "17                                    \n",
       "18      Munjal Shroff, Tilak Shetty   \n",
       "19                      Gaspar NoÃ©   \n",
       "\n",
       "                                                 cast  \\\n",
       "0   Alan Marriott, Andrew Toth, Brian Dobson, Cole...   \n",
       "1                                    Jandino Asporaat   \n",
       "2   Peter Cullen, Sumalee Montano, Frank Welker, J...   \n",
       "3   Will Friedle, Darren Criss, Constance Zimmer, ...   \n",
       "4   Nesta Cooper, Kate Walsh, John Michael Higgins...   \n",
       "5   Alberto Ammann, Eloy AzorÃ­n, VerÃ³nica Echegu...   \n",
       "6   Antonio Banderas, Dylan McDermott, Melanie Gri...   \n",
       "7                                     Fabrizio Copano   \n",
       "8                                                       \n",
       "9   James Franco, Kate Hudson, Tom Wilkinson, Omar...   \n",
       "10                                     JoaquÃ­n Reyes   \n",
       "11  Jim Sturgess, Sam Worthington, Ryan Kwanten, A...   \n",
       "12  Damandeep Singh Baggan, Smita Malhotra, Baba S...   \n",
       "13  Damandeep Singh Baggan, Smita Malhotra, Baba S...   \n",
       "14  Damandeep Singh Baggan, Smita Malhotra, Deepak...   \n",
       "15  Damandeep Singh Baggan, Smita Malhotra, Baba S...   \n",
       "16      Rishi Gambhir, Smita Malhotra, Deepak Chachra   \n",
       "17  Damandeep Singh Baggan, Smita Malhotra, Baba S...   \n",
       "18  Damandeep Singh Baggan, Smita Malhotra, Baba S...   \n",
       "19  Karl Glusman, Klara Kristin, Aomi Muyock, Ugo ...   \n",
       "\n",
       "                                              country           date_added  \\\n",
       "0            United States, India, South Korea, China  2019-09-09 00:00:00   \n",
       "1                                      United Kingdom  2016-09-09 00:00:00   \n",
       "2                                       United States  2018-09-08 00:00:00   \n",
       "3                                       United States  2018-09-08 00:00:00   \n",
       "4                                       United States  2017-09-08 00:00:00   \n",
       "5                                               Spain  2017-09-08 00:00:00   \n",
       "6              Bulgaria, United States, Spain, Canada  2017-09-08 00:00:00   \n",
       "7                                               Chile  2017-09-08 00:00:00   \n",
       "8                                       United States  2017-09-08 00:00:00   \n",
       "9      United States, United Kingdom, Denmark, Sweden  2017-09-08 00:00:00   \n",
       "10                                                     2017-09-08 00:00:00   \n",
       "11  Netherlands, Belgium, United Kingdom, United S...  2017-09-08 00:00:00   \n",
       "12                                                     2017-09-08 00:00:00   \n",
       "13                                                     2017-09-08 00:00:00   \n",
       "14                                                     2017-09-08 00:00:00   \n",
       "15                                                     2017-09-08 00:00:00   \n",
       "16                                                     2017-09-08 00:00:00   \n",
       "17                                                     2017-09-08 00:00:00   \n",
       "18                                                     2017-09-08 00:00:00   \n",
       "19                                    France, Belgium  2017-09-08 00:00:00   \n",
       "\n",
       "    release_year    rating  duration  \\\n",
       "0           2019     TV-PG    90 min   \n",
       "1           2016     TV-MA    94 min   \n",
       "2           2013  TV-Y7-FV  1 Season   \n",
       "3           2016     TV-Y7  1 Season   \n",
       "4           2017     TV-14    99 min   \n",
       "5           2016     TV-MA  1 Season   \n",
       "6           2014         R   110 min   \n",
       "7           2017     TV-MA    60 min   \n",
       "8           2017     TV-MA  1 Season   \n",
       "9           2014         R    90 min   \n",
       "10          2017     TV-MA    78 min   \n",
       "11          2015         R    95 min   \n",
       "12          2009     TV-Y7    58 min   \n",
       "13          2013     TV-Y7    62 min   \n",
       "14          2016      TV-Y    65 min   \n",
       "15          2012     TV-Y7    61 min   \n",
       "16          2017     TV-Y7    65 min   \n",
       "17          2010     TV-Y7    58 min   \n",
       "18          2013     TV-Y7    60 min   \n",
       "19          2015        NR   135 min   \n",
       "\n",
       "                                            listed_in  \\\n",
       "0                  Children & Family Movies, Comedies   \n",
       "1                                     Stand-Up Comedy   \n",
       "2                                            Kids' TV   \n",
       "3                                            Kids' TV   \n",
       "4                                            Comedies   \n",
       "5   Crime TV Shows, International TV Shows, Spanis...   \n",
       "6   International Movies, Sci-Fi & Fantasy, Thrillers   \n",
       "7                                     Stand-Up Comedy   \n",
       "8                     Docuseries, Science & Nature TV   \n",
       "9                       Action & Adventure, Thrillers   \n",
       "10                                    Stand-Up Comedy   \n",
       "11   Action & Adventure, Dramas, International Movies   \n",
       "12                           Children & Family Movies   \n",
       "13                           Children & Family Movies   \n",
       "14                           Children & Family Movies   \n",
       "15                           Children & Family Movies   \n",
       "16                           Children & Family Movies   \n",
       "17                           Children & Family Movies   \n",
       "18                           Children & Family Movies   \n",
       "19            Cult Movies, Dramas, Independent Movies   \n",
       "\n",
       "                                          description  \n",
       "0   Before planning an awesome wedding for his gra...  \n",
       "1   Jandino Asporaat riffs on the challenges of ra...  \n",
       "2   With the help of three human allies, the Autob...  \n",
       "3   When a prison ship crash unleashes hundreds of...  \n",
       "4   When nerdy high schooler Dani finally attracts...  \n",
       "5   A young journalist is forced into a life of cr...  \n",
       "6   In a dystopian future, an insurance adjuster f...  \n",
       "7   Fabrizio Copano takes audience participation t...  \n",
       "8   As California's 2016 fire season rages, brave ...  \n",
       "9   A struggling couple can't believe their luck w...  \n",
       "10  Comedian and celebrity impersonator JoaquÃ­n R...  \n",
       "11  When beer magnate Alfred \"Freddy\" Heineken is ...  \n",
       "12  A team of minstrels, including a monkey, cat a...  \n",
       "13  An artisan is cheated of his payment, a lion o...  \n",
       "14  A cat, monkey and donkey team up to narrate fo...  \n",
       "15  In three comic-strip-style tales, a boy tries ...  \n",
       "16  A cat, monkey and donkey learn the consequence...  \n",
       "17  Animal minstrels narrate stories about a monke...  \n",
       "18  The consequences of trickery are explored in s...  \n",
       "19  A man in an unsatisfying marriage recalls the ...  "
      ]
     },
     "execution_count": 5,
     "metadata": {},
     "output_type": "execute_result"
    }
   ],
   "source": [
    "df.head(20)"
   ]
  },
  {
   "cell_type": "code",
   "execution_count": 6,
   "metadata": {
    "ExecuteTime": {
     "end_time": "2020-05-13T10:43:07.211738Z",
     "start_time": "2020-05-13T10:43:07.189862Z"
    }
   },
   "outputs": [],
   "source": [
    "#converting data to strings format so that NLP can be applied\n",
    "df['release_year'] = df['release_year'].astype(str)\n",
    "df['duration'] = df['duration'].astype(str)\n",
    "df['date_added'] = df['date_added'].astype(str)"
   ]
  },
  {
   "cell_type": "code",
   "execution_count": null,
   "metadata": {},
   "outputs": [],
   "source": []
  },
  {
   "cell_type": "markdown",
   "metadata": {},
   "source": [
    "# CASE 1"
   ]
  },
  {
   "cell_type": "markdown",
   "metadata": {},
   "source": [
    "IN CASE 1 {WE TOOK ALL THE CLUMNS- TITLE, TYPE, DIRECTOR, CAST, COUNTRY, DATE_ADDED, RELEASE_YEAR, RATING, DURATION, LISTED_IN, DESCRIPTION}"
   ]
  },
  {
   "cell_type": "code",
   "execution_count": 7,
   "metadata": {
    "ExecuteTime": {
     "end_time": "2020-05-13T10:43:07.268428Z",
     "start_time": "2020-05-13T10:43:07.212735Z"
    }
   },
   "outputs": [],
   "source": [
    "#creating a new column by adding the strings separated by spaces from all the columns \n",
    "df[\"model1\"] = df[\"type\"] +\" \"+ df[\"director\"]+\" \"+ df[\"cast\"]+\" \"+ df[\"country\"]+\" \"+ df[\"release_year\"]+\" \"+ df[\"rating\"]+\" \"+ df[\"duration\"]+\" \"+ df[\"listed_in\"]+\" \"+ df[\"description\"]"
   ]
  },
  {
   "cell_type": "code",
   "execution_count": 8,
   "metadata": {
    "ExecuteTime": {
     "end_time": "2020-05-13T10:43:07.280240Z",
     "start_time": "2020-05-13T10:43:07.272715Z"
    }
   },
   "outputs": [],
   "source": [
    "#df.head(2)"
   ]
  },
  {
   "cell_type": "code",
   "execution_count": 9,
   "metadata": {
    "ExecuteTime": {
     "end_time": "2020-05-13T10:43:07.306502Z",
     "start_time": "2020-05-13T10:43:07.282235Z"
    }
   },
   "outputs": [
    {
     "data": {
      "text/html": [
       "<div>\n",
       "<style scoped>\n",
       "    .dataframe tbody tr th:only-of-type {\n",
       "        vertical-align: middle;\n",
       "    }\n",
       "\n",
       "    .dataframe tbody tr th {\n",
       "        vertical-align: top;\n",
       "    }\n",
       "\n",
       "    .dataframe thead th {\n",
       "        text-align: right;\n",
       "    }\n",
       "</style>\n",
       "<table border=\"1\" class=\"dataframe\">\n",
       "  <thead>\n",
       "    <tr style=\"text-align: right;\">\n",
       "      <th></th>\n",
       "      <th>title</th>\n",
       "      <th>model1</th>\n",
       "    </tr>\n",
       "  </thead>\n",
       "  <tbody>\n",
       "    <tr>\n",
       "      <th>0</th>\n",
       "      <td>Norm of the North: King Sized Adventure</td>\n",
       "      <td>Movie Richard Finn, Tim Maltby Alan Marriott, ...</td>\n",
       "    </tr>\n",
       "    <tr>\n",
       "      <th>1</th>\n",
       "      <td>Jandino: Whatever it Takes</td>\n",
       "      <td>Movie  Jandino Asporaat United Kingdom 2016 TV...</td>\n",
       "    </tr>\n",
       "  </tbody>\n",
       "</table>\n",
       "</div>"
      ],
      "text/plain": [
       "                                     title  \\\n",
       "0  Norm of the North: King Sized Adventure   \n",
       "1               Jandino: Whatever it Takes   \n",
       "\n",
       "                                              model1  \n",
       "0  Movie Richard Finn, Tim Maltby Alan Marriott, ...  \n",
       "1  Movie  Jandino Asporaat United Kingdom 2016 TV...  "
      ]
     },
     "execution_count": 9,
     "metadata": {},
     "output_type": "execute_result"
    }
   ],
   "source": [
    "#taking titile and model1 column\n",
    "df=df.iloc[:,[0,11]]\n",
    "df.head(2)"
   ]
  },
  {
   "cell_type": "code",
   "execution_count": 10,
   "metadata": {
    "ExecuteTime": {
     "end_time": "2020-05-13T10:43:08.232748Z",
     "start_time": "2020-05-13T10:43:07.309492Z"
    },
    "scrolled": true
   },
   "outputs": [],
   "source": [
    "#NLP\n",
    "#from sklearn lib . module and imported class\n",
    "#we are taking a sentence and converting it to a vector so that we can draw some inference from it by seeking  out\n",
    "#the words that are repeating\n",
    "#tfidf is a technique which helps us to create document matrix from sentences\n",
    "\n",
    "\n",
    "from sklearn.feature_extraction.text import TfidfVectorizer\n",
    "\n",
    "#ngram_range 1-3 means we are taking a combination of 3 different words and we are stopping english words like it the is \n",
    "#an ngram_range of (1, 1) means only unigrams, (1, 2) means unigrams and bigrams, \n",
    "#and (2, 2) means only bigrams. Only applies if analyzer is not callable.\n",
    "\n",
    "#max_features parameter    -- If not None, build a vocabulary that only consider the top max_features ordered by term frequency across the corpus. \n",
    "#This parameter is ignored if vocabulary is not None.\n",
    "\n",
    "#min dif When building the vocabulary ignore terms that have a document frequency strictly lower than the given threshold. \n",
    "#This value is also called cut-off in the literature. If float, the parameter represents a proportion of documents,\n",
    "#integer absolute counts. This parameter is ignored if vocabulary is not None.\n",
    "\n",
    "#strip_accents{‘ascii’, ‘unicode’, None} (default=None)\n",
    "#Remove accents and perform other character normalization during the preprocessing step. \n",
    "#‘ascii’ is a fast method that only works on characters that have an direct ASCII mapping. \n",
    "#‘unicode’ is a slightly slower method that works on any characters. None (default) does nothing.\n",
    "\n",
    "\n",
    "#analyzerstr, {‘word’, ‘char’, ‘char_wb’} or callable\n",
    "#Whether the feature should be made of word or character n-grams. \n",
    "#Option ‘char_wb’ creates character n-grams only from text inside word boundaries; n-grams at \n",
    "#the edges of words are padded with space.\n",
    "#If a callable is passed it is used to extract the sequence of features out of the raw, unprocessed input\n",
    "\n",
    "#token_patternstr\n",
    "#Regular expression denoting what constitutes a “token”, only used if analyzer == 'word'. \n",
    "#The default regexp selects tokens of 2 or more alphanumeric characters (punctuation is completely \n",
    "#ignored and always treated as a token separator).\n",
    "\n",
    "\n",
    "tfv = TfidfVectorizer(min_df=3,  max_features=None, \n",
    "            strip_accents='unicode', analyzer='word',token_pattern=r'\\w{1,}',\n",
    "            ngram_range=(1, 3),\n",
    "            stop_words = 'english')\n",
    "\n",
    "# Filling NaNs with empty string\n",
    "df['model1'] = df['model1'].fillna('')"
   ]
  },
  {
   "cell_type": "code",
   "execution_count": 11,
   "metadata": {
    "ExecuteTime": {
     "end_time": "2020-05-13T10:43:12.377338Z",
     "start_time": "2020-05-13T10:43:08.232748Z"
    }
   },
   "outputs": [],
   "source": [
    "#a new matrix is created and the model is fitted to it and column is also stated\n",
    "tfv_matrix = tfv.fit_transform(df['model1'])"
   ]
  },
  {
   "cell_type": "code",
   "execution_count": 12,
   "metadata": {
    "ExecuteTime": {
     "end_time": "2020-05-13T10:43:12.385928Z",
     "start_time": "2020-05-13T10:43:12.380246Z"
    }
   },
   "outputs": [
    {
     "data": {
      "text/plain": [
       "<6234x26456 sparse matrix of type '<class 'numpy.float64'>'\n",
       "\twith 373561 stored elements in Compressed Sparse Row format>"
      ]
     },
     "execution_count": 12,
     "metadata": {},
     "output_type": "execute_result"
    }
   ],
   "source": [
    "#a matrix with vectors is created\n",
    "tfv_matrix"
   ]
  },
  {
   "cell_type": "code",
   "execution_count": 13,
   "metadata": {
    "ExecuteTime": {
     "end_time": "2020-05-13T10:43:17.209163Z",
     "start_time": "2020-05-13T10:43:12.388919Z"
    }
   },
   "outputs": [],
   "source": [
    "#sigmoid kernel is used in logistics regression \n",
    "#we get a curve bw 0 and 1 so it transforms output to 0 and 1\n",
    "\n",
    "from sklearn.metrics.pairwise import sigmoid_kernel\n",
    "sig = sigmoid_kernel(tfv_matrix, tfv_matrix)"
   ]
  },
  {
   "cell_type": "code",
   "execution_count": 14,
   "metadata": {
    "ExecuteTime": {
     "end_time": "2020-05-13T10:43:17.220980Z",
     "start_time": "2020-05-13T10:43:17.209163Z"
    }
   },
   "outputs": [
    {
     "data": {
      "text/plain": [
       "array([0.76161003, 0.76159424, 0.76159432, ..., 0.76159435, 0.76159442,\n",
       "       0.76159462])"
      ]
     },
     "execution_count": 14,
     "metadata": {},
     "output_type": "execute_result"
    }
   ],
   "source": [
    "sig[0]"
   ]
  },
  {
   "cell_type": "code",
   "execution_count": 15,
   "metadata": {
    "ExecuteTime": {
     "end_time": "2020-05-13T10:43:17.237352Z",
     "start_time": "2020-05-13T10:43:17.223970Z"
    }
   },
   "outputs": [],
   "source": [
    "#the title column has been set to indices\n",
    "indices = pd.Series(df.index, index=df['title']).drop_duplicates()"
   ]
  },
  {
   "cell_type": "code",
   "execution_count": 16,
   "metadata": {
    "ExecuteTime": {
     "end_time": "2020-05-13T10:43:17.245286Z",
     "start_time": "2020-05-13T10:43:17.240014Z"
    }
   },
   "outputs": [],
   "source": [
    "#indices"
   ]
  },
  {
   "cell_type": "code",
   "execution_count": 17,
   "metadata": {
    "ExecuteTime": {
     "end_time": "2020-05-13T10:43:17.253423Z",
     "start_time": "2020-05-13T10:43:17.247146Z"
    }
   },
   "outputs": [],
   "source": [
    "#indices['Friends']"
   ]
  },
  {
   "cell_type": "code",
   "execution_count": 18,
   "metadata": {
    "ExecuteTime": {
     "end_time": "2020-05-13T10:43:17.265886Z",
     "start_time": "2020-05-13T10:43:17.256415Z"
    }
   },
   "outputs": [
    {
     "data": {
      "text/plain": [
       "array([0.76159455, 0.76159478, 0.76159451, ..., 0.76159416, 0.76159515,\n",
       "       0.76159456])"
      ]
     },
     "execution_count": 18,
     "metadata": {},
     "output_type": "execute_result"
    }
   ],
   "source": [
    "#this is the vector for friends\n",
    "sig[4799]"
   ]
  },
  {
   "cell_type": "code",
   "execution_count": 19,
   "metadata": {
    "ExecuteTime": {
     "end_time": "2020-05-13T10:43:17.273920Z",
     "start_time": "2020-05-13T10:43:17.266917Z"
    }
   },
   "outputs": [],
   "source": [
    "#list(enumerate(sig[indices['Friends']]))"
   ]
  },
  {
   "cell_type": "code",
   "execution_count": 20,
   "metadata": {
    "ExecuteTime": {
     "end_time": "2020-05-13T10:43:17.281967Z",
     "start_time": "2020-05-13T10:43:17.275392Z"
    }
   },
   "outputs": [],
   "source": [
    "#the vector is sorted\n",
    "#sorted(list(enumerate(sig[indices['Friends']])), key=lambda x: x[1], reverse=True)"
   ]
  },
  {
   "cell_type": "code",
   "execution_count": 21,
   "metadata": {
    "ExecuteTime": {
     "end_time": "2020-05-13T10:43:17.293866Z",
     "start_time": "2020-05-13T10:43:17.284245Z"
    }
   },
   "outputs": [],
   "source": [
    "def give_rec(title, sig=sig):\n",
    "    # Get the index corresponding to original_title\n",
    "    idx = indices[title]\n",
    "\n",
    "    # Get the pairwsie similarity scores \n",
    "    sig_scores = list(enumerate(sig[idx]))\n",
    "\n",
    "    # Sort the movies \n",
    "    sig_scores = sorted(sig_scores, key=lambda x: x[1], reverse=True)\n",
    "\n",
    "    # Scores of the 10 most similar movies\n",
    "    sig_scores = sig_scores[1:21]\n",
    "\n",
    "    # Movie indices\n",
    "    movie_indices = [i[0] for i in sig_scores]\n",
    "\n",
    "    # Top 10 most similar movies\n",
    "    return df['title'].iloc[movie_indices]"
   ]
  },
  {
   "cell_type": "code",
   "execution_count": 22,
   "metadata": {
    "ExecuteTime": {
     "end_time": "2020-05-13T10:43:17.313097Z",
     "start_time": "2020-05-13T10:43:17.296257Z"
    }
   },
   "outputs": [
    {
     "data": {
      "text/plain": [
       "6225                                Frasier\n",
       "5987                               Episodes\n",
       "5830                             Dad's Army\n",
       "5980                 The Andy Griffith Show\n",
       "5981    The Twilight Zone (Original Series)\n",
       "5787                           Supernatural\n",
       "5699                             Still Game\n",
       "6094                    Pee-wee's Playhouse\n",
       "5976                                 Cheers\n",
       "5639                        Toast of London\n",
       "5585                                  Haven\n",
       "5704                              Star Trek\n",
       "5705                  Star Trek: Enterprise\n",
       "6072                    From Dusk Till Dawn\n",
       "5636                       The Walking Dead\n",
       "6166                                Jericho\n",
       "1827                    Roswell, New Mexico\n",
       "1600                   PasiÃ³n de Gavilanes\n",
       "5843                      Trailer Park Boys\n",
       "786         Charlie's Angels: Full Throttle\n",
       "Name: title, dtype: object"
      ]
     },
     "execution_count": 22,
     "metadata": {},
     "output_type": "execute_result"
    }
   ],
   "source": [
    "give_rec(k)"
   ]
  },
  {
   "cell_type": "code",
   "execution_count": 23,
   "metadata": {
    "ExecuteTime": {
     "end_time": "2020-05-13T10:43:17.332958Z",
     "start_time": "2020-05-13T10:43:17.317731Z"
    }
   },
   "outputs": [],
   "source": [
    "case1=list(give_rec(k))"
   ]
  },
  {
   "cell_type": "markdown",
   "metadata": {},
   "source": [
    "# Recommendation based on Cast, Genre, Type(TV show/ Movie), Director, Description, Release Year, Country, Duration "
   ]
  },
  {
   "cell_type": "code",
   "execution_count": 24,
   "metadata": {
    "ExecuteTime": {
     "end_time": "2020-05-13T10:43:17.344657Z",
     "start_time": "2020-05-13T10:43:17.336948Z"
    },
    "scrolled": true
   },
   "outputs": [
    {
     "data": {
      "text/plain": [
       "['Frasier',\n",
       " 'Episodes',\n",
       " \"Dad's Army\",\n",
       " 'The Andy Griffith Show',\n",
       " 'The Twilight Zone (Original Series)',\n",
       " 'Supernatural',\n",
       " 'Still Game',\n",
       " \"Pee-wee's Playhouse\",\n",
       " 'Cheers',\n",
       " 'Toast of London',\n",
       " 'Haven',\n",
       " 'Star Trek',\n",
       " 'Star Trek: Enterprise',\n",
       " 'From Dusk Till Dawn',\n",
       " 'The Walking Dead',\n",
       " 'Jericho',\n",
       " 'Roswell, New Mexico',\n",
       " 'PasiÃ³n de Gavilanes',\n",
       " 'Trailer Park Boys',\n",
       " \"Charlie's Angels: Full Throttle\"]"
      ]
     },
     "execution_count": 24,
     "metadata": {},
     "output_type": "execute_result"
    }
   ],
   "source": [
    "case1"
   ]
  },
  {
   "cell_type": "code",
   "execution_count": null,
   "metadata": {},
   "outputs": [],
   "source": []
  },
  {
   "cell_type": "code",
   "execution_count": null,
   "metadata": {},
   "outputs": [],
   "source": []
  },
  {
   "cell_type": "markdown",
   "metadata": {},
   "source": [
    "# CASE2"
   ]
  },
  {
   "cell_type": "markdown",
   "metadata": {},
   "source": [
    "LISTED IN, Type"
   ]
  },
  {
   "cell_type": "code",
   "execution_count": 25,
   "metadata": {
    "ExecuteTime": {
     "end_time": "2020-05-13T10:43:17.373395Z",
     "start_time": "2020-05-13T10:43:17.347652Z"
    }
   },
   "outputs": [
    {
     "data": {
      "text/html": [
       "<div>\n",
       "<style scoped>\n",
       "    .dataframe tbody tr th:only-of-type {\n",
       "        vertical-align: middle;\n",
       "    }\n",
       "\n",
       "    .dataframe tbody tr th {\n",
       "        vertical-align: top;\n",
       "    }\n",
       "\n",
       "    .dataframe thead th {\n",
       "        text-align: right;\n",
       "    }\n",
       "</style>\n",
       "<table border=\"1\" class=\"dataframe\">\n",
       "  <thead>\n",
       "    <tr style=\"text-align: right;\">\n",
       "      <th></th>\n",
       "      <th>title</th>\n",
       "      <th>type</th>\n",
       "      <th>director</th>\n",
       "      <th>cast</th>\n",
       "      <th>country</th>\n",
       "      <th>date_added</th>\n",
       "      <th>release_year</th>\n",
       "      <th>rating</th>\n",
       "      <th>duration</th>\n",
       "      <th>listed_in</th>\n",
       "      <th>description</th>\n",
       "    </tr>\n",
       "  </thead>\n",
       "  <tbody>\n",
       "    <tr>\n",
       "      <th>0</th>\n",
       "      <td>Norm of the North: King Sized Adventure</td>\n",
       "      <td>Movie</td>\n",
       "      <td>Richard Finn, Tim Maltby</td>\n",
       "      <td>Alan Marriott, Andrew Toth, Brian Dobson, Cole...</td>\n",
       "      <td>United States, India, South Korea, China</td>\n",
       "      <td>2019-09-09 00:00:00</td>\n",
       "      <td>2019</td>\n",
       "      <td>TV-PG</td>\n",
       "      <td>90 min</td>\n",
       "      <td>Children &amp; Family Movies, Comedies</td>\n",
       "      <td>Before planning an awesome wedding for his gra...</td>\n",
       "    </tr>\n",
       "    <tr>\n",
       "      <th>1</th>\n",
       "      <td>Jandino: Whatever it Takes</td>\n",
       "      <td>Movie</td>\n",
       "      <td>NaN</td>\n",
       "      <td>Jandino Asporaat</td>\n",
       "      <td>United Kingdom</td>\n",
       "      <td>2016-09-09 00:00:00</td>\n",
       "      <td>2016</td>\n",
       "      <td>TV-MA</td>\n",
       "      <td>94 min</td>\n",
       "      <td>Stand-Up Comedy</td>\n",
       "      <td>Jandino Asporaat riffs on the challenges of ra...</td>\n",
       "    </tr>\n",
       "  </tbody>\n",
       "</table>\n",
       "</div>"
      ],
      "text/plain": [
       "                                     title   type                  director  \\\n",
       "0  Norm of the North: King Sized Adventure  Movie  Richard Finn, Tim Maltby   \n",
       "1               Jandino: Whatever it Takes  Movie                       NaN   \n",
       "\n",
       "                                                cast  \\\n",
       "0  Alan Marriott, Andrew Toth, Brian Dobson, Cole...   \n",
       "1                                   Jandino Asporaat   \n",
       "\n",
       "                                    country           date_added  \\\n",
       "0  United States, India, South Korea, China  2019-09-09 00:00:00   \n",
       "1                            United Kingdom  2016-09-09 00:00:00   \n",
       "\n",
       "   release_year rating duration                           listed_in  \\\n",
       "0          2019  TV-PG   90 min  Children & Family Movies, Comedies   \n",
       "1          2016  TV-MA   94 min                     Stand-Up Comedy   \n",
       "\n",
       "                                         description  \n",
       "0  Before planning an awesome wedding for his gra...  \n",
       "1  Jandino Asporaat riffs on the challenges of ra...  "
      ]
     },
     "execution_count": 25,
     "metadata": {},
     "output_type": "execute_result"
    }
   ],
   "source": [
    "df1.head(2)"
   ]
  },
  {
   "cell_type": "code",
   "execution_count": 26,
   "metadata": {
    "ExecuteTime": {
     "end_time": "2020-05-13T10:43:17.411611Z",
     "start_time": "2020-05-13T10:43:17.376387Z"
    }
   },
   "outputs": [],
   "source": [
    "df1 = df1.replace(np.nan, '', regex=True)\n",
    "df1['release_year'] = df1['release_year'].astype(str)\n",
    "df1['duration'] = df1['duration'].astype(str)\n",
    "df1['date_added'] = df1['date_added'].astype(str)"
   ]
  },
  {
   "cell_type": "code",
   "execution_count": 27,
   "metadata": {
    "ExecuteTime": {
     "end_time": "2020-05-13T10:43:17.422853Z",
     "start_time": "2020-05-13T10:43:17.413646Z"
    }
   },
   "outputs": [],
   "source": [
    "df1[\"model1\"] = df1[\"type\"]+\" \"+ df1[\"listed_in\"]"
   ]
  },
  {
   "cell_type": "code",
   "execution_count": 28,
   "metadata": {
    "ExecuteTime": {
     "end_time": "2020-05-13T10:43:17.452904Z",
     "start_time": "2020-05-13T10:43:17.425129Z"
    }
   },
   "outputs": [
    {
     "data": {
      "text/html": [
       "<div>\n",
       "<style scoped>\n",
       "    .dataframe tbody tr th:only-of-type {\n",
       "        vertical-align: middle;\n",
       "    }\n",
       "\n",
       "    .dataframe tbody tr th {\n",
       "        vertical-align: top;\n",
       "    }\n",
       "\n",
       "    .dataframe thead th {\n",
       "        text-align: right;\n",
       "    }\n",
       "</style>\n",
       "<table border=\"1\" class=\"dataframe\">\n",
       "  <thead>\n",
       "    <tr style=\"text-align: right;\">\n",
       "      <th></th>\n",
       "      <th>title</th>\n",
       "      <th>model1</th>\n",
       "    </tr>\n",
       "  </thead>\n",
       "  <tbody>\n",
       "    <tr>\n",
       "      <th>0</th>\n",
       "      <td>Norm of the North: King Sized Adventure</td>\n",
       "      <td>Movie Richard Finn, Tim Maltby Alan Marriott, ...</td>\n",
       "    </tr>\n",
       "    <tr>\n",
       "      <th>1</th>\n",
       "      <td>Jandino: Whatever it Takes</td>\n",
       "      <td>Movie  Jandino Asporaat United Kingdom 2016 TV...</td>\n",
       "    </tr>\n",
       "    <tr>\n",
       "      <th>2</th>\n",
       "      <td>Transformers Prime</td>\n",
       "      <td>TV Show  Peter Cullen, Sumalee Montano, Frank ...</td>\n",
       "    </tr>\n",
       "    <tr>\n",
       "      <th>3</th>\n",
       "      <td>Transformers: Robots in Disguise</td>\n",
       "      <td>TV Show  Will Friedle, Darren Criss, Constance...</td>\n",
       "    </tr>\n",
       "    <tr>\n",
       "      <th>4</th>\n",
       "      <td>#realityhigh</td>\n",
       "      <td>Movie Fernando Lebrija Nesta Cooper, Kate Wals...</td>\n",
       "    </tr>\n",
       "  </tbody>\n",
       "</table>\n",
       "</div>"
      ],
      "text/plain": [
       "                                     title  \\\n",
       "0  Norm of the North: King Sized Adventure   \n",
       "1               Jandino: Whatever it Takes   \n",
       "2                       Transformers Prime   \n",
       "3         Transformers: Robots in Disguise   \n",
       "4                             #realityhigh   \n",
       "\n",
       "                                              model1  \n",
       "0  Movie Richard Finn, Tim Maltby Alan Marriott, ...  \n",
       "1  Movie  Jandino Asporaat United Kingdom 2016 TV...  \n",
       "2  TV Show  Peter Cullen, Sumalee Montano, Frank ...  \n",
       "3  TV Show  Will Friedle, Darren Criss, Constance...  \n",
       "4  Movie Fernando Lebrija Nesta Cooper, Kate Wals...  "
      ]
     },
     "execution_count": 28,
     "metadata": {},
     "output_type": "execute_result"
    }
   ],
   "source": [
    "df1=df1.iloc[:,[0,11]]\n",
    "df.head()"
   ]
  },
  {
   "cell_type": "code",
   "execution_count": 29,
   "metadata": {
    "ExecuteTime": {
     "end_time": "2020-05-13T10:43:17.519987Z",
     "start_time": "2020-05-13T10:43:17.455649Z"
    }
   },
   "outputs": [],
   "source": [
    "from sklearn.feature_extraction.text import TfidfVectorizer\n",
    "\n",
    "\n",
    "tfv = TfidfVectorizer(min_df=3,  max_features=None, \n",
    "            strip_accents='unicode', analyzer='word',token_pattern=r'\\w{1,}',\n",
    "            ngram_range=(1, 3),\n",
    "            stop_words = 'english')\n",
    "\n",
    "# Filling NaNs with empty string\n",
    "df1['model1'] = df1['model1'].fillna('')"
   ]
  },
  {
   "cell_type": "code",
   "execution_count": 30,
   "metadata": {
    "ExecuteTime": {
     "end_time": "2020-05-13T10:43:17.709609Z",
     "start_time": "2020-05-13T10:43:17.521983Z"
    }
   },
   "outputs": [],
   "source": [
    "tfv_matrix = tfv.fit_transform(df1['model1'])"
   ]
  },
  {
   "cell_type": "code",
   "execution_count": 31,
   "metadata": {
    "ExecuteTime": {
     "end_time": "2020-05-13T10:43:21.027004Z",
     "start_time": "2020-05-13T10:43:17.710570Z"
    }
   },
   "outputs": [],
   "source": [
    "from sklearn.metrics.pairwise import sigmoid_kernel\n",
    "sig = sigmoid_kernel(tfv_matrix, tfv_matrix)"
   ]
  },
  {
   "cell_type": "code",
   "execution_count": 32,
   "metadata": {
    "ExecuteTime": {
     "end_time": "2020-05-13T10:43:21.039359Z",
     "start_time": "2020-05-13T10:43:21.028042Z"
    }
   },
   "outputs": [],
   "source": [
    "indices = pd.Series(df1.index, index=df1['title']).drop_duplicates()"
   ]
  },
  {
   "cell_type": "code",
   "execution_count": 33,
   "metadata": {
    "ExecuteTime": {
     "end_time": "2020-05-13T10:43:21.056054Z",
     "start_time": "2020-05-13T10:43:21.044347Z"
    }
   },
   "outputs": [],
   "source": [
    "def give_rec(title, sig=sig):\n",
    "    # Get the index corresponding to original_title\n",
    "    idx = indices[title]\n",
    "\n",
    "    # Get the pairwsie similarity scores \n",
    "    sig_scores = list(enumerate(sig[idx]))\n",
    "\n",
    "    # Sort the movies \n",
    "    sig_scores = sorted(sig_scores, key=lambda x: x[1], reverse=True)\n",
    "\n",
    "    # Scores of the 10 most similar movies\n",
    "    sig_scores = sig_scores[1:21]\n",
    "\n",
    "    # Movie indices\n",
    "    movie_indices = [i[0] for i in sig_scores]\n",
    "\n",
    "    # Top 10 most similar movies\n",
    "    return df1['title'].iloc[movie_indices]"
   ]
  },
  {
   "cell_type": "code",
   "execution_count": 34,
   "metadata": {
    "ExecuteTime": {
     "end_time": "2020-05-13T10:43:21.075606Z",
     "start_time": "2020-05-13T10:43:21.059051Z"
    }
   },
   "outputs": [
    {
     "data": {
      "text/plain": [
       "5980                 The Andy Griffith Show\n",
       "5987                               Episodes\n",
       "6225                                Frasier\n",
       "6233                                Friends\n",
       "6094                    Pee-wee's Playhouse\n",
       "5981    The Twilight Zone (Original Series)\n",
       "5636                       The Walking Dead\n",
       "6166                                Jericho\n",
       "5787                           Supernatural\n",
       "6072                    From Dusk Till Dawn\n",
       "5585                                  Haven\n",
       "1827                    Roswell, New Mexico\n",
       "5704                              Star Trek\n",
       "5705                  Star Trek: Enterprise\n",
       "5982                             Twin Peaks\n",
       "5639                        Toast of London\n",
       "5699                             Still Game\n",
       "5830                             Dad's Army\n",
       "3390                   La Rosa de Guadalupe\n",
       "5843                      Trailer Park Boys\n",
       "Name: title, dtype: object"
      ]
     },
     "execution_count": 34,
     "metadata": {},
     "output_type": "execute_result"
    }
   ],
   "source": [
    "give_rec(k)"
   ]
  },
  {
   "cell_type": "code",
   "execution_count": 35,
   "metadata": {
    "ExecuteTime": {
     "end_time": "2020-05-13T10:43:21.088950Z",
     "start_time": "2020-05-13T10:43:21.077602Z"
    }
   },
   "outputs": [],
   "source": [
    "case2=list(give_rec(k))"
   ]
  },
  {
   "cell_type": "markdown",
   "metadata": {},
   "source": [
    "# Recommendation based on Genre, Type(TV show/ Movie)"
   ]
  },
  {
   "cell_type": "code",
   "execution_count": 36,
   "metadata": {
    "ExecuteTime": {
     "end_time": "2020-05-13T10:43:21.099544Z",
     "start_time": "2020-05-13T10:43:21.090440Z"
    }
   },
   "outputs": [
    {
     "data": {
      "text/plain": [
       "['The Andy Griffith Show',\n",
       " 'Episodes',\n",
       " 'Frasier',\n",
       " 'Friends',\n",
       " \"Pee-wee's Playhouse\",\n",
       " 'The Twilight Zone (Original Series)',\n",
       " 'The Walking Dead',\n",
       " 'Jericho',\n",
       " 'Supernatural',\n",
       " 'From Dusk Till Dawn',\n",
       " 'Haven',\n",
       " 'Roswell, New Mexico',\n",
       " 'Star Trek',\n",
       " 'Star Trek: Enterprise',\n",
       " 'Twin Peaks',\n",
       " 'Toast of London',\n",
       " 'Still Game',\n",
       " \"Dad's Army\",\n",
       " 'La Rosa de Guadalupe',\n",
       " 'Trailer Park Boys']"
      ]
     },
     "execution_count": 36,
     "metadata": {},
     "output_type": "execute_result"
    }
   ],
   "source": [
    "case2"
   ]
  },
  {
   "cell_type": "code",
   "execution_count": null,
   "metadata": {},
   "outputs": [],
   "source": []
  },
  {
   "cell_type": "code",
   "execution_count": null,
   "metadata": {},
   "outputs": [],
   "source": []
  },
  {
   "cell_type": "markdown",
   "metadata": {},
   "source": [
    "# Case3"
   ]
  },
  {
   "cell_type": "markdown",
   "metadata": {},
   "source": [
    "Country, release_year, listed_in"
   ]
  },
  {
   "cell_type": "code",
   "execution_count": 37,
   "metadata": {
    "ExecuteTime": {
     "end_time": "2020-05-13T10:43:21.128644Z",
     "start_time": "2020-05-13T10:43:21.101747Z"
    }
   },
   "outputs": [
    {
     "data": {
      "text/html": [
       "<div>\n",
       "<style scoped>\n",
       "    .dataframe tbody tr th:only-of-type {\n",
       "        vertical-align: middle;\n",
       "    }\n",
       "\n",
       "    .dataframe tbody tr th {\n",
       "        vertical-align: top;\n",
       "    }\n",
       "\n",
       "    .dataframe thead th {\n",
       "        text-align: right;\n",
       "    }\n",
       "</style>\n",
       "<table border=\"1\" class=\"dataframe\">\n",
       "  <thead>\n",
       "    <tr style=\"text-align: right;\">\n",
       "      <th></th>\n",
       "      <th>title</th>\n",
       "      <th>type</th>\n",
       "      <th>director</th>\n",
       "      <th>cast</th>\n",
       "      <th>country</th>\n",
       "      <th>date_added</th>\n",
       "      <th>release_year</th>\n",
       "      <th>rating</th>\n",
       "      <th>duration</th>\n",
       "      <th>listed_in</th>\n",
       "      <th>description</th>\n",
       "    </tr>\n",
       "  </thead>\n",
       "  <tbody>\n",
       "    <tr>\n",
       "      <th>0</th>\n",
       "      <td>Norm of the North: King Sized Adventure</td>\n",
       "      <td>Movie</td>\n",
       "      <td>Richard Finn, Tim Maltby</td>\n",
       "      <td>Alan Marriott, Andrew Toth, Brian Dobson, Cole...</td>\n",
       "      <td>United States, India, South Korea, China</td>\n",
       "      <td>2019-09-09 00:00:00</td>\n",
       "      <td>2019</td>\n",
       "      <td>TV-PG</td>\n",
       "      <td>90 min</td>\n",
       "      <td>Children &amp; Family Movies, Comedies</td>\n",
       "      <td>Before planning an awesome wedding for his gra...</td>\n",
       "    </tr>\n",
       "    <tr>\n",
       "      <th>1</th>\n",
       "      <td>Jandino: Whatever it Takes</td>\n",
       "      <td>Movie</td>\n",
       "      <td>NaN</td>\n",
       "      <td>Jandino Asporaat</td>\n",
       "      <td>United Kingdom</td>\n",
       "      <td>2016-09-09 00:00:00</td>\n",
       "      <td>2016</td>\n",
       "      <td>TV-MA</td>\n",
       "      <td>94 min</td>\n",
       "      <td>Stand-Up Comedy</td>\n",
       "      <td>Jandino Asporaat riffs on the challenges of ra...</td>\n",
       "    </tr>\n",
       "  </tbody>\n",
       "</table>\n",
       "</div>"
      ],
      "text/plain": [
       "                                     title   type                  director  \\\n",
       "0  Norm of the North: King Sized Adventure  Movie  Richard Finn, Tim Maltby   \n",
       "1               Jandino: Whatever it Takes  Movie                       NaN   \n",
       "\n",
       "                                                cast  \\\n",
       "0  Alan Marriott, Andrew Toth, Brian Dobson, Cole...   \n",
       "1                                   Jandino Asporaat   \n",
       "\n",
       "                                    country           date_added  \\\n",
       "0  United States, India, South Korea, China  2019-09-09 00:00:00   \n",
       "1                            United Kingdom  2016-09-09 00:00:00   \n",
       "\n",
       "   release_year rating duration                           listed_in  \\\n",
       "0          2019  TV-PG   90 min  Children & Family Movies, Comedies   \n",
       "1          2016  TV-MA   94 min                     Stand-Up Comedy   \n",
       "\n",
       "                                         description  \n",
       "0  Before planning an awesome wedding for his gra...  \n",
       "1  Jandino Asporaat riffs on the challenges of ra...  "
      ]
     },
     "execution_count": 37,
     "metadata": {},
     "output_type": "execute_result"
    }
   ],
   "source": [
    "df2.head(2)"
   ]
  },
  {
   "cell_type": "code",
   "execution_count": 38,
   "metadata": {
    "ExecuteTime": {
     "end_time": "2020-05-13T10:43:21.195338Z",
     "start_time": "2020-05-13T10:43:21.132845Z"
    }
   },
   "outputs": [],
   "source": [
    "df2 = df2.replace(np.nan, '', regex=True)\n",
    "df2 = df2.replace(np.nan, '', regex=True)\n",
    "df2['release_year'] = df2['release_year'].astype(str)\n",
    "df2['duration'] = df2['duration'].astype(str)\n",
    "df2['date_added'] = df2['date_added'].astype(str)"
   ]
  },
  {
   "cell_type": "code",
   "execution_count": 39,
   "metadata": {
    "ExecuteTime": {
     "end_time": "2020-05-13T10:43:21.223241Z",
     "start_time": "2020-05-13T10:43:21.201125Z"
    }
   },
   "outputs": [],
   "source": [
    "df2[\"model1\"] = df2[\"country\"]+\" \"+ df2[\"listed_in\"]+\" \"+ df2[\"release_year\"]"
   ]
  },
  {
   "cell_type": "code",
   "execution_count": 40,
   "metadata": {
    "ExecuteTime": {
     "end_time": "2020-05-13T10:43:21.260603Z",
     "start_time": "2020-05-13T10:43:21.230696Z"
    }
   },
   "outputs": [],
   "source": [
    "df2=df2.iloc[:,[0,11]]"
   ]
  },
  {
   "cell_type": "code",
   "execution_count": 41,
   "metadata": {
    "ExecuteTime": {
     "end_time": "2020-05-13T10:43:21.300717Z",
     "start_time": "2020-05-13T10:43:21.270106Z"
    }
   },
   "outputs": [
    {
     "data": {
      "text/html": [
       "<div>\n",
       "<style scoped>\n",
       "    .dataframe tbody tr th:only-of-type {\n",
       "        vertical-align: middle;\n",
       "    }\n",
       "\n",
       "    .dataframe tbody tr th {\n",
       "        vertical-align: top;\n",
       "    }\n",
       "\n",
       "    .dataframe thead th {\n",
       "        text-align: right;\n",
       "    }\n",
       "</style>\n",
       "<table border=\"1\" class=\"dataframe\">\n",
       "  <thead>\n",
       "    <tr style=\"text-align: right;\">\n",
       "      <th></th>\n",
       "      <th>title</th>\n",
       "      <th>model1</th>\n",
       "    </tr>\n",
       "  </thead>\n",
       "  <tbody>\n",
       "    <tr>\n",
       "      <th>0</th>\n",
       "      <td>Norm of the North: King Sized Adventure</td>\n",
       "      <td>United States, India, South Korea, China Child...</td>\n",
       "    </tr>\n",
       "    <tr>\n",
       "      <th>1</th>\n",
       "      <td>Jandino: Whatever it Takes</td>\n",
       "      <td>United Kingdom Stand-Up Comedy 2016</td>\n",
       "    </tr>\n",
       "    <tr>\n",
       "      <th>2</th>\n",
       "      <td>Transformers Prime</td>\n",
       "      <td>United States Kids' TV 2013</td>\n",
       "    </tr>\n",
       "    <tr>\n",
       "      <th>3</th>\n",
       "      <td>Transformers: Robots in Disguise</td>\n",
       "      <td>United States Kids' TV 2016</td>\n",
       "    </tr>\n",
       "    <tr>\n",
       "      <th>4</th>\n",
       "      <td>#realityhigh</td>\n",
       "      <td>United States Comedies 2017</td>\n",
       "    </tr>\n",
       "  </tbody>\n",
       "</table>\n",
       "</div>"
      ],
      "text/plain": [
       "                                     title  \\\n",
       "0  Norm of the North: King Sized Adventure   \n",
       "1               Jandino: Whatever it Takes   \n",
       "2                       Transformers Prime   \n",
       "3         Transformers: Robots in Disguise   \n",
       "4                             #realityhigh   \n",
       "\n",
       "                                              model1  \n",
       "0  United States, India, South Korea, China Child...  \n",
       "1                United Kingdom Stand-Up Comedy 2016  \n",
       "2                        United States Kids' TV 2013  \n",
       "3                        United States Kids' TV 2016  \n",
       "4                        United States Comedies 2017  "
      ]
     },
     "execution_count": 41,
     "metadata": {},
     "output_type": "execute_result"
    }
   ],
   "source": [
    "df2.head()"
   ]
  },
  {
   "cell_type": "code",
   "execution_count": 42,
   "metadata": {
    "ExecuteTime": {
     "end_time": "2020-05-13T10:43:21.332251Z",
     "start_time": "2020-05-13T10:43:21.309891Z"
    }
   },
   "outputs": [],
   "source": [
    "from sklearn.feature_extraction.text import TfidfVectorizer\n",
    "\n",
    "\n",
    "tfv = TfidfVectorizer(min_df=3,  max_features=None, \n",
    "            strip_accents='unicode', analyzer='word',token_pattern=r'\\w{1,}',\n",
    "            ngram_range=(1, 3),\n",
    "            stop_words = 'english')\n",
    "\n",
    "# Filling NaNs with empty string\n",
    "df2['model1'] = df2['model1'].fillna('')"
   ]
  },
  {
   "cell_type": "code",
   "execution_count": 43,
   "metadata": {
    "ExecuteTime": {
     "end_time": "2020-05-13T10:43:21.645282Z",
     "start_time": "2020-05-13T10:43:21.337391Z"
    }
   },
   "outputs": [],
   "source": [
    "tfv_matrix = tfv.fit_transform(df2['model1'])"
   ]
  },
  {
   "cell_type": "code",
   "execution_count": 44,
   "metadata": {
    "ExecuteTime": {
     "end_time": "2020-05-13T10:43:25.198320Z",
     "start_time": "2020-05-13T10:43:21.647903Z"
    }
   },
   "outputs": [],
   "source": [
    "from sklearn.metrics.pairwise import sigmoid_kernel\n",
    "sig = sigmoid_kernel(tfv_matrix, tfv_matrix)\n",
    "\n",
    "indices = pd.Series(df2.index, index=df2['title']).drop_duplicates()\n",
    "\n"
   ]
  },
  {
   "cell_type": "code",
   "execution_count": 45,
   "metadata": {
    "ExecuteTime": {
     "end_time": "2020-05-13T10:43:25.271685Z",
     "start_time": "2020-05-13T10:43:25.202203Z"
    }
   },
   "outputs": [],
   "source": [
    "def give_rec(title, sig=sig):\n",
    "    # Get the index corresponding to original_title\n",
    "    idx = indices[title]\n",
    "\n",
    "    # Get the pairwsie similarity scores \n",
    "    sig_scores = list(enumerate(sig[idx]))\n",
    "\n",
    "    # Sort the movies \n",
    "    sig_scores = sorted(sig_scores, key=lambda x: x[1], reverse=True)\n",
    "\n",
    "    # Scores of the 10 most similar movies\n",
    "    sig_scores = sig_scores[1:21]\n",
    "\n",
    "    # Movie indices\n",
    "    movie_indices = [i[0] for i in sig_scores]\n",
    "\n",
    "    # Top 10 most similar movies\n",
    "    return df2['title'].iloc[movie_indices]"
   ]
  },
  {
   "cell_type": "code",
   "execution_count": 46,
   "metadata": {
    "ExecuteTime": {
     "end_time": "2020-05-13T10:43:25.291917Z",
     "start_time": "2020-05-13T10:43:25.274137Z"
    }
   },
   "outputs": [
    {
     "data": {
      "text/plain": [
       "6233                                    Friends\n",
       "5980                     The Andy Griffith Show\n",
       "5976                                     Cheers\n",
       "6094                        Pee-wee's Playhouse\n",
       "5981        The Twilight Zone (Original Series)\n",
       "5636                           The Walking Dead\n",
       "5585                                      Haven\n",
       "6166                                    Jericho\n",
       "5787                               Supernatural\n",
       "1827                        Roswell, New Mexico\n",
       "6072                        From Dusk Till Dawn\n",
       "5704                                  Star Trek\n",
       "5987                                   Episodes\n",
       "5705                      Star Trek: Enterprise\n",
       "5830                                 Dad's Army\n",
       "5982                                 Twin Peaks\n",
       "5699                                 Still Game\n",
       "5639                            Toast of London\n",
       "5725                                   Kopitiam\n",
       "791     Dumb and Dumberer: When Harry Met Lloyd\n",
       "Name: title, dtype: object"
      ]
     },
     "execution_count": 46,
     "metadata": {},
     "output_type": "execute_result"
    }
   ],
   "source": [
    "give_rec(k)"
   ]
  },
  {
   "cell_type": "code",
   "execution_count": 47,
   "metadata": {
    "ExecuteTime": {
     "end_time": "2020-05-13T10:43:25.311899Z",
     "start_time": "2020-05-13T10:43:25.296161Z"
    }
   },
   "outputs": [],
   "source": [
    "case3=list(give_rec(k))"
   ]
  },
  {
   "cell_type": "markdown",
   "metadata": {},
   "source": [
    "# Recommendation based on Genre,Release Year, Country"
   ]
  },
  {
   "cell_type": "code",
   "execution_count": 48,
   "metadata": {
    "ExecuteTime": {
     "end_time": "2020-05-13T10:43:25.324332Z",
     "start_time": "2020-05-13T10:43:25.312897Z"
    }
   },
   "outputs": [
    {
     "data": {
      "text/plain": [
       "['Friends',\n",
       " 'The Andy Griffith Show',\n",
       " 'Cheers',\n",
       " \"Pee-wee's Playhouse\",\n",
       " 'The Twilight Zone (Original Series)',\n",
       " 'The Walking Dead',\n",
       " 'Haven',\n",
       " 'Jericho',\n",
       " 'Supernatural',\n",
       " 'Roswell, New Mexico',\n",
       " 'From Dusk Till Dawn',\n",
       " 'Star Trek',\n",
       " 'Episodes',\n",
       " 'Star Trek: Enterprise',\n",
       " \"Dad's Army\",\n",
       " 'Twin Peaks',\n",
       " 'Still Game',\n",
       " 'Toast of London',\n",
       " 'Kopitiam',\n",
       " 'Dumb and Dumberer: When Harry Met Lloyd']"
      ]
     },
     "execution_count": 48,
     "metadata": {},
     "output_type": "execute_result"
    }
   ],
   "source": [
    "case3"
   ]
  },
  {
   "cell_type": "code",
   "execution_count": null,
   "metadata": {},
   "outputs": [],
   "source": []
  },
  {
   "cell_type": "code",
   "execution_count": null,
   "metadata": {},
   "outputs": [],
   "source": []
  },
  {
   "cell_type": "markdown",
   "metadata": {},
   "source": [
    "# Case4"
   ]
  },
  {
   "cell_type": "markdown",
   "metadata": {},
   "source": [
    "listed-in, Cast"
   ]
  },
  {
   "cell_type": "code",
   "execution_count": 49,
   "metadata": {
    "ExecuteTime": {
     "end_time": "2020-05-13T10:43:25.354459Z",
     "start_time": "2020-05-13T10:43:25.327350Z"
    }
   },
   "outputs": [
    {
     "data": {
      "text/html": [
       "<div>\n",
       "<style scoped>\n",
       "    .dataframe tbody tr th:only-of-type {\n",
       "        vertical-align: middle;\n",
       "    }\n",
       "\n",
       "    .dataframe tbody tr th {\n",
       "        vertical-align: top;\n",
       "    }\n",
       "\n",
       "    .dataframe thead th {\n",
       "        text-align: right;\n",
       "    }\n",
       "</style>\n",
       "<table border=\"1\" class=\"dataframe\">\n",
       "  <thead>\n",
       "    <tr style=\"text-align: right;\">\n",
       "      <th></th>\n",
       "      <th>title</th>\n",
       "      <th>type</th>\n",
       "      <th>director</th>\n",
       "      <th>cast</th>\n",
       "      <th>country</th>\n",
       "      <th>date_added</th>\n",
       "      <th>release_year</th>\n",
       "      <th>rating</th>\n",
       "      <th>duration</th>\n",
       "      <th>listed_in</th>\n",
       "      <th>description</th>\n",
       "    </tr>\n",
       "  </thead>\n",
       "  <tbody>\n",
       "    <tr>\n",
       "      <th>0</th>\n",
       "      <td>Norm of the North: King Sized Adventure</td>\n",
       "      <td>Movie</td>\n",
       "      <td>Richard Finn, Tim Maltby</td>\n",
       "      <td>Alan Marriott, Andrew Toth, Brian Dobson, Cole...</td>\n",
       "      <td>United States, India, South Korea, China</td>\n",
       "      <td>2019-09-09 00:00:00</td>\n",
       "      <td>2019</td>\n",
       "      <td>TV-PG</td>\n",
       "      <td>90 min</td>\n",
       "      <td>Children &amp; Family Movies, Comedies</td>\n",
       "      <td>Before planning an awesome wedding for his gra...</td>\n",
       "    </tr>\n",
       "    <tr>\n",
       "      <th>1</th>\n",
       "      <td>Jandino: Whatever it Takes</td>\n",
       "      <td>Movie</td>\n",
       "      <td>NaN</td>\n",
       "      <td>Jandino Asporaat</td>\n",
       "      <td>United Kingdom</td>\n",
       "      <td>2016-09-09 00:00:00</td>\n",
       "      <td>2016</td>\n",
       "      <td>TV-MA</td>\n",
       "      <td>94 min</td>\n",
       "      <td>Stand-Up Comedy</td>\n",
       "      <td>Jandino Asporaat riffs on the challenges of ra...</td>\n",
       "    </tr>\n",
       "  </tbody>\n",
       "</table>\n",
       "</div>"
      ],
      "text/plain": [
       "                                     title   type                  director  \\\n",
       "0  Norm of the North: King Sized Adventure  Movie  Richard Finn, Tim Maltby   \n",
       "1               Jandino: Whatever it Takes  Movie                       NaN   \n",
       "\n",
       "                                                cast  \\\n",
       "0  Alan Marriott, Andrew Toth, Brian Dobson, Cole...   \n",
       "1                                   Jandino Asporaat   \n",
       "\n",
       "                                    country           date_added  \\\n",
       "0  United States, India, South Korea, China  2019-09-09 00:00:00   \n",
       "1                            United Kingdom  2016-09-09 00:00:00   \n",
       "\n",
       "   release_year rating duration                           listed_in  \\\n",
       "0          2019  TV-PG   90 min  Children & Family Movies, Comedies   \n",
       "1          2016  TV-MA   94 min                     Stand-Up Comedy   \n",
       "\n",
       "                                         description  \n",
       "0  Before planning an awesome wedding for his gra...  \n",
       "1  Jandino Asporaat riffs on the challenges of ra...  "
      ]
     },
     "execution_count": 49,
     "metadata": {},
     "output_type": "execute_result"
    }
   ],
   "source": [
    "df3.head(2)"
   ]
  },
  {
   "cell_type": "code",
   "execution_count": 50,
   "metadata": {
    "ExecuteTime": {
     "end_time": "2020-05-13T10:43:25.421338Z",
     "start_time": "2020-05-13T10:43:25.357452Z"
    }
   },
   "outputs": [
    {
     "data": {
      "text/html": [
       "<div>\n",
       "<style scoped>\n",
       "    .dataframe tbody tr th:only-of-type {\n",
       "        vertical-align: middle;\n",
       "    }\n",
       "\n",
       "    .dataframe tbody tr th {\n",
       "        vertical-align: top;\n",
       "    }\n",
       "\n",
       "    .dataframe thead th {\n",
       "        text-align: right;\n",
       "    }\n",
       "</style>\n",
       "<table border=\"1\" class=\"dataframe\">\n",
       "  <thead>\n",
       "    <tr style=\"text-align: right;\">\n",
       "      <th></th>\n",
       "      <th>title</th>\n",
       "      <th>model1</th>\n",
       "    </tr>\n",
       "  </thead>\n",
       "  <tbody>\n",
       "    <tr>\n",
       "      <th>0</th>\n",
       "      <td>Norm of the North: King Sized Adventure</td>\n",
       "      <td>Alan Marriott, Andrew Toth, Brian Dobson, Cole...</td>\n",
       "    </tr>\n",
       "    <tr>\n",
       "      <th>1</th>\n",
       "      <td>Jandino: Whatever it Takes</td>\n",
       "      <td>Jandino Asporaat Stand-Up Comedy</td>\n",
       "    </tr>\n",
       "  </tbody>\n",
       "</table>\n",
       "</div>"
      ],
      "text/plain": [
       "                                     title  \\\n",
       "0  Norm of the North: King Sized Adventure   \n",
       "1               Jandino: Whatever it Takes   \n",
       "\n",
       "                                              model1  \n",
       "0  Alan Marriott, Andrew Toth, Brian Dobson, Cole...  \n",
       "1                   Jandino Asporaat Stand-Up Comedy  "
      ]
     },
     "execution_count": 50,
     "metadata": {},
     "output_type": "execute_result"
    }
   ],
   "source": [
    "df3 = df3.replace(np.nan, '', regex=True)\n",
    "df3['release_year'] = df3['release_year'].astype(str)\n",
    "df3['duration'] = df3['duration'].astype(str)\n",
    "df3['date_added'] = df3['date_added'].astype(str)\n",
    "df3[\"model1\"] = df3[\"cast\"]+\" \"+ df3[\"listed_in\"]\n",
    "df3=df3.iloc[:,[0,11]]\n",
    "df3.head(2)"
   ]
  },
  {
   "cell_type": "code",
   "execution_count": 51,
   "metadata": {
    "ExecuteTime": {
     "end_time": "2020-05-13T10:43:25.436062Z",
     "start_time": "2020-05-13T10:43:25.423430Z"
    }
   },
   "outputs": [],
   "source": [
    "from sklearn.feature_extraction.text import TfidfVectorizer\n",
    "\n",
    "\n",
    "tfv = TfidfVectorizer(min_df=3,  max_features=None, \n",
    "            strip_accents='unicode', analyzer='word',token_pattern=r'\\w{1,}',\n",
    "            ngram_range=(1, 3),\n",
    "            stop_words = 'english')\n",
    "\n",
    "# Filling NaNs with empty string\n",
    "df3['model1'] = df3['model1'].fillna('')"
   ]
  },
  {
   "cell_type": "code",
   "execution_count": 52,
   "metadata": {
    "ExecuteTime": {
     "end_time": "2020-05-13T10:43:27.123772Z",
     "start_time": "2020-05-13T10:43:25.438793Z"
    }
   },
   "outputs": [],
   "source": [
    "tfv_matrix = tfv.fit_transform(df3['model1'])"
   ]
  },
  {
   "cell_type": "code",
   "execution_count": 53,
   "metadata": {
    "ExecuteTime": {
     "end_time": "2020-05-13T10:43:30.056701Z",
     "start_time": "2020-05-13T10:43:27.123772Z"
    }
   },
   "outputs": [],
   "source": [
    "from sklearn.metrics.pairwise import sigmoid_kernel\n",
    "sig = sigmoid_kernel(tfv_matrix, tfv_matrix)\n",
    "\n",
    "indices = pd.Series(df3.index, index=df3['title']).drop_duplicates()"
   ]
  },
  {
   "cell_type": "code",
   "execution_count": 54,
   "metadata": {
    "ExecuteTime": {
     "end_time": "2020-05-13T10:43:30.119330Z",
     "start_time": "2020-05-13T10:43:30.056701Z"
    }
   },
   "outputs": [],
   "source": [
    "def give_rec(title, sig=sig):\n",
    "    # Get the index corresponding to original_title\n",
    "    idx = indices[title]\n",
    "\n",
    "    # Get the pairwsie similarity scores \n",
    "    sig_scores = list(enumerate(sig[idx]))\n",
    "\n",
    "    # Sort the movies \n",
    "    sig_scores = sorted(sig_scores, key=lambda x: x[1], reverse=True)\n",
    "\n",
    "    # Scores of the 10 most similar movies\n",
    "    sig_scores = sig_scores[1:21]\n",
    "\n",
    "    # Movie indices\n",
    "    movie_indices = [i[0] for i in sig_scores]\n",
    "\n",
    "    # Top 10 most similar movies\n",
    "    return df3['title'].iloc[movie_indices]"
   ]
  },
  {
   "cell_type": "code",
   "execution_count": 55,
   "metadata": {
    "ExecuteTime": {
     "end_time": "2020-05-13T10:43:30.141979Z",
     "start_time": "2020-05-13T10:43:30.122444Z"
    }
   },
   "outputs": [
    {
     "data": {
      "text/plain": [
       "5987                               Episodes\n",
       "6094                    Pee-wee's Playhouse\n",
       "5981    The Twilight Zone (Original Series)\n",
       "5980                 The Andy Griffith Show\n",
       "5639                        Toast of London\n",
       "5699                             Still Game\n",
       "6225                                Frasier\n",
       "5830                             Dad's Army\n",
       "5705                  Star Trek: Enterprise\n",
       "5787                           Supernatural\n",
       "5976                                 Cheers\n",
       "5704                              Star Trek\n",
       "5585                                  Haven\n",
       "1827                    Roswell, New Mexico\n",
       "701                          Harry & Bunnie\n",
       "1198                           Paap-O-Meter\n",
       "4363                             Sammy & Co\n",
       "5479                   Kicko & Super Speedo\n",
       "5778            Prince Jai Aur Dumdaar Viru\n",
       "5867                       Sab Jholmaal Hai\n",
       "Name: title, dtype: object"
      ]
     },
     "execution_count": 55,
     "metadata": {},
     "output_type": "execute_result"
    }
   ],
   "source": [
    "give_rec(k)"
   ]
  },
  {
   "cell_type": "code",
   "execution_count": 56,
   "metadata": {
    "ExecuteTime": {
     "end_time": "2020-05-13T10:43:30.158624Z",
     "start_time": "2020-05-13T10:43:30.143829Z"
    }
   },
   "outputs": [],
   "source": [
    "case4=list(give_rec(k))"
   ]
  },
  {
   "cell_type": "markdown",
   "metadata": {},
   "source": [
    "# Recommendation based on Cast, Genre"
   ]
  },
  {
   "cell_type": "code",
   "execution_count": 57,
   "metadata": {
    "ExecuteTime": {
     "end_time": "2020-05-13T10:43:30.170314Z",
     "start_time": "2020-05-13T10:43:30.160618Z"
    }
   },
   "outputs": [
    {
     "data": {
      "text/plain": [
       "['Episodes',\n",
       " \"Pee-wee's Playhouse\",\n",
       " 'The Twilight Zone (Original Series)',\n",
       " 'The Andy Griffith Show',\n",
       " 'Toast of London',\n",
       " 'Still Game',\n",
       " 'Frasier',\n",
       " \"Dad's Army\",\n",
       " 'Star Trek: Enterprise',\n",
       " 'Supernatural',\n",
       " 'Cheers',\n",
       " 'Star Trek',\n",
       " 'Haven',\n",
       " 'Roswell, New Mexico',\n",
       " 'Harry & Bunnie',\n",
       " 'Paap-O-Meter',\n",
       " 'Sammy & Co',\n",
       " 'Kicko & Super Speedo',\n",
       " 'Prince Jai Aur Dumdaar Viru',\n",
       " 'Sab Jholmaal Hai']"
      ]
     },
     "execution_count": 57,
     "metadata": {},
     "output_type": "execute_result"
    }
   ],
   "source": [
    "case4"
   ]
  },
  {
   "cell_type": "code",
   "execution_count": null,
   "metadata": {},
   "outputs": [],
   "source": [
    "\n"
   ]
  },
  {
   "cell_type": "markdown",
   "metadata": {},
   "source": [
    "# Case 5"
   ]
  },
  {
   "cell_type": "markdown",
   "metadata": {
    "ExecuteTime": {
     "end_time": "2020-05-12T10:50:57.107160Z",
     "start_time": "2020-05-12T10:50:56.964871Z"
    }
   },
   "source": [
    "listedin, duration"
   ]
  },
  {
   "cell_type": "code",
   "execution_count": 58,
   "metadata": {
    "ExecuteTime": {
     "end_time": "2020-05-13T10:43:30.199845Z",
     "start_time": "2020-05-13T10:43:30.173565Z"
    }
   },
   "outputs": [
    {
     "data": {
      "text/html": [
       "<div>\n",
       "<style scoped>\n",
       "    .dataframe tbody tr th:only-of-type {\n",
       "        vertical-align: middle;\n",
       "    }\n",
       "\n",
       "    .dataframe tbody tr th {\n",
       "        vertical-align: top;\n",
       "    }\n",
       "\n",
       "    .dataframe thead th {\n",
       "        text-align: right;\n",
       "    }\n",
       "</style>\n",
       "<table border=\"1\" class=\"dataframe\">\n",
       "  <thead>\n",
       "    <tr style=\"text-align: right;\">\n",
       "      <th></th>\n",
       "      <th>title</th>\n",
       "      <th>type</th>\n",
       "      <th>director</th>\n",
       "      <th>cast</th>\n",
       "      <th>country</th>\n",
       "      <th>date_added</th>\n",
       "      <th>release_year</th>\n",
       "      <th>rating</th>\n",
       "      <th>duration</th>\n",
       "      <th>listed_in</th>\n",
       "      <th>description</th>\n",
       "    </tr>\n",
       "  </thead>\n",
       "  <tbody>\n",
       "    <tr>\n",
       "      <th>0</th>\n",
       "      <td>Norm of the North: King Sized Adventure</td>\n",
       "      <td>Movie</td>\n",
       "      <td>Richard Finn, Tim Maltby</td>\n",
       "      <td>Alan Marriott, Andrew Toth, Brian Dobson, Cole...</td>\n",
       "      <td>United States, India, South Korea, China</td>\n",
       "      <td>2019-09-09 00:00:00</td>\n",
       "      <td>2019</td>\n",
       "      <td>TV-PG</td>\n",
       "      <td>90 min</td>\n",
       "      <td>Children &amp; Family Movies, Comedies</td>\n",
       "      <td>Before planning an awesome wedding for his gra...</td>\n",
       "    </tr>\n",
       "    <tr>\n",
       "      <th>1</th>\n",
       "      <td>Jandino: Whatever it Takes</td>\n",
       "      <td>Movie</td>\n",
       "      <td>NaN</td>\n",
       "      <td>Jandino Asporaat</td>\n",
       "      <td>United Kingdom</td>\n",
       "      <td>2016-09-09 00:00:00</td>\n",
       "      <td>2016</td>\n",
       "      <td>TV-MA</td>\n",
       "      <td>94 min</td>\n",
       "      <td>Stand-Up Comedy</td>\n",
       "      <td>Jandino Asporaat riffs on the challenges of ra...</td>\n",
       "    </tr>\n",
       "  </tbody>\n",
       "</table>\n",
       "</div>"
      ],
      "text/plain": [
       "                                     title   type                  director  \\\n",
       "0  Norm of the North: King Sized Adventure  Movie  Richard Finn, Tim Maltby   \n",
       "1               Jandino: Whatever it Takes  Movie                       NaN   \n",
       "\n",
       "                                                cast  \\\n",
       "0  Alan Marriott, Andrew Toth, Brian Dobson, Cole...   \n",
       "1                                   Jandino Asporaat   \n",
       "\n",
       "                                    country           date_added  \\\n",
       "0  United States, India, South Korea, China  2019-09-09 00:00:00   \n",
       "1                            United Kingdom  2016-09-09 00:00:00   \n",
       "\n",
       "   release_year rating duration                           listed_in  \\\n",
       "0          2019  TV-PG   90 min  Children & Family Movies, Comedies   \n",
       "1          2016  TV-MA   94 min                     Stand-Up Comedy   \n",
       "\n",
       "                                         description  \n",
       "0  Before planning an awesome wedding for his gra...  \n",
       "1  Jandino Asporaat riffs on the challenges of ra...  "
      ]
     },
     "execution_count": 58,
     "metadata": {},
     "output_type": "execute_result"
    }
   ],
   "source": [
    "df4.head(2)"
   ]
  },
  {
   "cell_type": "code",
   "execution_count": 59,
   "metadata": {
    "ExecuteTime": {
     "end_time": "2020-05-13T10:43:30.261029Z",
     "start_time": "2020-05-13T10:43:30.203754Z"
    }
   },
   "outputs": [
    {
     "data": {
      "text/html": [
       "<div>\n",
       "<style scoped>\n",
       "    .dataframe tbody tr th:only-of-type {\n",
       "        vertical-align: middle;\n",
       "    }\n",
       "\n",
       "    .dataframe tbody tr th {\n",
       "        vertical-align: top;\n",
       "    }\n",
       "\n",
       "    .dataframe thead th {\n",
       "        text-align: right;\n",
       "    }\n",
       "</style>\n",
       "<table border=\"1\" class=\"dataframe\">\n",
       "  <thead>\n",
       "    <tr style=\"text-align: right;\">\n",
       "      <th></th>\n",
       "      <th>title</th>\n",
       "      <th>model1</th>\n",
       "    </tr>\n",
       "  </thead>\n",
       "  <tbody>\n",
       "    <tr>\n",
       "      <th>0</th>\n",
       "      <td>Norm of the North: King Sized Adventure</td>\n",
       "      <td>90 min Children &amp; Family Movies, Comedies</td>\n",
       "    </tr>\n",
       "    <tr>\n",
       "      <th>1</th>\n",
       "      <td>Jandino: Whatever it Takes</td>\n",
       "      <td>94 min Stand-Up Comedy</td>\n",
       "    </tr>\n",
       "  </tbody>\n",
       "</table>\n",
       "</div>"
      ],
      "text/plain": [
       "                                     title  \\\n",
       "0  Norm of the North: King Sized Adventure   \n",
       "1               Jandino: Whatever it Takes   \n",
       "\n",
       "                                      model1  \n",
       "0  90 min Children & Family Movies, Comedies  \n",
       "1                     94 min Stand-Up Comedy  "
      ]
     },
     "execution_count": 59,
     "metadata": {},
     "output_type": "execute_result"
    }
   ],
   "source": [
    "df4 = df4.replace(np.nan, '', regex=True)\n",
    "df4['release_year'] = df4['release_year'].astype(str)\n",
    "df4['duration'] = df4['duration'].astype(str)\n",
    "df4['date_added'] = df4['date_added'].astype(str)\n",
    "df4[\"model1\"] = df4[\"duration\"]+\" \"+ df4[\"listed_in\"]\n",
    "df4=df4.iloc[:,[0,11]]\n",
    "df4.head(2)"
   ]
  },
  {
   "cell_type": "code",
   "execution_count": 60,
   "metadata": {
    "ExecuteTime": {
     "end_time": "2020-05-13T10:43:30.292892Z",
     "start_time": "2020-05-13T10:43:30.263299Z"
    }
   },
   "outputs": [],
   "source": [
    "from sklearn.feature_extraction.text import TfidfVectorizer\n",
    "\n",
    "\n",
    "tfv = TfidfVectorizer(min_df=3,  max_features=None, \n",
    "            strip_accents='unicode', analyzer='word',token_pattern=r'\\w{1,}',\n",
    "            ngram_range=(1, 3),\n",
    "            stop_words = 'english')\n",
    "\n",
    "# Filling NaNs with empty string\n",
    "df4['model1'] = df4['model1'].fillna('')\n"
   ]
  },
  {
   "cell_type": "code",
   "execution_count": 61,
   "metadata": {
    "ExecuteTime": {
     "end_time": "2020-05-13T10:43:30.531885Z",
     "start_time": "2020-05-13T10:43:30.294887Z"
    }
   },
   "outputs": [],
   "source": [
    "tfv_matrix = tfv.fit_transform(df4['model1'])"
   ]
  },
  {
   "cell_type": "code",
   "execution_count": 62,
   "metadata": {
    "ExecuteTime": {
     "end_time": "2020-05-13T10:43:33.942051Z",
     "start_time": "2020-05-13T10:43:30.534940Z"
    }
   },
   "outputs": [],
   "source": [
    "from sklearn.metrics.pairwise import sigmoid_kernel\n",
    "sig = sigmoid_kernel(tfv_matrix, tfv_matrix)\n",
    "\n",
    "indices = pd.Series(df4.index, index=df4['title']).drop_duplicates()"
   ]
  },
  {
   "cell_type": "code",
   "execution_count": 63,
   "metadata": {
    "ExecuteTime": {
     "end_time": "2020-05-13T10:43:34.008557Z",
     "start_time": "2020-05-13T10:43:33.942051Z"
    }
   },
   "outputs": [],
   "source": [
    "def give_rec(title, sig=sig):\n",
    "    # Get the index corresponding to original_title\n",
    "    idx = indices[title]\n",
    "\n",
    "    # Get the pairwsie similarity scores \n",
    "    sig_scores = list(enumerate(sig[idx]))\n",
    "\n",
    "    # Sort the movies \n",
    "    sig_scores = sorted(sig_scores, key=lambda x: x[1], reverse=True)\n",
    "\n",
    "    # Scores of the 10 most similar movies\n",
    "    sig_scores = sig_scores[1:21]\n",
    "\n",
    "    # Movie indices\n",
    "    movie_indices = [i[0] for i in sig_scores]\n",
    "\n",
    "    # Top 10 most similar movies\n",
    "    return df4['title'].iloc[movie_indices]"
   ]
  },
  {
   "cell_type": "code",
   "execution_count": 64,
   "metadata": {
    "ExecuteTime": {
     "end_time": "2020-05-13T10:43:34.032316Z",
     "start_time": "2020-05-13T10:43:34.011654Z"
    }
   },
   "outputs": [
    {
     "data": {
      "text/plain": [
       "5980                 The Andy Griffith Show\n",
       "5976                                 Cheers\n",
       "6225                                Frasier\n",
       "5987                               Episodes\n",
       "5830                             Dad's Army\n",
       "6094                    Pee-wee's Playhouse\n",
       "5981    The Twilight Zone (Original Series)\n",
       "6166                                Jericho\n",
       "6072                    From Dusk Till Dawn\n",
       "5636                       The Walking Dead\n",
       "5787                           Supernatural\n",
       "5585                                  Haven\n",
       "5704                              Star Trek\n",
       "5705                  Star Trek: Enterprise\n",
       "5639                        Toast of London\n",
       "5982                             Twin Peaks\n",
       "5699                             Still Game\n",
       "5843                      Trailer Park Boys\n",
       "5909       Danger Mouse: Classic Collection\n",
       "1827                    Roswell, New Mexico\n",
       "Name: title, dtype: object"
      ]
     },
     "execution_count": 64,
     "metadata": {},
     "output_type": "execute_result"
    }
   ],
   "source": [
    "give_rec(k)"
   ]
  },
  {
   "cell_type": "code",
   "execution_count": 65,
   "metadata": {
    "ExecuteTime": {
     "end_time": "2020-05-13T10:43:34.048168Z",
     "start_time": "2020-05-13T10:43:34.034741Z"
    }
   },
   "outputs": [],
   "source": [
    "case5=list(give_rec(k))"
   ]
  },
  {
   "cell_type": "markdown",
   "metadata": {},
   "source": [
    "# Recommendation based on Genre, Duration"
   ]
  },
  {
   "cell_type": "code",
   "execution_count": 66,
   "metadata": {
    "ExecuteTime": {
     "end_time": "2020-05-13T10:43:34.060035Z",
     "start_time": "2020-05-13T10:43:34.050749Z"
    }
   },
   "outputs": [
    {
     "data": {
      "text/plain": [
       "['The Andy Griffith Show',\n",
       " 'Cheers',\n",
       " 'Frasier',\n",
       " 'Episodes',\n",
       " \"Dad's Army\",\n",
       " \"Pee-wee's Playhouse\",\n",
       " 'The Twilight Zone (Original Series)',\n",
       " 'Jericho',\n",
       " 'From Dusk Till Dawn',\n",
       " 'The Walking Dead',\n",
       " 'Supernatural',\n",
       " 'Haven',\n",
       " 'Star Trek',\n",
       " 'Star Trek: Enterprise',\n",
       " 'Toast of London',\n",
       " 'Twin Peaks',\n",
       " 'Still Game',\n",
       " 'Trailer Park Boys',\n",
       " 'Danger Mouse: Classic Collection',\n",
       " 'Roswell, New Mexico']"
      ]
     },
     "execution_count": 66,
     "metadata": {},
     "output_type": "execute_result"
    }
   ],
   "source": [
    "case5"
   ]
  },
  {
   "cell_type": "code",
   "execution_count": null,
   "metadata": {},
   "outputs": [],
   "source": []
  },
  {
   "cell_type": "markdown",
   "metadata": {},
   "source": [
    "# Case-6"
   ]
  },
  {
   "cell_type": "markdown",
   "metadata": {},
   "source": [
    "Cast,director"
   ]
  },
  {
   "cell_type": "code",
   "execution_count": 67,
   "metadata": {
    "ExecuteTime": {
     "end_time": "2020-05-13T10:43:34.087942Z",
     "start_time": "2020-05-13T10:43:34.062622Z"
    }
   },
   "outputs": [
    {
     "data": {
      "text/html": [
       "<div>\n",
       "<style scoped>\n",
       "    .dataframe tbody tr th:only-of-type {\n",
       "        vertical-align: middle;\n",
       "    }\n",
       "\n",
       "    .dataframe tbody tr th {\n",
       "        vertical-align: top;\n",
       "    }\n",
       "\n",
       "    .dataframe thead th {\n",
       "        text-align: right;\n",
       "    }\n",
       "</style>\n",
       "<table border=\"1\" class=\"dataframe\">\n",
       "  <thead>\n",
       "    <tr style=\"text-align: right;\">\n",
       "      <th></th>\n",
       "      <th>title</th>\n",
       "      <th>type</th>\n",
       "      <th>director</th>\n",
       "      <th>cast</th>\n",
       "      <th>country</th>\n",
       "      <th>date_added</th>\n",
       "      <th>release_year</th>\n",
       "      <th>rating</th>\n",
       "      <th>duration</th>\n",
       "      <th>listed_in</th>\n",
       "      <th>description</th>\n",
       "    </tr>\n",
       "  </thead>\n",
       "  <tbody>\n",
       "    <tr>\n",
       "      <th>0</th>\n",
       "      <td>Norm of the North: King Sized Adventure</td>\n",
       "      <td>Movie</td>\n",
       "      <td>Richard Finn, Tim Maltby</td>\n",
       "      <td>Alan Marriott, Andrew Toth, Brian Dobson, Cole...</td>\n",
       "      <td>United States, India, South Korea, China</td>\n",
       "      <td>2019-09-09 00:00:00</td>\n",
       "      <td>2019</td>\n",
       "      <td>TV-PG</td>\n",
       "      <td>90 min</td>\n",
       "      <td>Children &amp; Family Movies, Comedies</td>\n",
       "      <td>Before planning an awesome wedding for his gra...</td>\n",
       "    </tr>\n",
       "    <tr>\n",
       "      <th>1</th>\n",
       "      <td>Jandino: Whatever it Takes</td>\n",
       "      <td>Movie</td>\n",
       "      <td>NaN</td>\n",
       "      <td>Jandino Asporaat</td>\n",
       "      <td>United Kingdom</td>\n",
       "      <td>2016-09-09 00:00:00</td>\n",
       "      <td>2016</td>\n",
       "      <td>TV-MA</td>\n",
       "      <td>94 min</td>\n",
       "      <td>Stand-Up Comedy</td>\n",
       "      <td>Jandino Asporaat riffs on the challenges of ra...</td>\n",
       "    </tr>\n",
       "  </tbody>\n",
       "</table>\n",
       "</div>"
      ],
      "text/plain": [
       "                                     title   type                  director  \\\n",
       "0  Norm of the North: King Sized Adventure  Movie  Richard Finn, Tim Maltby   \n",
       "1               Jandino: Whatever it Takes  Movie                       NaN   \n",
       "\n",
       "                                                cast  \\\n",
       "0  Alan Marriott, Andrew Toth, Brian Dobson, Cole...   \n",
       "1                                   Jandino Asporaat   \n",
       "\n",
       "                                    country           date_added  \\\n",
       "0  United States, India, South Korea, China  2019-09-09 00:00:00   \n",
       "1                            United Kingdom  2016-09-09 00:00:00   \n",
       "\n",
       "   release_year rating duration                           listed_in  \\\n",
       "0          2019  TV-PG   90 min  Children & Family Movies, Comedies   \n",
       "1          2016  TV-MA   94 min                     Stand-Up Comedy   \n",
       "\n",
       "                                         description  \n",
       "0  Before planning an awesome wedding for his gra...  \n",
       "1  Jandino Asporaat riffs on the challenges of ra...  "
      ]
     },
     "execution_count": 67,
     "metadata": {},
     "output_type": "execute_result"
    }
   ],
   "source": [
    "df5.head(2)"
   ]
  },
  {
   "cell_type": "code",
   "execution_count": 68,
   "metadata": {
    "ExecuteTime": {
     "end_time": "2020-05-13T10:43:34.159910Z",
     "start_time": "2020-05-13T10:43:34.098459Z"
    }
   },
   "outputs": [
    {
     "data": {
      "text/html": [
       "<div>\n",
       "<style scoped>\n",
       "    .dataframe tbody tr th:only-of-type {\n",
       "        vertical-align: middle;\n",
       "    }\n",
       "\n",
       "    .dataframe tbody tr th {\n",
       "        vertical-align: top;\n",
       "    }\n",
       "\n",
       "    .dataframe thead th {\n",
       "        text-align: right;\n",
       "    }\n",
       "</style>\n",
       "<table border=\"1\" class=\"dataframe\">\n",
       "  <thead>\n",
       "    <tr style=\"text-align: right;\">\n",
       "      <th></th>\n",
       "      <th>title</th>\n",
       "      <th>model1</th>\n",
       "    </tr>\n",
       "  </thead>\n",
       "  <tbody>\n",
       "    <tr>\n",
       "      <th>0</th>\n",
       "      <td>Norm of the North: King Sized Adventure</td>\n",
       "      <td>Alan Marriott, Andrew Toth, Brian Dobson, Cole...</td>\n",
       "    </tr>\n",
       "    <tr>\n",
       "      <th>1</th>\n",
       "      <td>Jandino: Whatever it Takes</td>\n",
       "      <td>Jandino Asporaat</td>\n",
       "    </tr>\n",
       "  </tbody>\n",
       "</table>\n",
       "</div>"
      ],
      "text/plain": [
       "                                     title  \\\n",
       "0  Norm of the North: King Sized Adventure   \n",
       "1               Jandino: Whatever it Takes   \n",
       "\n",
       "                                              model1  \n",
       "0  Alan Marriott, Andrew Toth, Brian Dobson, Cole...  \n",
       "1                                  Jandino Asporaat   "
      ]
     },
     "execution_count": 68,
     "metadata": {},
     "output_type": "execute_result"
    }
   ],
   "source": [
    "df5 = df5.replace(np.nan, '', regex=True)\n",
    "df5['release_year'] = df5['release_year'].astype(str)\n",
    "df5['duration'] = df5['duration'].astype(str)\n",
    "df5['date_added'] = df5['date_added'].astype(str)\n",
    "df5[\"model1\"] = df5[\"cast\"]+\" \"+ df5[\"director\"]\n",
    "df5=df5.iloc[:,[0,11]]\n",
    "df5.head(2)"
   ]
  },
  {
   "cell_type": "code",
   "execution_count": 69,
   "metadata": {
    "ExecuteTime": {
     "end_time": "2020-05-13T10:43:34.171249Z",
     "start_time": "2020-05-13T10:43:34.164380Z"
    }
   },
   "outputs": [],
   "source": [
    "from sklearn.feature_extraction.text import TfidfVectorizer\n",
    "\n",
    "\n",
    "tfv = TfidfVectorizer(min_df=3,  max_features=None, \n",
    "            strip_accents='unicode', analyzer='word',token_pattern=r'\\w{1,}',\n",
    "            ngram_range=(1, 3),\n",
    "            stop_words = 'english')\n",
    "\n",
    "# Filling NaNs with empty string\n",
    "df5['model1'] = df5['model1'].fillna('')"
   ]
  },
  {
   "cell_type": "code",
   "execution_count": 70,
   "metadata": {
    "ExecuteTime": {
     "end_time": "2020-05-13T10:43:35.858107Z",
     "start_time": "2020-05-13T10:43:34.172802Z"
    }
   },
   "outputs": [],
   "source": [
    "tfv_matrix = tfv.fit_transform(df5['model1'])"
   ]
  },
  {
   "cell_type": "code",
   "execution_count": 71,
   "metadata": {
    "ExecuteTime": {
     "end_time": "2020-05-13T10:43:36.988154Z",
     "start_time": "2020-05-13T10:43:35.859103Z"
    }
   },
   "outputs": [],
   "source": [
    "from sklearn.metrics.pairwise import sigmoid_kernel\n",
    "sig = sigmoid_kernel(tfv_matrix, tfv_matrix)\n",
    "\n",
    "indices = pd.Series(df5.index, index=df5['title']).drop_duplicates()"
   ]
  },
  {
   "cell_type": "code",
   "execution_count": 72,
   "metadata": {
    "ExecuteTime": {
     "end_time": "2020-05-13T10:43:37.053086Z",
     "start_time": "2020-05-13T10:43:36.992037Z"
    }
   },
   "outputs": [],
   "source": [
    "def give_rec(title, sig=sig):\n",
    "    # Get the index corresponding to original_title\n",
    "    idx = indices[title]\n",
    "\n",
    "    # Get the pairwsie similarity scores \n",
    "    sig_scores = list(enumerate(sig[idx]))\n",
    "\n",
    "    # Sort the movies \n",
    "    sig_scores = sorted(sig_scores, key=lambda x: x[1], reverse=True)\n",
    "\n",
    "    # Scores of the 10 most similar movies\n",
    "    sig_scores = sig_scores[1:21]\n",
    "\n",
    "    # Movie indices\n",
    "    movie_indices = [i[0] for i in sig_scores]\n",
    "\n",
    "    # Top 10 most similar movies\n",
    "    return df5['title'].iloc[movie_indices]"
   ]
  },
  {
   "cell_type": "code",
   "execution_count": 73,
   "metadata": {
    "ExecuteTime": {
     "end_time": "2020-05-13T10:43:37.071864Z",
     "start_time": "2020-05-13T10:43:37.056077Z"
    }
   },
   "outputs": [
    {
     "data": {
      "text/plain": [
       "5987                                    Episodes\n",
       "1703    Highland: Thailand's Marijuana Awakening\n",
       "3083                 The Accountant of Auschwitz\n",
       "587                          Miss Representation\n",
       "886                                     Mountain\n",
       "2418                                 Sustainable\n",
       "3923                                   Studio 54\n",
       "5482                             P.S. I Love You\n",
       "3456                                        Zoom\n",
       "5395                          The Creative Brain\n",
       "3074                                    Scream 3\n",
       "5076                                Rumor Has It\n",
       "785                             Charlie's Angels\n",
       "2662                              Murder Mystery\n",
       "1591            A Little Help with Carol Burnett\n",
       "3412                                      Unrest\n",
       "786              Charlie's Angels: Full Throttle\n",
       "1976                                  My Own Man\n",
       "2764                              The Fear of 13\n",
       "4483                              Theo Who Lived\n",
       "Name: title, dtype: object"
      ]
     },
     "execution_count": 73,
     "metadata": {},
     "output_type": "execute_result"
    }
   ],
   "source": [
    "give_rec(k)"
   ]
  },
  {
   "cell_type": "markdown",
   "metadata": {},
   "source": [
    "# Recommendation based on Cast, Director"
   ]
  },
  {
   "cell_type": "code",
   "execution_count": 74,
   "metadata": {
    "ExecuteTime": {
     "end_time": "2020-05-13T10:43:37.092179Z",
     "start_time": "2020-05-13T10:43:37.075232Z"
    }
   },
   "outputs": [
    {
     "data": {
      "text/plain": [
       "['Episodes',\n",
       " \"Highland: Thailand's Marijuana Awakening\",\n",
       " 'The Accountant of Auschwitz',\n",
       " 'Miss Representation',\n",
       " 'Mountain',\n",
       " 'Sustainable',\n",
       " 'Studio 54',\n",
       " 'P.S. I Love You',\n",
       " 'Zoom',\n",
       " 'The Creative Brain',\n",
       " 'Scream 3',\n",
       " 'Rumor Has It',\n",
       " \"Charlie's Angels\",\n",
       " 'Murder Mystery',\n",
       " 'A Little Help with Carol Burnett',\n",
       " 'Unrest',\n",
       " \"Charlie's Angels: Full Throttle\",\n",
       " 'My Own Man',\n",
       " 'The Fear of 13',\n",
       " 'Theo Who Lived']"
      ]
     },
     "execution_count": 74,
     "metadata": {},
     "output_type": "execute_result"
    }
   ],
   "source": [
    "case6=list(give_rec(k))\n",
    "case6"
   ]
  },
  {
   "cell_type": "code",
   "execution_count": null,
   "metadata": {},
   "outputs": [],
   "source": []
  },
  {
   "cell_type": "markdown",
   "metadata": {},
   "source": [
    "# Case-7"
   ]
  },
  {
   "cell_type": "markdown",
   "metadata": {},
   "source": [
    "Listed_in,country"
   ]
  },
  {
   "cell_type": "code",
   "execution_count": 75,
   "metadata": {
    "ExecuteTime": {
     "end_time": "2020-05-13T10:43:37.118336Z",
     "start_time": "2020-05-13T10:43:37.095479Z"
    }
   },
   "outputs": [
    {
     "data": {
      "text/html": [
       "<div>\n",
       "<style scoped>\n",
       "    .dataframe tbody tr th:only-of-type {\n",
       "        vertical-align: middle;\n",
       "    }\n",
       "\n",
       "    .dataframe tbody tr th {\n",
       "        vertical-align: top;\n",
       "    }\n",
       "\n",
       "    .dataframe thead th {\n",
       "        text-align: right;\n",
       "    }\n",
       "</style>\n",
       "<table border=\"1\" class=\"dataframe\">\n",
       "  <thead>\n",
       "    <tr style=\"text-align: right;\">\n",
       "      <th></th>\n",
       "      <th>title</th>\n",
       "      <th>type</th>\n",
       "      <th>director</th>\n",
       "      <th>cast</th>\n",
       "      <th>country</th>\n",
       "      <th>date_added</th>\n",
       "      <th>release_year</th>\n",
       "      <th>rating</th>\n",
       "      <th>duration</th>\n",
       "      <th>listed_in</th>\n",
       "      <th>description</th>\n",
       "    </tr>\n",
       "  </thead>\n",
       "  <tbody>\n",
       "    <tr>\n",
       "      <th>0</th>\n",
       "      <td>Norm of the North: King Sized Adventure</td>\n",
       "      <td>Movie</td>\n",
       "      <td>Richard Finn, Tim Maltby</td>\n",
       "      <td>Alan Marriott, Andrew Toth, Brian Dobson, Cole...</td>\n",
       "      <td>United States, India, South Korea, China</td>\n",
       "      <td>2019-09-09 00:00:00</td>\n",
       "      <td>2019</td>\n",
       "      <td>TV-PG</td>\n",
       "      <td>90 min</td>\n",
       "      <td>Children &amp; Family Movies, Comedies</td>\n",
       "      <td>Before planning an awesome wedding for his gra...</td>\n",
       "    </tr>\n",
       "    <tr>\n",
       "      <th>1</th>\n",
       "      <td>Jandino: Whatever it Takes</td>\n",
       "      <td>Movie</td>\n",
       "      <td>NaN</td>\n",
       "      <td>Jandino Asporaat</td>\n",
       "      <td>United Kingdom</td>\n",
       "      <td>2016-09-09 00:00:00</td>\n",
       "      <td>2016</td>\n",
       "      <td>TV-MA</td>\n",
       "      <td>94 min</td>\n",
       "      <td>Stand-Up Comedy</td>\n",
       "      <td>Jandino Asporaat riffs on the challenges of ra...</td>\n",
       "    </tr>\n",
       "  </tbody>\n",
       "</table>\n",
       "</div>"
      ],
      "text/plain": [
       "                                     title   type                  director  \\\n",
       "0  Norm of the North: King Sized Adventure  Movie  Richard Finn, Tim Maltby   \n",
       "1               Jandino: Whatever it Takes  Movie                       NaN   \n",
       "\n",
       "                                                cast  \\\n",
       "0  Alan Marriott, Andrew Toth, Brian Dobson, Cole...   \n",
       "1                                   Jandino Asporaat   \n",
       "\n",
       "                                    country           date_added  \\\n",
       "0  United States, India, South Korea, China  2019-09-09 00:00:00   \n",
       "1                            United Kingdom  2016-09-09 00:00:00   \n",
       "\n",
       "   release_year rating duration                           listed_in  \\\n",
       "0          2019  TV-PG   90 min  Children & Family Movies, Comedies   \n",
       "1          2016  TV-MA   94 min                     Stand-Up Comedy   \n",
       "\n",
       "                                         description  \n",
       "0  Before planning an awesome wedding for his gra...  \n",
       "1  Jandino Asporaat riffs on the challenges of ra...  "
      ]
     },
     "execution_count": 75,
     "metadata": {},
     "output_type": "execute_result"
    }
   ],
   "source": [
    "df6.head(2)"
   ]
  },
  {
   "cell_type": "code",
   "execution_count": 76,
   "metadata": {
    "ExecuteTime": {
     "end_time": "2020-05-13T10:43:37.191773Z",
     "start_time": "2020-05-13T10:43:37.120331Z"
    }
   },
   "outputs": [
    {
     "data": {
      "text/html": [
       "<div>\n",
       "<style scoped>\n",
       "    .dataframe tbody tr th:only-of-type {\n",
       "        vertical-align: middle;\n",
       "    }\n",
       "\n",
       "    .dataframe tbody tr th {\n",
       "        vertical-align: top;\n",
       "    }\n",
       "\n",
       "    .dataframe thead th {\n",
       "        text-align: right;\n",
       "    }\n",
       "</style>\n",
       "<table border=\"1\" class=\"dataframe\">\n",
       "  <thead>\n",
       "    <tr style=\"text-align: right;\">\n",
       "      <th></th>\n",
       "      <th>title</th>\n",
       "      <th>model1</th>\n",
       "    </tr>\n",
       "  </thead>\n",
       "  <tbody>\n",
       "    <tr>\n",
       "      <th>0</th>\n",
       "      <td>Norm of the North: King Sized Adventure</td>\n",
       "      <td>United States, India, South Korea, China Child...</td>\n",
       "    </tr>\n",
       "    <tr>\n",
       "      <th>1</th>\n",
       "      <td>Jandino: Whatever it Takes</td>\n",
       "      <td>United Kingdom Stand-Up Comedy</td>\n",
       "    </tr>\n",
       "  </tbody>\n",
       "</table>\n",
       "</div>"
      ],
      "text/plain": [
       "                                     title  \\\n",
       "0  Norm of the North: King Sized Adventure   \n",
       "1               Jandino: Whatever it Takes   \n",
       "\n",
       "                                              model1  \n",
       "0  United States, India, South Korea, China Child...  \n",
       "1                     United Kingdom Stand-Up Comedy  "
      ]
     },
     "execution_count": 76,
     "metadata": {},
     "output_type": "execute_result"
    }
   ],
   "source": [
    "df6 = df6.replace(np.nan, '', regex=True)\n",
    "df6['release_year'] = df6['release_year'].astype(str)\n",
    "df6['duration'] = df6['duration'].astype(str)\n",
    "df6['date_added'] = df6['date_added'].astype(str)\n",
    "df6[\"model1\"] = df6[\"country\"]+\" \"+ df6[\"listed_in\"]\n",
    "df6=df6.iloc[:,[0,11]]\n",
    "df6.head(2)"
   ]
  },
  {
   "cell_type": "code",
   "execution_count": 77,
   "metadata": {
    "ExecuteTime": {
     "end_time": "2020-05-13T10:43:37.251871Z",
     "start_time": "2020-05-13T10:43:37.197593Z"
    }
   },
   "outputs": [],
   "source": [
    "from sklearn.feature_extraction.text import TfidfVectorizer\n",
    "\n",
    "\n",
    "tfv = TfidfVectorizer(min_df=3,  max_features=None, \n",
    "            strip_accents='unicode', analyzer='word',token_pattern=r'\\w{1,}',\n",
    "            ngram_range=(1, 3),\n",
    "            stop_words = 'english')\n",
    "\n",
    "# Filling NaNs with empty string\n",
    "df6['model1'] = df6['model1'].fillna('')"
   ]
  },
  {
   "cell_type": "code",
   "execution_count": 78,
   "metadata": {
    "ExecuteTime": {
     "end_time": "2020-05-13T10:43:37.515011Z",
     "start_time": "2020-05-13T10:43:37.256484Z"
    }
   },
   "outputs": [],
   "source": [
    "tfv_matrix = tfv.fit_transform(df6['model1'])"
   ]
  },
  {
   "cell_type": "code",
   "execution_count": 79,
   "metadata": {
    "ExecuteTime": {
     "end_time": "2020-05-13T10:43:40.815014Z",
     "start_time": "2020-05-13T10:43:37.518892Z"
    }
   },
   "outputs": [],
   "source": [
    "from sklearn.metrics.pairwise import sigmoid_kernel\n",
    "sig = sigmoid_kernel(tfv_matrix, tfv_matrix)\n",
    "\n",
    "indices = pd.Series(df6.index, index=df6['title']).drop_duplicates()"
   ]
  },
  {
   "cell_type": "code",
   "execution_count": 80,
   "metadata": {
    "ExecuteTime": {
     "end_time": "2020-05-13T10:43:40.877878Z",
     "start_time": "2020-05-13T10:43:40.815014Z"
    }
   },
   "outputs": [],
   "source": [
    "def give_rec(title, sig=sig):\n",
    "    # Get the index corresponding to original_title\n",
    "    idx = indices[title]\n",
    "\n",
    "    # Get the pairwsie similarity scores \n",
    "    sig_scores = list(enumerate(sig[idx]))\n",
    "\n",
    "    # Sort the movies \n",
    "    sig_scores = sorted(sig_scores, key=lambda x: x[1], reverse=True)\n",
    "\n",
    "    # Scores of the 10 most similar movies\n",
    "    sig_scores = sig_scores[1:21]\n",
    "\n",
    "    # Movie indices\n",
    "    movie_indices = [i[0] for i in sig_scores]\n",
    "\n",
    "    # Top 10 most similar movies\n",
    "    return df6['title'].iloc[movie_indices]"
   ]
  },
  {
   "cell_type": "code",
   "execution_count": 81,
   "metadata": {
    "ExecuteTime": {
     "end_time": "2020-05-13T10:43:40.900070Z",
     "start_time": "2020-05-13T10:43:40.881104Z"
    }
   },
   "outputs": [
    {
     "data": {
      "text/plain": [
       "5980                 The Andy Griffith Show\n",
       "6225                                Frasier\n",
       "6233                                Friends\n",
       "6094                    Pee-wee's Playhouse\n",
       "5981    The Twilight Zone (Original Series)\n",
       "5636                       The Walking Dead\n",
       "6166                                Jericho\n",
       "5787                           Supernatural\n",
       "6072                    From Dusk Till Dawn\n",
       "5585                                  Haven\n",
       "1827                    Roswell, New Mexico\n",
       "5704                              Star Trek\n",
       "5705                  Star Trek: Enterprise\n",
       "5987                               Episodes\n",
       "5982                             Twin Peaks\n",
       "5639                        Toast of London\n",
       "5699                             Still Game\n",
       "5830                             Dad's Army\n",
       "5669           Monty Python's Flying Circus\n",
       "6179                           The IT Crowd\n",
       "Name: title, dtype: object"
      ]
     },
     "execution_count": 81,
     "metadata": {},
     "output_type": "execute_result"
    }
   ],
   "source": [
    "give_rec(k)"
   ]
  },
  {
   "cell_type": "markdown",
   "metadata": {},
   "source": [
    "# Recommendation based on Genre, Country"
   ]
  },
  {
   "cell_type": "code",
   "execution_count": 82,
   "metadata": {
    "ExecuteTime": {
     "end_time": "2020-05-13T10:43:40.921937Z",
     "start_time": "2020-05-13T10:43:40.903935Z"
    }
   },
   "outputs": [
    {
     "data": {
      "text/plain": [
       "['The Andy Griffith Show',\n",
       " 'Frasier',\n",
       " 'Friends',\n",
       " \"Pee-wee's Playhouse\",\n",
       " 'The Twilight Zone (Original Series)',\n",
       " 'The Walking Dead',\n",
       " 'Jericho',\n",
       " 'Supernatural',\n",
       " 'From Dusk Till Dawn',\n",
       " 'Haven',\n",
       " 'Roswell, New Mexico',\n",
       " 'Star Trek',\n",
       " 'Star Trek: Enterprise',\n",
       " 'Episodes',\n",
       " 'Twin Peaks',\n",
       " 'Toast of London',\n",
       " 'Still Game',\n",
       " \"Dad's Army\",\n",
       " \"Monty Python's Flying Circus\",\n",
       " 'The IT Crowd']"
      ]
     },
     "execution_count": 82,
     "metadata": {},
     "output_type": "execute_result"
    }
   ],
   "source": [
    "case7=list(give_rec(k))\n",
    "case7"
   ]
  },
  {
   "cell_type": "code",
   "execution_count": null,
   "metadata": {},
   "outputs": [],
   "source": []
  },
  {
   "cell_type": "code",
   "execution_count": null,
   "metadata": {},
   "outputs": [],
   "source": []
  },
  {
   "cell_type": "markdown",
   "metadata": {},
   "source": [
    "# Case-8 "
   ]
  },
  {
   "cell_type": "markdown",
   "metadata": {
    "ExecuteTime": {
     "end_time": "2020-05-12T10:55:46.843080Z",
     "start_time": "2020-05-12T10:55:46.835465Z"
    }
   },
   "source": [
    "Listed-in,description"
   ]
  },
  {
   "cell_type": "code",
   "execution_count": 83,
   "metadata": {
    "ExecuteTime": {
     "end_time": "2020-05-13T10:43:40.945571Z",
     "start_time": "2020-05-13T10:43:40.923685Z"
    }
   },
   "outputs": [
    {
     "data": {
      "text/html": [
       "<div>\n",
       "<style scoped>\n",
       "    .dataframe tbody tr th:only-of-type {\n",
       "        vertical-align: middle;\n",
       "    }\n",
       "\n",
       "    .dataframe tbody tr th {\n",
       "        vertical-align: top;\n",
       "    }\n",
       "\n",
       "    .dataframe thead th {\n",
       "        text-align: right;\n",
       "    }\n",
       "</style>\n",
       "<table border=\"1\" class=\"dataframe\">\n",
       "  <thead>\n",
       "    <tr style=\"text-align: right;\">\n",
       "      <th></th>\n",
       "      <th>title</th>\n",
       "      <th>type</th>\n",
       "      <th>director</th>\n",
       "      <th>cast</th>\n",
       "      <th>country</th>\n",
       "      <th>date_added</th>\n",
       "      <th>release_year</th>\n",
       "      <th>rating</th>\n",
       "      <th>duration</th>\n",
       "      <th>listed_in</th>\n",
       "      <th>description</th>\n",
       "    </tr>\n",
       "  </thead>\n",
       "  <tbody>\n",
       "    <tr>\n",
       "      <th>0</th>\n",
       "      <td>Norm of the North: King Sized Adventure</td>\n",
       "      <td>Movie</td>\n",
       "      <td>Richard Finn, Tim Maltby</td>\n",
       "      <td>Alan Marriott, Andrew Toth, Brian Dobson, Cole...</td>\n",
       "      <td>United States, India, South Korea, China</td>\n",
       "      <td>2019-09-09 00:00:00</td>\n",
       "      <td>2019</td>\n",
       "      <td>TV-PG</td>\n",
       "      <td>90 min</td>\n",
       "      <td>Children &amp; Family Movies, Comedies</td>\n",
       "      <td>Before planning an awesome wedding for his gra...</td>\n",
       "    </tr>\n",
       "    <tr>\n",
       "      <th>1</th>\n",
       "      <td>Jandino: Whatever it Takes</td>\n",
       "      <td>Movie</td>\n",
       "      <td>NaN</td>\n",
       "      <td>Jandino Asporaat</td>\n",
       "      <td>United Kingdom</td>\n",
       "      <td>2016-09-09 00:00:00</td>\n",
       "      <td>2016</td>\n",
       "      <td>TV-MA</td>\n",
       "      <td>94 min</td>\n",
       "      <td>Stand-Up Comedy</td>\n",
       "      <td>Jandino Asporaat riffs on the challenges of ra...</td>\n",
       "    </tr>\n",
       "  </tbody>\n",
       "</table>\n",
       "</div>"
      ],
      "text/plain": [
       "                                     title   type                  director  \\\n",
       "0  Norm of the North: King Sized Adventure  Movie  Richard Finn, Tim Maltby   \n",
       "1               Jandino: Whatever it Takes  Movie                       NaN   \n",
       "\n",
       "                                                cast  \\\n",
       "0  Alan Marriott, Andrew Toth, Brian Dobson, Cole...   \n",
       "1                                   Jandino Asporaat   \n",
       "\n",
       "                                    country           date_added  \\\n",
       "0  United States, India, South Korea, China  2019-09-09 00:00:00   \n",
       "1                            United Kingdom  2016-09-09 00:00:00   \n",
       "\n",
       "   release_year rating duration                           listed_in  \\\n",
       "0          2019  TV-PG   90 min  Children & Family Movies, Comedies   \n",
       "1          2016  TV-MA   94 min                     Stand-Up Comedy   \n",
       "\n",
       "                                         description  \n",
       "0  Before planning an awesome wedding for his gra...  \n",
       "1  Jandino Asporaat riffs on the challenges of ra...  "
      ]
     },
     "execution_count": 83,
     "metadata": {},
     "output_type": "execute_result"
    }
   ],
   "source": [
    "df7.head(2)"
   ]
  },
  {
   "cell_type": "code",
   "execution_count": 84,
   "metadata": {
    "ExecuteTime": {
     "end_time": "2020-05-13T10:43:41.026839Z",
     "start_time": "2020-05-13T10:43:40.947749Z"
    }
   },
   "outputs": [
    {
     "data": {
      "text/html": [
       "<div>\n",
       "<style scoped>\n",
       "    .dataframe tbody tr th:only-of-type {\n",
       "        vertical-align: middle;\n",
       "    }\n",
       "\n",
       "    .dataframe tbody tr th {\n",
       "        vertical-align: top;\n",
       "    }\n",
       "\n",
       "    .dataframe thead th {\n",
       "        text-align: right;\n",
       "    }\n",
       "</style>\n",
       "<table border=\"1\" class=\"dataframe\">\n",
       "  <thead>\n",
       "    <tr style=\"text-align: right;\">\n",
       "      <th></th>\n",
       "      <th>title</th>\n",
       "      <th>model1</th>\n",
       "    </tr>\n",
       "  </thead>\n",
       "  <tbody>\n",
       "    <tr>\n",
       "      <th>0</th>\n",
       "      <td>Norm of the North: King Sized Adventure</td>\n",
       "      <td>Before planning an awesome wedding for his gra...</td>\n",
       "    </tr>\n",
       "    <tr>\n",
       "      <th>1</th>\n",
       "      <td>Jandino: Whatever it Takes</td>\n",
       "      <td>Jandino Asporaat riffs on the challenges of ra...</td>\n",
       "    </tr>\n",
       "  </tbody>\n",
       "</table>\n",
       "</div>"
      ],
      "text/plain": [
       "                                     title  \\\n",
       "0  Norm of the North: King Sized Adventure   \n",
       "1               Jandino: Whatever it Takes   \n",
       "\n",
       "                                              model1  \n",
       "0  Before planning an awesome wedding for his gra...  \n",
       "1  Jandino Asporaat riffs on the challenges of ra...  "
      ]
     },
     "execution_count": 84,
     "metadata": {},
     "output_type": "execute_result"
    }
   ],
   "source": [
    "df7 = df7.replace(np.nan, '', regex=True)\n",
    "df7['release_year'] = df7['release_year'].astype(str)\n",
    "df7['duration'] = df7['duration'].astype(str)\n",
    "df7['date_added'] = df7['date_added'].astype(str)\n",
    "df7[\"model1\"] = df7[\"description\"]+\" \"+ df7[\"listed_in\"]\n",
    "df7=df7.iloc[:,[0,11]]\n",
    "df7.head(2)"
   ]
  },
  {
   "cell_type": "code",
   "execution_count": 85,
   "metadata": {
    "ExecuteTime": {
     "end_time": "2020-05-13T10:43:41.056034Z",
     "start_time": "2020-05-13T10:43:41.033725Z"
    }
   },
   "outputs": [],
   "source": [
    "from sklearn.feature_extraction.text import TfidfVectorizer\n",
    "\n",
    "\n",
    "tfv = TfidfVectorizer(min_df=3,  max_features=None, \n",
    "            strip_accents='unicode', analyzer='word',token_pattern=r'\\w{1,}',\n",
    "            ngram_range=(1, 3),\n",
    "            stop_words = 'english')\n",
    "\n",
    "# Filling NaNs with empty string\n",
    "df7['model1'] = df7['model1'].fillna('')"
   ]
  },
  {
   "cell_type": "code",
   "execution_count": 86,
   "metadata": {
    "ExecuteTime": {
     "end_time": "2020-05-13T10:43:42.737370Z",
     "start_time": "2020-05-13T10:43:41.059989Z"
    }
   },
   "outputs": [],
   "source": [
    "tfv_matrix = tfv.fit_transform(df7['model1'])"
   ]
  },
  {
   "cell_type": "code",
   "execution_count": 87,
   "metadata": {
    "ExecuteTime": {
     "end_time": "2020-05-13T10:43:45.824790Z",
     "start_time": "2020-05-13T10:43:42.737370Z"
    }
   },
   "outputs": [],
   "source": [
    "from sklearn.metrics.pairwise import sigmoid_kernel\n",
    "sig = sigmoid_kernel(tfv_matrix, tfv_matrix)\n",
    "\n",
    "indices = pd.Series(df7.index, index=df7['title']).drop_duplicates()"
   ]
  },
  {
   "cell_type": "code",
   "execution_count": 88,
   "metadata": {
    "ExecuteTime": {
     "end_time": "2020-05-13T10:43:45.888319Z",
     "start_time": "2020-05-13T10:43:45.827781Z"
    }
   },
   "outputs": [],
   "source": [
    "def give_rec(title, sig=sig):\n",
    "    # Get the index corresponding to original_title\n",
    "    idx = indices[title]\n",
    "\n",
    "    # Get the pairwsie similarity scores \n",
    "    sig_scores = list(enumerate(sig[idx]))\n",
    "\n",
    "    # Sort the movies \n",
    "    sig_scores = sorted(sig_scores, key=lambda x: x[1], reverse=True)\n",
    "\n",
    "    # Scores of the 10 most similar movies\n",
    "    sig_scores = sig_scores[1:21]\n",
    "\n",
    "    # Movie indices\n",
    "    movie_indices = [i[0] for i in sig_scores]\n",
    "\n",
    "    # Top 10 most similar movies\n",
    "    return df7['title'].iloc[movie_indices]"
   ]
  },
  {
   "cell_type": "code",
   "execution_count": 89,
   "metadata": {
    "ExecuteTime": {
     "end_time": "2020-05-13T10:43:45.909428Z",
     "start_time": "2020-05-13T10:43:45.891754Z"
    }
   },
   "outputs": [
    {
     "data": {
      "text/plain": [
       "5987                               Episodes\n",
       "6225                                Frasier\n",
       "5830                             Dad's Army\n",
       "5699                             Still Game\n",
       "5980                 The Andy Griffith Show\n",
       "5976                                 Cheers\n",
       "5639                        Toast of London\n",
       "5981    The Twilight Zone (Original Series)\n",
       "5636                       The Walking Dead\n",
       "6094                    Pee-wee's Playhouse\n",
       "6072                    From Dusk Till Dawn\n",
       "6166                                Jericho\n",
       "5843                      Trailer Park Boys\n",
       "5787                           Supernatural\n",
       "5585                                  Haven\n",
       "5704                              Star Trek\n",
       "1827                    Roswell, New Mexico\n",
       "5705                  Star Trek: Enterprise\n",
       "3390                   La Rosa de Guadalupe\n",
       "6179                           The IT Crowd\n",
       "Name: title, dtype: object"
      ]
     },
     "execution_count": 89,
     "metadata": {},
     "output_type": "execute_result"
    }
   ],
   "source": [
    "give_rec(k)"
   ]
  },
  {
   "cell_type": "markdown",
   "metadata": {},
   "source": [
    "# Recommendation based on Genre, Description"
   ]
  },
  {
   "cell_type": "code",
   "execution_count": 90,
   "metadata": {
    "ExecuteTime": {
     "end_time": "2020-05-13T10:43:45.928945Z",
     "start_time": "2020-05-13T10:43:45.911583Z"
    }
   },
   "outputs": [
    {
     "data": {
      "text/plain": [
       "['Episodes',\n",
       " 'Frasier',\n",
       " \"Dad's Army\",\n",
       " 'Still Game',\n",
       " 'The Andy Griffith Show',\n",
       " 'Cheers',\n",
       " 'Toast of London',\n",
       " 'The Twilight Zone (Original Series)',\n",
       " 'The Walking Dead',\n",
       " \"Pee-wee's Playhouse\",\n",
       " 'From Dusk Till Dawn',\n",
       " 'Jericho',\n",
       " 'Trailer Park Boys',\n",
       " 'Supernatural',\n",
       " 'Haven',\n",
       " 'Star Trek',\n",
       " 'Roswell, New Mexico',\n",
       " 'Star Trek: Enterprise',\n",
       " 'La Rosa de Guadalupe',\n",
       " 'The IT Crowd']"
      ]
     },
     "execution_count": 90,
     "metadata": {},
     "output_type": "execute_result"
    }
   ],
   "source": [
    "case8=list(give_rec(k))\n",
    "case8"
   ]
  },
  {
   "cell_type": "code",
   "execution_count": null,
   "metadata": {},
   "outputs": [],
   "source": []
  },
  {
   "cell_type": "markdown",
   "metadata": {},
   "source": [
    "# Case-9"
   ]
  },
  {
   "cell_type": "markdown",
   "metadata": {},
   "source": [
    "listedin,realese_year"
   ]
  },
  {
   "cell_type": "code",
   "execution_count": 91,
   "metadata": {
    "ExecuteTime": {
     "end_time": "2020-05-13T10:43:45.952646Z",
     "start_time": "2020-05-13T10:43:45.930938Z"
    }
   },
   "outputs": [
    {
     "data": {
      "text/html": [
       "<div>\n",
       "<style scoped>\n",
       "    .dataframe tbody tr th:only-of-type {\n",
       "        vertical-align: middle;\n",
       "    }\n",
       "\n",
       "    .dataframe tbody tr th {\n",
       "        vertical-align: top;\n",
       "    }\n",
       "\n",
       "    .dataframe thead th {\n",
       "        text-align: right;\n",
       "    }\n",
       "</style>\n",
       "<table border=\"1\" class=\"dataframe\">\n",
       "  <thead>\n",
       "    <tr style=\"text-align: right;\">\n",
       "      <th></th>\n",
       "      <th>title</th>\n",
       "      <th>type</th>\n",
       "      <th>director</th>\n",
       "      <th>cast</th>\n",
       "      <th>country</th>\n",
       "      <th>date_added</th>\n",
       "      <th>release_year</th>\n",
       "      <th>rating</th>\n",
       "      <th>duration</th>\n",
       "      <th>listed_in</th>\n",
       "      <th>description</th>\n",
       "    </tr>\n",
       "  </thead>\n",
       "  <tbody>\n",
       "    <tr>\n",
       "      <th>0</th>\n",
       "      <td>Norm of the North: King Sized Adventure</td>\n",
       "      <td>Movie</td>\n",
       "      <td>Richard Finn, Tim Maltby</td>\n",
       "      <td>Alan Marriott, Andrew Toth, Brian Dobson, Cole...</td>\n",
       "      <td>United States, India, South Korea, China</td>\n",
       "      <td>2019-09-09 00:00:00</td>\n",
       "      <td>2019</td>\n",
       "      <td>TV-PG</td>\n",
       "      <td>90 min</td>\n",
       "      <td>Children &amp; Family Movies, Comedies</td>\n",
       "      <td>Before planning an awesome wedding for his gra...</td>\n",
       "    </tr>\n",
       "    <tr>\n",
       "      <th>1</th>\n",
       "      <td>Jandino: Whatever it Takes</td>\n",
       "      <td>Movie</td>\n",
       "      <td>NaN</td>\n",
       "      <td>Jandino Asporaat</td>\n",
       "      <td>United Kingdom</td>\n",
       "      <td>2016-09-09 00:00:00</td>\n",
       "      <td>2016</td>\n",
       "      <td>TV-MA</td>\n",
       "      <td>94 min</td>\n",
       "      <td>Stand-Up Comedy</td>\n",
       "      <td>Jandino Asporaat riffs on the challenges of ra...</td>\n",
       "    </tr>\n",
       "  </tbody>\n",
       "</table>\n",
       "</div>"
      ],
      "text/plain": [
       "                                     title   type                  director  \\\n",
       "0  Norm of the North: King Sized Adventure  Movie  Richard Finn, Tim Maltby   \n",
       "1               Jandino: Whatever it Takes  Movie                       NaN   \n",
       "\n",
       "                                                cast  \\\n",
       "0  Alan Marriott, Andrew Toth, Brian Dobson, Cole...   \n",
       "1                                   Jandino Asporaat   \n",
       "\n",
       "                                    country           date_added  \\\n",
       "0  United States, India, South Korea, China  2019-09-09 00:00:00   \n",
       "1                            United Kingdom  2016-09-09 00:00:00   \n",
       "\n",
       "   release_year rating duration                           listed_in  \\\n",
       "0          2019  TV-PG   90 min  Children & Family Movies, Comedies   \n",
       "1          2016  TV-MA   94 min                     Stand-Up Comedy   \n",
       "\n",
       "                                         description  \n",
       "0  Before planning an awesome wedding for his gra...  \n",
       "1  Jandino Asporaat riffs on the challenges of ra...  "
      ]
     },
     "execution_count": 91,
     "metadata": {},
     "output_type": "execute_result"
    }
   ],
   "source": [
    "df8.head(2)"
   ]
  },
  {
   "cell_type": "code",
   "execution_count": 92,
   "metadata": {
    "ExecuteTime": {
     "end_time": "2020-05-13T10:43:46.018665Z",
     "start_time": "2020-05-13T10:43:45.954732Z"
    }
   },
   "outputs": [
    {
     "data": {
      "text/html": [
       "<div>\n",
       "<style scoped>\n",
       "    .dataframe tbody tr th:only-of-type {\n",
       "        vertical-align: middle;\n",
       "    }\n",
       "\n",
       "    .dataframe tbody tr th {\n",
       "        vertical-align: top;\n",
       "    }\n",
       "\n",
       "    .dataframe thead th {\n",
       "        text-align: right;\n",
       "    }\n",
       "</style>\n",
       "<table border=\"1\" class=\"dataframe\">\n",
       "  <thead>\n",
       "    <tr style=\"text-align: right;\">\n",
       "      <th></th>\n",
       "      <th>title</th>\n",
       "      <th>model1</th>\n",
       "    </tr>\n",
       "  </thead>\n",
       "  <tbody>\n",
       "    <tr>\n",
       "      <th>0</th>\n",
       "      <td>Norm of the North: King Sized Adventure</td>\n",
       "      <td>2019 Children &amp; Family Movies, Comedies</td>\n",
       "    </tr>\n",
       "    <tr>\n",
       "      <th>1</th>\n",
       "      <td>Jandino: Whatever it Takes</td>\n",
       "      <td>2016 Stand-Up Comedy</td>\n",
       "    </tr>\n",
       "  </tbody>\n",
       "</table>\n",
       "</div>"
      ],
      "text/plain": [
       "                                     title  \\\n",
       "0  Norm of the North: King Sized Adventure   \n",
       "1               Jandino: Whatever it Takes   \n",
       "\n",
       "                                    model1  \n",
       "0  2019 Children & Family Movies, Comedies  \n",
       "1                     2016 Stand-Up Comedy  "
      ]
     },
     "execution_count": 92,
     "metadata": {},
     "output_type": "execute_result"
    }
   ],
   "source": [
    "df8 = df8.replace(np.nan, '', regex=True)\n",
    "df8['release_year'] = df8['release_year'].astype(str)\n",
    "df8['duration'] = df8['duration'].astype(str)\n",
    "df8['date_added'] = df8['date_added'].astype(str)\n",
    "df8[\"model1\"] = df8[\"release_year\"]+\" \"+ df8[\"listed_in\"]\n",
    "df8=df8.iloc[:,[0,11]]\n",
    "df8.head(2)"
   ]
  },
  {
   "cell_type": "code",
   "execution_count": 93,
   "metadata": {
    "ExecuteTime": {
     "end_time": "2020-05-13T10:43:46.052638Z",
     "start_time": "2020-05-13T10:43:46.019664Z"
    }
   },
   "outputs": [],
   "source": [
    "from sklearn.feature_extraction.text import TfidfVectorizer\n",
    "\n",
    "\n",
    "tfv = TfidfVectorizer(min_df=3,  max_features=None, \n",
    "            strip_accents='unicode', analyzer='word',token_pattern=r'\\w{1,}',\n",
    "            ngram_range=(1, 3),\n",
    "            stop_words = 'english')\n",
    "\n",
    "# Filling NaNs with empty string\n",
    "df8['model1'] = df8['model1'].fillna('')"
   ]
  },
  {
   "cell_type": "code",
   "execution_count": 94,
   "metadata": {
    "ExecuteTime": {
     "end_time": "2020-05-13T10:43:46.240376Z",
     "start_time": "2020-05-13T10:43:46.054669Z"
    }
   },
   "outputs": [],
   "source": [
    "tfv_matrix = tfv.fit_transform(df8['model1'])"
   ]
  },
  {
   "cell_type": "code",
   "execution_count": 95,
   "metadata": {
    "ExecuteTime": {
     "end_time": "2020-05-13T10:43:49.035347Z",
     "start_time": "2020-05-13T10:43:46.242231Z"
    }
   },
   "outputs": [],
   "source": [
    "from sklearn.metrics.pairwise import sigmoid_kernel\n",
    "sig = sigmoid_kernel(tfv_matrix, tfv_matrix)\n",
    "\n",
    "indices = pd.Series(df8.index, index=df8['title']).drop_duplicates()"
   ]
  },
  {
   "cell_type": "code",
   "execution_count": 96,
   "metadata": {
    "ExecuteTime": {
     "end_time": "2020-05-13T10:43:49.101817Z",
     "start_time": "2020-05-13T10:43:49.037232Z"
    }
   },
   "outputs": [],
   "source": [
    "def give_rec(title, sig=sig):\n",
    "    # Get the index corresponding to original_title\n",
    "    idx = indices[title]\n",
    "\n",
    "    # Get the pairwsie similarity scores \n",
    "    sig_scores = list(enumerate(sig[idx]))\n",
    "\n",
    "    # Sort the movies \n",
    "    sig_scores = sorted(sig_scores, key=lambda x: x[1], reverse=True)\n",
    "\n",
    "    # Scores of the 10 most similar movies\n",
    "    sig_scores = sig_scores[1:21]\n",
    "\n",
    "    # Movie indices\n",
    "    movie_indices = [i[0] for i in sig_scores]\n",
    "\n",
    "    # Top 10 most similar movies\n",
    "    return df8['title'].iloc[movie_indices]"
   ]
  },
  {
   "cell_type": "code",
   "execution_count": 97,
   "metadata": {
    "ExecuteTime": {
     "end_time": "2020-05-13T10:43:49.126237Z",
     "start_time": "2020-05-13T10:43:49.103780Z"
    }
   },
   "outputs": [
    {
     "data": {
      "text/plain": [
       "6233                                Friends\n",
       "5987                               Episodes\n",
       "5976                                 Cheers\n",
       "5980                 The Andy Griffith Show\n",
       "5981    The Twilight Zone (Original Series)\n",
       "6094                    Pee-wee's Playhouse\n",
       "5830                             Dad's Army\n",
       "5699                             Still Game\n",
       "5639                        Toast of London\n",
       "5636                       The Walking Dead\n",
       "5585                                  Haven\n",
       "6166                                Jericho\n",
       "5787                           Supernatural\n",
       "6072                    From Dusk Till Dawn\n",
       "1827                    Roswell, New Mexico\n",
       "5705                  Star Trek: Enterprise\n",
       "5704                              Star Trek\n",
       "5669           Monty Python's Flying Circus\n",
       "5843                      Trailer Park Boys\n",
       "3390                   La Rosa de Guadalupe\n",
       "Name: title, dtype: object"
      ]
     },
     "execution_count": 97,
     "metadata": {},
     "output_type": "execute_result"
    }
   ],
   "source": [
    "give_rec(k)"
   ]
  },
  {
   "cell_type": "markdown",
   "metadata": {},
   "source": [
    "# Recommendation based on Genre, Release Year"
   ]
  },
  {
   "cell_type": "code",
   "execution_count": 98,
   "metadata": {
    "ExecuteTime": {
     "end_time": "2020-05-13T10:43:49.149439Z",
     "start_time": "2020-05-13T10:43:49.129229Z"
    }
   },
   "outputs": [
    {
     "data": {
      "text/plain": [
       "['Friends',\n",
       " 'Episodes',\n",
       " 'Cheers',\n",
       " 'The Andy Griffith Show',\n",
       " 'The Twilight Zone (Original Series)',\n",
       " \"Pee-wee's Playhouse\",\n",
       " \"Dad's Army\",\n",
       " 'Still Game',\n",
       " 'Toast of London',\n",
       " 'The Walking Dead',\n",
       " 'Haven',\n",
       " 'Jericho',\n",
       " 'Supernatural',\n",
       " 'From Dusk Till Dawn',\n",
       " 'Roswell, New Mexico',\n",
       " 'Star Trek: Enterprise',\n",
       " 'Star Trek',\n",
       " \"Monty Python's Flying Circus\",\n",
       " 'Trailer Park Boys',\n",
       " 'La Rosa de Guadalupe']"
      ]
     },
     "execution_count": 98,
     "metadata": {},
     "output_type": "execute_result"
    }
   ],
   "source": [
    "case9=list(give_rec(k))\n",
    "case9"
   ]
  },
  {
   "cell_type": "code",
   "execution_count": null,
   "metadata": {},
   "outputs": [],
   "source": []
  },
  {
   "cell_type": "code",
   "execution_count": null,
   "metadata": {},
   "outputs": [],
   "source": []
  },
  {
   "cell_type": "markdown",
   "metadata": {},
   "source": [
    "# Case-10"
   ]
  },
  {
   "cell_type": "markdown",
   "metadata": {},
   "source": [
    "Listedin,description,rating"
   ]
  },
  {
   "cell_type": "code",
   "execution_count": 99,
   "metadata": {
    "ExecuteTime": {
     "end_time": "2020-05-13T10:43:49.171990Z",
     "start_time": "2020-05-13T10:43:49.152431Z"
    }
   },
   "outputs": [
    {
     "data": {
      "text/html": [
       "<div>\n",
       "<style scoped>\n",
       "    .dataframe tbody tr th:only-of-type {\n",
       "        vertical-align: middle;\n",
       "    }\n",
       "\n",
       "    .dataframe tbody tr th {\n",
       "        vertical-align: top;\n",
       "    }\n",
       "\n",
       "    .dataframe thead th {\n",
       "        text-align: right;\n",
       "    }\n",
       "</style>\n",
       "<table border=\"1\" class=\"dataframe\">\n",
       "  <thead>\n",
       "    <tr style=\"text-align: right;\">\n",
       "      <th></th>\n",
       "      <th>title</th>\n",
       "      <th>type</th>\n",
       "      <th>director</th>\n",
       "      <th>cast</th>\n",
       "      <th>country</th>\n",
       "      <th>date_added</th>\n",
       "      <th>release_year</th>\n",
       "      <th>rating</th>\n",
       "      <th>duration</th>\n",
       "      <th>listed_in</th>\n",
       "      <th>description</th>\n",
       "    </tr>\n",
       "  </thead>\n",
       "  <tbody>\n",
       "    <tr>\n",
       "      <th>0</th>\n",
       "      <td>Norm of the North: King Sized Adventure</td>\n",
       "      <td>Movie</td>\n",
       "      <td>Richard Finn, Tim Maltby</td>\n",
       "      <td>Alan Marriott, Andrew Toth, Brian Dobson, Cole...</td>\n",
       "      <td>United States, India, South Korea, China</td>\n",
       "      <td>2019-09-09 00:00:00</td>\n",
       "      <td>2019</td>\n",
       "      <td>TV-PG</td>\n",
       "      <td>90 min</td>\n",
       "      <td>Children &amp; Family Movies, Comedies</td>\n",
       "      <td>Before planning an awesome wedding for his gra...</td>\n",
       "    </tr>\n",
       "    <tr>\n",
       "      <th>1</th>\n",
       "      <td>Jandino: Whatever it Takes</td>\n",
       "      <td>Movie</td>\n",
       "      <td>NaN</td>\n",
       "      <td>Jandino Asporaat</td>\n",
       "      <td>United Kingdom</td>\n",
       "      <td>2016-09-09 00:00:00</td>\n",
       "      <td>2016</td>\n",
       "      <td>TV-MA</td>\n",
       "      <td>94 min</td>\n",
       "      <td>Stand-Up Comedy</td>\n",
       "      <td>Jandino Asporaat riffs on the challenges of ra...</td>\n",
       "    </tr>\n",
       "  </tbody>\n",
       "</table>\n",
       "</div>"
      ],
      "text/plain": [
       "                                     title   type                  director  \\\n",
       "0  Norm of the North: King Sized Adventure  Movie  Richard Finn, Tim Maltby   \n",
       "1               Jandino: Whatever it Takes  Movie                       NaN   \n",
       "\n",
       "                                                cast  \\\n",
       "0  Alan Marriott, Andrew Toth, Brian Dobson, Cole...   \n",
       "1                                   Jandino Asporaat   \n",
       "\n",
       "                                    country           date_added  \\\n",
       "0  United States, India, South Korea, China  2019-09-09 00:00:00   \n",
       "1                            United Kingdom  2016-09-09 00:00:00   \n",
       "\n",
       "   release_year rating duration                           listed_in  \\\n",
       "0          2019  TV-PG   90 min  Children & Family Movies, Comedies   \n",
       "1          2016  TV-MA   94 min                     Stand-Up Comedy   \n",
       "\n",
       "                                         description  \n",
       "0  Before planning an awesome wedding for his gra...  \n",
       "1  Jandino Asporaat riffs on the challenges of ra...  "
      ]
     },
     "execution_count": 99,
     "metadata": {},
     "output_type": "execute_result"
    }
   ],
   "source": [
    "df9.head(2)"
   ]
  },
  {
   "cell_type": "code",
   "execution_count": 100,
   "metadata": {
    "ExecuteTime": {
     "end_time": "2020-05-13T10:43:49.244596Z",
     "start_time": "2020-05-13T10:43:49.175411Z"
    }
   },
   "outputs": [
    {
     "data": {
      "text/html": [
       "<div>\n",
       "<style scoped>\n",
       "    .dataframe tbody tr th:only-of-type {\n",
       "        vertical-align: middle;\n",
       "    }\n",
       "\n",
       "    .dataframe tbody tr th {\n",
       "        vertical-align: top;\n",
       "    }\n",
       "\n",
       "    .dataframe thead th {\n",
       "        text-align: right;\n",
       "    }\n",
       "</style>\n",
       "<table border=\"1\" class=\"dataframe\">\n",
       "  <thead>\n",
       "    <tr style=\"text-align: right;\">\n",
       "      <th></th>\n",
       "      <th>title</th>\n",
       "      <th>model1</th>\n",
       "    </tr>\n",
       "  </thead>\n",
       "  <tbody>\n",
       "    <tr>\n",
       "      <th>0</th>\n",
       "      <td>Norm of the North: King Sized Adventure</td>\n",
       "      <td>Before planning an awesome wedding for his gra...</td>\n",
       "    </tr>\n",
       "    <tr>\n",
       "      <th>1</th>\n",
       "      <td>Jandino: Whatever it Takes</td>\n",
       "      <td>Jandino Asporaat riffs on the challenges of ra...</td>\n",
       "    </tr>\n",
       "  </tbody>\n",
       "</table>\n",
       "</div>"
      ],
      "text/plain": [
       "                                     title  \\\n",
       "0  Norm of the North: King Sized Adventure   \n",
       "1               Jandino: Whatever it Takes   \n",
       "\n",
       "                                              model1  \n",
       "0  Before planning an awesome wedding for his gra...  \n",
       "1  Jandino Asporaat riffs on the challenges of ra...  "
      ]
     },
     "execution_count": 100,
     "metadata": {},
     "output_type": "execute_result"
    }
   ],
   "source": [
    "df9 = df9.replace(np.nan, '', regex=True)\n",
    "df9['release_year'] = df9['release_year'].astype(str)\n",
    "df9['duration'] = df9['duration'].astype(str)\n",
    "df9['date_added'] = df9['date_added'].astype(str)\n",
    "df9[\"model1\"] = df9[\"description\"]+\" \"+ df9[\"listed_in\"]+\" \"+ df9[\"rating\"]\n",
    "df9=df9.iloc[:,[0,11]]\n",
    "df9.head(2)"
   ]
  },
  {
   "cell_type": "code",
   "execution_count": 101,
   "metadata": {
    "ExecuteTime": {
     "end_time": "2020-05-13T10:43:51.039232Z",
     "start_time": "2020-05-13T10:43:49.247412Z"
    }
   },
   "outputs": [],
   "source": [
    "tfv_matrix = tfv.fit_transform(df9['model1'])"
   ]
  },
  {
   "cell_type": "code",
   "execution_count": 102,
   "metadata": {
    "ExecuteTime": {
     "end_time": "2020-05-13T10:43:55.065851Z",
     "start_time": "2020-05-13T10:43:51.043189Z"
    }
   },
   "outputs": [],
   "source": [
    "from sklearn.metrics.pairwise import sigmoid_kernel\n",
    "sig = sigmoid_kernel(tfv_matrix, tfv_matrix)\n",
    "\n",
    "indices = pd.Series(df9.index, index=df9['title']).drop_duplicates()"
   ]
  },
  {
   "cell_type": "code",
   "execution_count": 103,
   "metadata": {
    "ExecuteTime": {
     "end_time": "2020-05-13T10:43:55.120163Z",
     "start_time": "2020-05-13T10:43:55.065851Z"
    }
   },
   "outputs": [],
   "source": [
    "def give_rec(title, sig=sig):\n",
    "    # Get the index corresponding to original_title\n",
    "    idx = indices[title]\n",
    "\n",
    "    # Get the pairwsie similarity scores \n",
    "    sig_scores = list(enumerate(sig[idx]))\n",
    "\n",
    "    # Sort the movies \n",
    "    sig_scores = sorted(sig_scores, key=lambda x: x[1], reverse=True)\n",
    "\n",
    "    # Scores of the 10 most similar movies/shows\n",
    "    sig_scores = sig_scores[1:21]\n",
    "\n",
    "    # Movie indices\n",
    "    movie_indices = [i[0] for i in sig_scores]\n",
    "\n",
    "    # Top 10 most similar movies\n",
    "    return df9['title'].iloc[movie_indices]"
   ]
  },
  {
   "cell_type": "code",
   "execution_count": 104,
   "metadata": {
    "ExecuteTime": {
     "end_time": "2020-05-13T10:43:55.142832Z",
     "start_time": "2020-05-13T10:43:55.122871Z"
    }
   },
   "outputs": [
    {
     "data": {
      "text/plain": [
       "5987                               Episodes\n",
       "6225                                Frasier\n",
       "5699                             Still Game\n",
       "5830                             Dad's Army\n",
       "5980                 The Andy Griffith Show\n",
       "5976                                 Cheers\n",
       "5639                        Toast of London\n",
       "6094                    Pee-wee's Playhouse\n",
       "5636                       The Walking Dead\n",
       "6166                                Jericho\n",
       "5981    The Twilight Zone (Original Series)\n",
       "5843                      Trailer Park Boys\n",
       "5585                                  Haven\n",
       "6072                    From Dusk Till Dawn\n",
       "5787                           Supernatural\n",
       "1827                    Roswell, New Mexico\n",
       "5704                              Star Trek\n",
       "5705                  Star Trek: Enterprise\n",
       "3390                   La Rosa de Guadalupe\n",
       "6179                           The IT Crowd\n",
       "Name: title, dtype: object"
      ]
     },
     "execution_count": 104,
     "metadata": {},
     "output_type": "execute_result"
    }
   ],
   "source": [
    "give_rec(k)"
   ]
  },
  {
   "cell_type": "markdown",
   "metadata": {},
   "source": [
    "# Recommendation based on Genre, Description, Rating"
   ]
  },
  {
   "cell_type": "code",
   "execution_count": 105,
   "metadata": {
    "ExecuteTime": {
     "end_time": "2020-05-13T10:43:55.160150Z",
     "start_time": "2020-05-13T10:43:55.144810Z"
    }
   },
   "outputs": [
    {
     "data": {
      "text/plain": [
       "['Episodes',\n",
       " 'Frasier',\n",
       " 'Still Game',\n",
       " \"Dad's Army\",\n",
       " 'The Andy Griffith Show',\n",
       " 'Cheers',\n",
       " 'Toast of London',\n",
       " \"Pee-wee's Playhouse\",\n",
       " 'The Walking Dead',\n",
       " 'Jericho',\n",
       " 'The Twilight Zone (Original Series)',\n",
       " 'Trailer Park Boys',\n",
       " 'Haven',\n",
       " 'From Dusk Till Dawn',\n",
       " 'Supernatural',\n",
       " 'Roswell, New Mexico',\n",
       " 'Star Trek',\n",
       " 'Star Trek: Enterprise',\n",
       " 'La Rosa de Guadalupe',\n",
       " 'The IT Crowd']"
      ]
     },
     "execution_count": 105,
     "metadata": {},
     "output_type": "execute_result"
    }
   ],
   "source": [
    "case10=list(give_rec(k))\n",
    "case10"
   ]
  },
  {
   "cell_type": "code",
   "execution_count": null,
   "metadata": {},
   "outputs": [],
   "source": []
  },
  {
   "cell_type": "code",
   "execution_count": null,
   "metadata": {},
   "outputs": [],
   "source": [
    "\n"
   ]
  },
  {
   "cell_type": "markdown",
   "metadata": {},
   "source": [
    "# Case 11"
   ]
  },
  {
   "cell_type": "markdown",
   "metadata": {},
   "source": [
    "Listedin, country,rating"
   ]
  },
  {
   "cell_type": "code",
   "execution_count": 106,
   "metadata": {
    "ExecuteTime": {
     "end_time": "2020-05-13T10:43:55.187478Z",
     "start_time": "2020-05-13T10:43:55.164578Z"
    }
   },
   "outputs": [
    {
     "data": {
      "text/html": [
       "<div>\n",
       "<style scoped>\n",
       "    .dataframe tbody tr th:only-of-type {\n",
       "        vertical-align: middle;\n",
       "    }\n",
       "\n",
       "    .dataframe tbody tr th {\n",
       "        vertical-align: top;\n",
       "    }\n",
       "\n",
       "    .dataframe thead th {\n",
       "        text-align: right;\n",
       "    }\n",
       "</style>\n",
       "<table border=\"1\" class=\"dataframe\">\n",
       "  <thead>\n",
       "    <tr style=\"text-align: right;\">\n",
       "      <th></th>\n",
       "      <th>title</th>\n",
       "      <th>type</th>\n",
       "      <th>director</th>\n",
       "      <th>cast</th>\n",
       "      <th>country</th>\n",
       "      <th>date_added</th>\n",
       "      <th>release_year</th>\n",
       "      <th>rating</th>\n",
       "      <th>duration</th>\n",
       "      <th>listed_in</th>\n",
       "      <th>description</th>\n",
       "    </tr>\n",
       "  </thead>\n",
       "  <tbody>\n",
       "    <tr>\n",
       "      <th>0</th>\n",
       "      <td>Norm of the North: King Sized Adventure</td>\n",
       "      <td>Movie</td>\n",
       "      <td>Richard Finn, Tim Maltby</td>\n",
       "      <td>Alan Marriott, Andrew Toth, Brian Dobson, Cole...</td>\n",
       "      <td>United States, India, South Korea, China</td>\n",
       "      <td>2019-09-09 00:00:00</td>\n",
       "      <td>2019</td>\n",
       "      <td>TV-PG</td>\n",
       "      <td>90 min</td>\n",
       "      <td>Children &amp; Family Movies, Comedies</td>\n",
       "      <td>Before planning an awesome wedding for his gra...</td>\n",
       "    </tr>\n",
       "    <tr>\n",
       "      <th>1</th>\n",
       "      <td>Jandino: Whatever it Takes</td>\n",
       "      <td>Movie</td>\n",
       "      <td>NaN</td>\n",
       "      <td>Jandino Asporaat</td>\n",
       "      <td>United Kingdom</td>\n",
       "      <td>2016-09-09 00:00:00</td>\n",
       "      <td>2016</td>\n",
       "      <td>TV-MA</td>\n",
       "      <td>94 min</td>\n",
       "      <td>Stand-Up Comedy</td>\n",
       "      <td>Jandino Asporaat riffs on the challenges of ra...</td>\n",
       "    </tr>\n",
       "  </tbody>\n",
       "</table>\n",
       "</div>"
      ],
      "text/plain": [
       "                                     title   type                  director  \\\n",
       "0  Norm of the North: King Sized Adventure  Movie  Richard Finn, Tim Maltby   \n",
       "1               Jandino: Whatever it Takes  Movie                       NaN   \n",
       "\n",
       "                                                cast  \\\n",
       "0  Alan Marriott, Andrew Toth, Brian Dobson, Cole...   \n",
       "1                                   Jandino Asporaat   \n",
       "\n",
       "                                    country           date_added  \\\n",
       "0  United States, India, South Korea, China  2019-09-09 00:00:00   \n",
       "1                            United Kingdom  2016-09-09 00:00:00   \n",
       "\n",
       "   release_year rating duration                           listed_in  \\\n",
       "0          2019  TV-PG   90 min  Children & Family Movies, Comedies   \n",
       "1          2016  TV-MA   94 min                     Stand-Up Comedy   \n",
       "\n",
       "                                         description  \n",
       "0  Before planning an awesome wedding for his gra...  \n",
       "1  Jandino Asporaat riffs on the challenges of ra...  "
      ]
     },
     "execution_count": 106,
     "metadata": {},
     "output_type": "execute_result"
    }
   ],
   "source": [
    "df10.head(2)"
   ]
  },
  {
   "cell_type": "code",
   "execution_count": 107,
   "metadata": {
    "ExecuteTime": {
     "end_time": "2020-05-13T10:43:55.254227Z",
     "start_time": "2020-05-13T10:43:55.190939Z"
    }
   },
   "outputs": [
    {
     "data": {
      "text/html": [
       "<div>\n",
       "<style scoped>\n",
       "    .dataframe tbody tr th:only-of-type {\n",
       "        vertical-align: middle;\n",
       "    }\n",
       "\n",
       "    .dataframe tbody tr th {\n",
       "        vertical-align: top;\n",
       "    }\n",
       "\n",
       "    .dataframe thead th {\n",
       "        text-align: right;\n",
       "    }\n",
       "</style>\n",
       "<table border=\"1\" class=\"dataframe\">\n",
       "  <thead>\n",
       "    <tr style=\"text-align: right;\">\n",
       "      <th></th>\n",
       "      <th>title</th>\n",
       "      <th>model1</th>\n",
       "    </tr>\n",
       "  </thead>\n",
       "  <tbody>\n",
       "    <tr>\n",
       "      <th>0</th>\n",
       "      <td>Norm of the North: King Sized Adventure</td>\n",
       "      <td>United States, India, South Korea, China Child...</td>\n",
       "    </tr>\n",
       "    <tr>\n",
       "      <th>1</th>\n",
       "      <td>Jandino: Whatever it Takes</td>\n",
       "      <td>United Kingdom Stand-Up Comedy TV-MA</td>\n",
       "    </tr>\n",
       "  </tbody>\n",
       "</table>\n",
       "</div>"
      ],
      "text/plain": [
       "                                     title  \\\n",
       "0  Norm of the North: King Sized Adventure   \n",
       "1               Jandino: Whatever it Takes   \n",
       "\n",
       "                                              model1  \n",
       "0  United States, India, South Korea, China Child...  \n",
       "1               United Kingdom Stand-Up Comedy TV-MA  "
      ]
     },
     "execution_count": 107,
     "metadata": {},
     "output_type": "execute_result"
    }
   ],
   "source": [
    "df10 = df10.replace(np.nan, '', regex=True)\n",
    "df10['release_year'] = df10['release_year'].astype(str)\n",
    "df10['duration'] = df10['duration'].astype(str)\n",
    "df10['date_added'] = df10['date_added'].astype(str)\n",
    "df10[\"model1\"] = df10[\"country\"]+\" \"+ df10[\"listed_in\"]+\" \"+ df10[\"rating\"]\n",
    "df10=df10.iloc[:,[0,11]]\n",
    "df10.head(2)"
   ]
  },
  {
   "cell_type": "code",
   "execution_count": 108,
   "metadata": {
    "ExecuteTime": {
     "end_time": "2020-05-13T10:43:59.872491Z",
     "start_time": "2020-05-13T10:43:55.255822Z"
    }
   },
   "outputs": [],
   "source": [
    "tfv_matrix = tfv.fit_transform(df10['model1'])\n",
    "\n",
    "from sklearn.metrics.pairwise import sigmoid_kernel\n",
    "sig = sigmoid_kernel(tfv_matrix, tfv_matrix)\n",
    "\n",
    "indices = pd.Series(df10.index, index=df10['title']).drop_duplicates()\n",
    "\n",
    "def give_rec(title, sig=sig):\n",
    "    # Get the index corresponding to original_title\n",
    "    idx = indices[title]\n",
    "\n",
    "    # Get the pairwsie similarity scores \n",
    "    sig_scores = list(enumerate(sig[idx]))\n",
    "\n",
    "    # Sort the movies \n",
    "    sig_scores = sorted(sig_scores, key=lambda x: x[1], reverse=True)\n",
    "\n",
    "    # Scores of the 10 most similar movies/shows\n",
    "    sig_scores = sig_scores[1:21]\n",
    "\n",
    "    # Movie indices\n",
    "    movie_indices = [i[0] for i in sig_scores]\n",
    "\n",
    "    # Top 10 most similar movies\n",
    "    return df10['title'].iloc[movie_indices]"
   ]
  },
  {
   "cell_type": "code",
   "execution_count": 109,
   "metadata": {
    "ExecuteTime": {
     "end_time": "2020-05-13T10:43:59.898699Z",
     "start_time": "2020-05-13T10:43:59.872491Z"
    }
   },
   "outputs": [
    {
     "data": {
      "text/plain": [
       "5976                                 Cheers\n",
       "6225                                Frasier\n",
       "5980                 The Andy Griffith Show\n",
       "6094                    Pee-wee's Playhouse\n",
       "6166                                Jericho\n",
       "5636                       The Walking Dead\n",
       "5981    The Twilight Zone (Original Series)\n",
       "1827                    Roswell, New Mexico\n",
       "5585                                  Haven\n",
       "5787                           Supernatural\n",
       "5699                             Still Game\n",
       "5987                               Episodes\n",
       "6072                    From Dusk Till Dawn\n",
       "5704                              Star Trek\n",
       "5705                  Star Trek: Enterprise\n",
       "5639                        Toast of London\n",
       "5982                             Twin Peaks\n",
       "5830                             Dad's Army\n",
       "5938                           Kath and Kim\n",
       "4946                       Magic for Humans\n",
       "Name: title, dtype: object"
      ]
     },
     "execution_count": 109,
     "metadata": {},
     "output_type": "execute_result"
    }
   ],
   "source": [
    "give_rec(k)"
   ]
  },
  {
   "cell_type": "markdown",
   "metadata": {},
   "source": [
    "# Recommendation based on Genre, Country, Rating"
   ]
  },
  {
   "cell_type": "code",
   "execution_count": 110,
   "metadata": {
    "ExecuteTime": {
     "end_time": "2020-05-13T10:43:59.913826Z",
     "start_time": "2020-05-13T10:43:59.900193Z"
    }
   },
   "outputs": [
    {
     "data": {
      "text/plain": [
       "['Cheers',\n",
       " 'Frasier',\n",
       " 'The Andy Griffith Show',\n",
       " \"Pee-wee's Playhouse\",\n",
       " 'Jericho',\n",
       " 'The Walking Dead',\n",
       " 'The Twilight Zone (Original Series)',\n",
       " 'Roswell, New Mexico',\n",
       " 'Haven',\n",
       " 'Supernatural',\n",
       " 'Still Game',\n",
       " 'Episodes',\n",
       " 'From Dusk Till Dawn',\n",
       " 'Star Trek',\n",
       " 'Star Trek: Enterprise',\n",
       " 'Toast of London',\n",
       " 'Twin Peaks',\n",
       " \"Dad's Army\",\n",
       " 'Kath and Kim',\n",
       " 'Magic for Humans']"
      ]
     },
     "execution_count": 110,
     "metadata": {},
     "output_type": "execute_result"
    }
   ],
   "source": [
    "case11=list(give_rec(k))\n",
    "case11"
   ]
  },
  {
   "cell_type": "code",
   "execution_count": null,
   "metadata": {},
   "outputs": [],
   "source": []
  },
  {
   "cell_type": "markdown",
   "metadata": {},
   "source": [
    "# Case 12"
   ]
  },
  {
   "cell_type": "markdown",
   "metadata": {},
   "source": [
    "Listedin,country,rating,release_year"
   ]
  },
  {
   "cell_type": "code",
   "execution_count": 111,
   "metadata": {
    "ExecuteTime": {
     "end_time": "2020-05-13T10:43:59.933433Z",
     "start_time": "2020-05-13T10:43:59.916128Z"
    }
   },
   "outputs": [
    {
     "data": {
      "text/html": [
       "<div>\n",
       "<style scoped>\n",
       "    .dataframe tbody tr th:only-of-type {\n",
       "        vertical-align: middle;\n",
       "    }\n",
       "\n",
       "    .dataframe tbody tr th {\n",
       "        vertical-align: top;\n",
       "    }\n",
       "\n",
       "    .dataframe thead th {\n",
       "        text-align: right;\n",
       "    }\n",
       "</style>\n",
       "<table border=\"1\" class=\"dataframe\">\n",
       "  <thead>\n",
       "    <tr style=\"text-align: right;\">\n",
       "      <th></th>\n",
       "      <th>title</th>\n",
       "      <th>type</th>\n",
       "      <th>director</th>\n",
       "      <th>cast</th>\n",
       "      <th>country</th>\n",
       "      <th>date_added</th>\n",
       "      <th>release_year</th>\n",
       "      <th>rating</th>\n",
       "      <th>duration</th>\n",
       "      <th>listed_in</th>\n",
       "      <th>description</th>\n",
       "    </tr>\n",
       "  </thead>\n",
       "  <tbody>\n",
       "    <tr>\n",
       "      <th>0</th>\n",
       "      <td>Norm of the North: King Sized Adventure</td>\n",
       "      <td>Movie</td>\n",
       "      <td>Richard Finn, Tim Maltby</td>\n",
       "      <td>Alan Marriott, Andrew Toth, Brian Dobson, Cole...</td>\n",
       "      <td>United States, India, South Korea, China</td>\n",
       "      <td>2019-09-09 00:00:00</td>\n",
       "      <td>2019</td>\n",
       "      <td>TV-PG</td>\n",
       "      <td>90 min</td>\n",
       "      <td>Children &amp; Family Movies, Comedies</td>\n",
       "      <td>Before planning an awesome wedding for his gra...</td>\n",
       "    </tr>\n",
       "    <tr>\n",
       "      <th>1</th>\n",
       "      <td>Jandino: Whatever it Takes</td>\n",
       "      <td>Movie</td>\n",
       "      <td>NaN</td>\n",
       "      <td>Jandino Asporaat</td>\n",
       "      <td>United Kingdom</td>\n",
       "      <td>2016-09-09 00:00:00</td>\n",
       "      <td>2016</td>\n",
       "      <td>TV-MA</td>\n",
       "      <td>94 min</td>\n",
       "      <td>Stand-Up Comedy</td>\n",
       "      <td>Jandino Asporaat riffs on the challenges of ra...</td>\n",
       "    </tr>\n",
       "  </tbody>\n",
       "</table>\n",
       "</div>"
      ],
      "text/plain": [
       "                                     title   type                  director  \\\n",
       "0  Norm of the North: King Sized Adventure  Movie  Richard Finn, Tim Maltby   \n",
       "1               Jandino: Whatever it Takes  Movie                       NaN   \n",
       "\n",
       "                                                cast  \\\n",
       "0  Alan Marriott, Andrew Toth, Brian Dobson, Cole...   \n",
       "1                                   Jandino Asporaat   \n",
       "\n",
       "                                    country           date_added  \\\n",
       "0  United States, India, South Korea, China  2019-09-09 00:00:00   \n",
       "1                            United Kingdom  2016-09-09 00:00:00   \n",
       "\n",
       "   release_year rating duration                           listed_in  \\\n",
       "0          2019  TV-PG   90 min  Children & Family Movies, Comedies   \n",
       "1          2016  TV-MA   94 min                     Stand-Up Comedy   \n",
       "\n",
       "                                         description  \n",
       "0  Before planning an awesome wedding for his gra...  \n",
       "1  Jandino Asporaat riffs on the challenges of ra...  "
      ]
     },
     "execution_count": 111,
     "metadata": {},
     "output_type": "execute_result"
    }
   ],
   "source": [
    "df11.head(2)"
   ]
  },
  {
   "cell_type": "code",
   "execution_count": 112,
   "metadata": {
    "ExecuteTime": {
     "end_time": "2020-05-13T10:44:00.004776Z",
     "start_time": "2020-05-13T10:43:59.935707Z"
    }
   },
   "outputs": [
    {
     "data": {
      "text/html": [
       "<div>\n",
       "<style scoped>\n",
       "    .dataframe tbody tr th:only-of-type {\n",
       "        vertical-align: middle;\n",
       "    }\n",
       "\n",
       "    .dataframe tbody tr th {\n",
       "        vertical-align: top;\n",
       "    }\n",
       "\n",
       "    .dataframe thead th {\n",
       "        text-align: right;\n",
       "    }\n",
       "</style>\n",
       "<table border=\"1\" class=\"dataframe\">\n",
       "  <thead>\n",
       "    <tr style=\"text-align: right;\">\n",
       "      <th></th>\n",
       "      <th>title</th>\n",
       "      <th>model1</th>\n",
       "    </tr>\n",
       "  </thead>\n",
       "  <tbody>\n",
       "    <tr>\n",
       "      <th>0</th>\n",
       "      <td>Norm of the North: King Sized Adventure</td>\n",
       "      <td>United States, India, South Korea, China Child...</td>\n",
       "    </tr>\n",
       "    <tr>\n",
       "      <th>1</th>\n",
       "      <td>Jandino: Whatever it Takes</td>\n",
       "      <td>United Kingdom Stand-Up Comedy TV-MA 2016</td>\n",
       "    </tr>\n",
       "  </tbody>\n",
       "</table>\n",
       "</div>"
      ],
      "text/plain": [
       "                                     title  \\\n",
       "0  Norm of the North: King Sized Adventure   \n",
       "1               Jandino: Whatever it Takes   \n",
       "\n",
       "                                              model1  \n",
       "0  United States, India, South Korea, China Child...  \n",
       "1          United Kingdom Stand-Up Comedy TV-MA 2016  "
      ]
     },
     "execution_count": 112,
     "metadata": {},
     "output_type": "execute_result"
    }
   ],
   "source": [
    "df11 = df11.replace(np.nan, '', regex=True)\n",
    "df11['release_year'] = df11['release_year'].astype(str)\n",
    "df11['duration'] = df11['duration'].astype(str)\n",
    "df11['date_added'] = df11['date_added'].astype(str)\n",
    "df11[\"model1\"] = df11[\"country\"]+\" \"+ df11[\"listed_in\"]+\" \"+ df11[\"rating\"]+\" \"+ df11[\"release_year\"]\n",
    "df11=df11.iloc[:,[0,11]]\n",
    "df11.head(2)"
   ]
  },
  {
   "cell_type": "code",
   "execution_count": 113,
   "metadata": {
    "ExecuteTime": {
     "end_time": "2020-05-13T10:44:04.731508Z",
     "start_time": "2020-05-13T10:44:00.007623Z"
    }
   },
   "outputs": [],
   "source": [
    "tfv_matrix = tfv.fit_transform(df11['model1'])\n",
    "\n",
    "from sklearn.metrics.pairwise import sigmoid_kernel\n",
    "sig = sigmoid_kernel(tfv_matrix, tfv_matrix)\n",
    "\n",
    "indices = pd.Series(df11.index, index=df11['title']).drop_duplicates()\n",
    "\n",
    "def give_rec(title, sig=sig):\n",
    "    # Get the index corresponding to original_title\n",
    "    idx = indices[title]\n",
    "\n",
    "    # Get the pairwsie similarity scores \n",
    "    sig_scores = list(enumerate(sig[idx]))\n",
    "\n",
    "    # Sort the movies \n",
    "    sig_scores = sorted(sig_scores, key=lambda x: x[1], reverse=True)\n",
    "\n",
    "    # Scores of the 10 most similar movies/shows\n",
    "    sig_scores = sig_scores[1:21]\n",
    "\n",
    "    # Movie indices\n",
    "    movie_indices = [i[0] for i in sig_scores]\n",
    "\n",
    "    # Top 10 most similar movies\n",
    "    return df11['title'].iloc[movie_indices]"
   ]
  },
  {
   "cell_type": "code",
   "execution_count": 114,
   "metadata": {
    "ExecuteTime": {
     "end_time": "2020-05-13T10:44:04.755757Z",
     "start_time": "2020-05-13T10:44:04.731508Z"
    }
   },
   "outputs": [
    {
     "data": {
      "text/plain": [
       "6225                                Frasier\n",
       "5980                 The Andy Griffith Show\n",
       "5976                                 Cheers\n",
       "6094                    Pee-wee's Playhouse\n",
       "5981    The Twilight Zone (Original Series)\n",
       "5636                       The Walking Dead\n",
       "6166                                Jericho\n",
       "1827                    Roswell, New Mexico\n",
       "5787                           Supernatural\n",
       "5585                                  Haven\n",
       "5699                             Still Game\n",
       "6072                    From Dusk Till Dawn\n",
       "5987                               Episodes\n",
       "5725                               Kopitiam\n",
       "5704                              Star Trek\n",
       "5705                  Star Trek: Enterprise\n",
       "5639                        Toast of London\n",
       "5830                             Dad's Army\n",
       "5982                             Twin Peaks\n",
       "1750                           Kucch To Hai\n",
       "Name: title, dtype: object"
      ]
     },
     "execution_count": 114,
     "metadata": {},
     "output_type": "execute_result"
    }
   ],
   "source": [
    "give_rec(k)"
   ]
  },
  {
   "cell_type": "markdown",
   "metadata": {
    "ExecuteTime": {
     "start_time": "2020-05-13T08:30:09.778Z"
    }
   },
   "source": [
    "# Recommendation based on Genre,Country, Rating, Release year"
   ]
  },
  {
   "cell_type": "code",
   "execution_count": 115,
   "metadata": {
    "ExecuteTime": {
     "end_time": "2020-05-13T10:44:04.779876Z",
     "start_time": "2020-05-13T10:44:04.759009Z"
    }
   },
   "outputs": [
    {
     "data": {
      "text/plain": [
       "6225                                Frasier\n",
       "5980                 The Andy Griffith Show\n",
       "5976                                 Cheers\n",
       "6094                    Pee-wee's Playhouse\n",
       "5981    The Twilight Zone (Original Series)\n",
       "5636                       The Walking Dead\n",
       "6166                                Jericho\n",
       "1827                    Roswell, New Mexico\n",
       "5787                           Supernatural\n",
       "5585                                  Haven\n",
       "5699                             Still Game\n",
       "6072                    From Dusk Till Dawn\n",
       "5987                               Episodes\n",
       "5725                               Kopitiam\n",
       "5704                              Star Trek\n",
       "5705                  Star Trek: Enterprise\n",
       "5639                        Toast of London\n",
       "5830                             Dad's Army\n",
       "5982                             Twin Peaks\n",
       "1750                           Kucch To Hai\n",
       "Name: title, dtype: object"
      ]
     },
     "execution_count": 115,
     "metadata": {},
     "output_type": "execute_result"
    }
   ],
   "source": [
    "case12=(give_rec(k))\n",
    "case12"
   ]
  },
  {
   "cell_type": "code",
   "execution_count": null,
   "metadata": {},
   "outputs": [],
   "source": []
  },
  {
   "cell_type": "code",
   "execution_count": null,
   "metadata": {},
   "outputs": [],
   "source": []
  },
  {
   "cell_type": "code",
   "execution_count": 116,
   "metadata": {
    "ExecuteTime": {
     "end_time": "2020-05-13T10:44:04.797530Z",
     "start_time": "2020-05-13T10:44:04.782871Z"
    }
   },
   "outputs": [],
   "source": [
    "data = pd.DataFrame(list(zip(case1, case2, case3,case4,case5,case6,case7,case8,case9,case10,case11,case12)), \n",
    "               columns =['case1', 'case2', 'case3','case4','case5','case6','case7','case8','case9','case10','case11','case12']) "
   ]
  },
  {
   "cell_type": "markdown",
   "metadata": {},
   "source": [
    "# Recommendations"
   ]
  },
  {
   "cell_type": "code",
   "execution_count": 117,
   "metadata": {
    "ExecuteTime": {
     "end_time": "2020-05-13T10:44:04.835767Z",
     "start_time": "2020-05-13T10:44:04.798833Z"
    }
   },
   "outputs": [
    {
     "data": {
      "text/html": [
       "<div>\n",
       "<style scoped>\n",
       "    .dataframe tbody tr th:only-of-type {\n",
       "        vertical-align: middle;\n",
       "    }\n",
       "\n",
       "    .dataframe tbody tr th {\n",
       "        vertical-align: top;\n",
       "    }\n",
       "\n",
       "    .dataframe thead th {\n",
       "        text-align: right;\n",
       "    }\n",
       "</style>\n",
       "<table border=\"1\" class=\"dataframe\">\n",
       "  <thead>\n",
       "    <tr style=\"text-align: right;\">\n",
       "      <th></th>\n",
       "      <th>case1</th>\n",
       "      <th>case2</th>\n",
       "      <th>case3</th>\n",
       "      <th>case4</th>\n",
       "      <th>case5</th>\n",
       "      <th>case6</th>\n",
       "      <th>case7</th>\n",
       "      <th>case8</th>\n",
       "      <th>case9</th>\n",
       "      <th>case10</th>\n",
       "      <th>case11</th>\n",
       "      <th>case12</th>\n",
       "    </tr>\n",
       "  </thead>\n",
       "  <tbody>\n",
       "    <tr>\n",
       "      <th>0</th>\n",
       "      <td>Frasier</td>\n",
       "      <td>The Andy Griffith Show</td>\n",
       "      <td>Friends</td>\n",
       "      <td>Episodes</td>\n",
       "      <td>The Andy Griffith Show</td>\n",
       "      <td>Episodes</td>\n",
       "      <td>The Andy Griffith Show</td>\n",
       "      <td>Episodes</td>\n",
       "      <td>Friends</td>\n",
       "      <td>Episodes</td>\n",
       "      <td>Cheers</td>\n",
       "      <td>Frasier</td>\n",
       "    </tr>\n",
       "    <tr>\n",
       "      <th>1</th>\n",
       "      <td>Episodes</td>\n",
       "      <td>Episodes</td>\n",
       "      <td>The Andy Griffith Show</td>\n",
       "      <td>Pee-wee's Playhouse</td>\n",
       "      <td>Cheers</td>\n",
       "      <td>Highland: Thailand's Marijuana Awakening</td>\n",
       "      <td>Frasier</td>\n",
       "      <td>Frasier</td>\n",
       "      <td>Episodes</td>\n",
       "      <td>Frasier</td>\n",
       "      <td>Frasier</td>\n",
       "      <td>The Andy Griffith Show</td>\n",
       "    </tr>\n",
       "    <tr>\n",
       "      <th>2</th>\n",
       "      <td>Dad's Army</td>\n",
       "      <td>Frasier</td>\n",
       "      <td>Cheers</td>\n",
       "      <td>The Twilight Zone (Original Series)</td>\n",
       "      <td>Frasier</td>\n",
       "      <td>The Accountant of Auschwitz</td>\n",
       "      <td>Friends</td>\n",
       "      <td>Dad's Army</td>\n",
       "      <td>Cheers</td>\n",
       "      <td>Still Game</td>\n",
       "      <td>The Andy Griffith Show</td>\n",
       "      <td>Cheers</td>\n",
       "    </tr>\n",
       "    <tr>\n",
       "      <th>3</th>\n",
       "      <td>The Andy Griffith Show</td>\n",
       "      <td>Friends</td>\n",
       "      <td>Pee-wee's Playhouse</td>\n",
       "      <td>The Andy Griffith Show</td>\n",
       "      <td>Episodes</td>\n",
       "      <td>Miss Representation</td>\n",
       "      <td>Pee-wee's Playhouse</td>\n",
       "      <td>Still Game</td>\n",
       "      <td>The Andy Griffith Show</td>\n",
       "      <td>Dad's Army</td>\n",
       "      <td>Pee-wee's Playhouse</td>\n",
       "      <td>Pee-wee's Playhouse</td>\n",
       "    </tr>\n",
       "    <tr>\n",
       "      <th>4</th>\n",
       "      <td>The Twilight Zone (Original Series)</td>\n",
       "      <td>Pee-wee's Playhouse</td>\n",
       "      <td>The Twilight Zone (Original Series)</td>\n",
       "      <td>Toast of London</td>\n",
       "      <td>Dad's Army</td>\n",
       "      <td>Mountain</td>\n",
       "      <td>The Twilight Zone (Original Series)</td>\n",
       "      <td>The Andy Griffith Show</td>\n",
       "      <td>The Twilight Zone (Original Series)</td>\n",
       "      <td>The Andy Griffith Show</td>\n",
       "      <td>Jericho</td>\n",
       "      <td>The Twilight Zone (Original Series)</td>\n",
       "    </tr>\n",
       "    <tr>\n",
       "      <th>5</th>\n",
       "      <td>Supernatural</td>\n",
       "      <td>The Twilight Zone (Original Series)</td>\n",
       "      <td>The Walking Dead</td>\n",
       "      <td>Still Game</td>\n",
       "      <td>Pee-wee's Playhouse</td>\n",
       "      <td>Sustainable</td>\n",
       "      <td>The Walking Dead</td>\n",
       "      <td>Cheers</td>\n",
       "      <td>Pee-wee's Playhouse</td>\n",
       "      <td>Cheers</td>\n",
       "      <td>The Walking Dead</td>\n",
       "      <td>The Walking Dead</td>\n",
       "    </tr>\n",
       "    <tr>\n",
       "      <th>6</th>\n",
       "      <td>Still Game</td>\n",
       "      <td>The Walking Dead</td>\n",
       "      <td>Haven</td>\n",
       "      <td>Frasier</td>\n",
       "      <td>The Twilight Zone (Original Series)</td>\n",
       "      <td>Studio 54</td>\n",
       "      <td>Jericho</td>\n",
       "      <td>Toast of London</td>\n",
       "      <td>Dad's Army</td>\n",
       "      <td>Toast of London</td>\n",
       "      <td>The Twilight Zone (Original Series)</td>\n",
       "      <td>Jericho</td>\n",
       "    </tr>\n",
       "    <tr>\n",
       "      <th>7</th>\n",
       "      <td>Pee-wee's Playhouse</td>\n",
       "      <td>Jericho</td>\n",
       "      <td>Jericho</td>\n",
       "      <td>Dad's Army</td>\n",
       "      <td>Jericho</td>\n",
       "      <td>P.S. I Love You</td>\n",
       "      <td>Supernatural</td>\n",
       "      <td>The Twilight Zone (Original Series)</td>\n",
       "      <td>Still Game</td>\n",
       "      <td>Pee-wee's Playhouse</td>\n",
       "      <td>Roswell, New Mexico</td>\n",
       "      <td>Roswell, New Mexico</td>\n",
       "    </tr>\n",
       "    <tr>\n",
       "      <th>8</th>\n",
       "      <td>Cheers</td>\n",
       "      <td>Supernatural</td>\n",
       "      <td>Supernatural</td>\n",
       "      <td>Star Trek: Enterprise</td>\n",
       "      <td>From Dusk Till Dawn</td>\n",
       "      <td>Zoom</td>\n",
       "      <td>From Dusk Till Dawn</td>\n",
       "      <td>The Walking Dead</td>\n",
       "      <td>Toast of London</td>\n",
       "      <td>The Walking Dead</td>\n",
       "      <td>Haven</td>\n",
       "      <td>Supernatural</td>\n",
       "    </tr>\n",
       "    <tr>\n",
       "      <th>9</th>\n",
       "      <td>Toast of London</td>\n",
       "      <td>From Dusk Till Dawn</td>\n",
       "      <td>Roswell, New Mexico</td>\n",
       "      <td>Supernatural</td>\n",
       "      <td>The Walking Dead</td>\n",
       "      <td>The Creative Brain</td>\n",
       "      <td>Haven</td>\n",
       "      <td>Pee-wee's Playhouse</td>\n",
       "      <td>The Walking Dead</td>\n",
       "      <td>Jericho</td>\n",
       "      <td>Supernatural</td>\n",
       "      <td>Haven</td>\n",
       "    </tr>\n",
       "    <tr>\n",
       "      <th>10</th>\n",
       "      <td>Haven</td>\n",
       "      <td>Haven</td>\n",
       "      <td>From Dusk Till Dawn</td>\n",
       "      <td>Cheers</td>\n",
       "      <td>Supernatural</td>\n",
       "      <td>Scream 3</td>\n",
       "      <td>Roswell, New Mexico</td>\n",
       "      <td>From Dusk Till Dawn</td>\n",
       "      <td>Haven</td>\n",
       "      <td>The Twilight Zone (Original Series)</td>\n",
       "      <td>Still Game</td>\n",
       "      <td>Still Game</td>\n",
       "    </tr>\n",
       "    <tr>\n",
       "      <th>11</th>\n",
       "      <td>Star Trek</td>\n",
       "      <td>Roswell, New Mexico</td>\n",
       "      <td>Star Trek</td>\n",
       "      <td>Star Trek</td>\n",
       "      <td>Haven</td>\n",
       "      <td>Rumor Has It</td>\n",
       "      <td>Star Trek</td>\n",
       "      <td>Jericho</td>\n",
       "      <td>Jericho</td>\n",
       "      <td>Trailer Park Boys</td>\n",
       "      <td>Episodes</td>\n",
       "      <td>From Dusk Till Dawn</td>\n",
       "    </tr>\n",
       "    <tr>\n",
       "      <th>12</th>\n",
       "      <td>Star Trek: Enterprise</td>\n",
       "      <td>Star Trek</td>\n",
       "      <td>Episodes</td>\n",
       "      <td>Haven</td>\n",
       "      <td>Star Trek</td>\n",
       "      <td>Charlie's Angels</td>\n",
       "      <td>Star Trek: Enterprise</td>\n",
       "      <td>Trailer Park Boys</td>\n",
       "      <td>Supernatural</td>\n",
       "      <td>Haven</td>\n",
       "      <td>From Dusk Till Dawn</td>\n",
       "      <td>Episodes</td>\n",
       "    </tr>\n",
       "    <tr>\n",
       "      <th>13</th>\n",
       "      <td>From Dusk Till Dawn</td>\n",
       "      <td>Star Trek: Enterprise</td>\n",
       "      <td>Star Trek: Enterprise</td>\n",
       "      <td>Roswell, New Mexico</td>\n",
       "      <td>Star Trek: Enterprise</td>\n",
       "      <td>Murder Mystery</td>\n",
       "      <td>Episodes</td>\n",
       "      <td>Supernatural</td>\n",
       "      <td>From Dusk Till Dawn</td>\n",
       "      <td>From Dusk Till Dawn</td>\n",
       "      <td>Star Trek</td>\n",
       "      <td>Kopitiam</td>\n",
       "    </tr>\n",
       "    <tr>\n",
       "      <th>14</th>\n",
       "      <td>The Walking Dead</td>\n",
       "      <td>Twin Peaks</td>\n",
       "      <td>Dad's Army</td>\n",
       "      <td>Harry &amp; Bunnie</td>\n",
       "      <td>Toast of London</td>\n",
       "      <td>A Little Help with Carol Burnett</td>\n",
       "      <td>Twin Peaks</td>\n",
       "      <td>Haven</td>\n",
       "      <td>Roswell, New Mexico</td>\n",
       "      <td>Supernatural</td>\n",
       "      <td>Star Trek: Enterprise</td>\n",
       "      <td>Star Trek</td>\n",
       "    </tr>\n",
       "    <tr>\n",
       "      <th>15</th>\n",
       "      <td>Jericho</td>\n",
       "      <td>Toast of London</td>\n",
       "      <td>Twin Peaks</td>\n",
       "      <td>Paap-O-Meter</td>\n",
       "      <td>Twin Peaks</td>\n",
       "      <td>Unrest</td>\n",
       "      <td>Toast of London</td>\n",
       "      <td>Star Trek</td>\n",
       "      <td>Star Trek: Enterprise</td>\n",
       "      <td>Roswell, New Mexico</td>\n",
       "      <td>Toast of London</td>\n",
       "      <td>Star Trek: Enterprise</td>\n",
       "    </tr>\n",
       "    <tr>\n",
       "      <th>16</th>\n",
       "      <td>Roswell, New Mexico</td>\n",
       "      <td>Still Game</td>\n",
       "      <td>Still Game</td>\n",
       "      <td>Sammy &amp; Co</td>\n",
       "      <td>Still Game</td>\n",
       "      <td>Charlie's Angels: Full Throttle</td>\n",
       "      <td>Still Game</td>\n",
       "      <td>Roswell, New Mexico</td>\n",
       "      <td>Star Trek</td>\n",
       "      <td>Star Trek</td>\n",
       "      <td>Twin Peaks</td>\n",
       "      <td>Toast of London</td>\n",
       "    </tr>\n",
       "    <tr>\n",
       "      <th>17</th>\n",
       "      <td>PasiÃ³n de Gavilanes</td>\n",
       "      <td>Dad's Army</td>\n",
       "      <td>Toast of London</td>\n",
       "      <td>Kicko &amp; Super Speedo</td>\n",
       "      <td>Trailer Park Boys</td>\n",
       "      <td>My Own Man</td>\n",
       "      <td>Dad's Army</td>\n",
       "      <td>Star Trek: Enterprise</td>\n",
       "      <td>Monty Python's Flying Circus</td>\n",
       "      <td>Star Trek: Enterprise</td>\n",
       "      <td>Dad's Army</td>\n",
       "      <td>Dad's Army</td>\n",
       "    </tr>\n",
       "    <tr>\n",
       "      <th>18</th>\n",
       "      <td>Trailer Park Boys</td>\n",
       "      <td>La Rosa de Guadalupe</td>\n",
       "      <td>Kopitiam</td>\n",
       "      <td>Prince Jai Aur Dumdaar Viru</td>\n",
       "      <td>Danger Mouse: Classic Collection</td>\n",
       "      <td>The Fear of 13</td>\n",
       "      <td>Monty Python's Flying Circus</td>\n",
       "      <td>La Rosa de Guadalupe</td>\n",
       "      <td>Trailer Park Boys</td>\n",
       "      <td>La Rosa de Guadalupe</td>\n",
       "      <td>Kath and Kim</td>\n",
       "      <td>Twin Peaks</td>\n",
       "    </tr>\n",
       "    <tr>\n",
       "      <th>19</th>\n",
       "      <td>Charlie's Angels: Full Throttle</td>\n",
       "      <td>Trailer Park Boys</td>\n",
       "      <td>Dumb and Dumberer: When Harry Met Lloyd</td>\n",
       "      <td>Sab Jholmaal Hai</td>\n",
       "      <td>Roswell, New Mexico</td>\n",
       "      <td>Theo Who Lived</td>\n",
       "      <td>The IT Crowd</td>\n",
       "      <td>The IT Crowd</td>\n",
       "      <td>La Rosa de Guadalupe</td>\n",
       "      <td>The IT Crowd</td>\n",
       "      <td>Magic for Humans</td>\n",
       "      <td>Kucch To Hai</td>\n",
       "    </tr>\n",
       "  </tbody>\n",
       "</table>\n",
       "</div>"
      ],
      "text/plain": [
       "                                  case1                                case2  \\\n",
       "0                               Frasier               The Andy Griffith Show   \n",
       "1                              Episodes                             Episodes   \n",
       "2                            Dad's Army                              Frasier   \n",
       "3                The Andy Griffith Show                              Friends   \n",
       "4   The Twilight Zone (Original Series)                  Pee-wee's Playhouse   \n",
       "5                          Supernatural  The Twilight Zone (Original Series)   \n",
       "6                            Still Game                     The Walking Dead   \n",
       "7                   Pee-wee's Playhouse                              Jericho   \n",
       "8                                Cheers                         Supernatural   \n",
       "9                       Toast of London                  From Dusk Till Dawn   \n",
       "10                                Haven                                Haven   \n",
       "11                            Star Trek                  Roswell, New Mexico   \n",
       "12                Star Trek: Enterprise                            Star Trek   \n",
       "13                  From Dusk Till Dawn                Star Trek: Enterprise   \n",
       "14                     The Walking Dead                           Twin Peaks   \n",
       "15                              Jericho                      Toast of London   \n",
       "16                  Roswell, New Mexico                           Still Game   \n",
       "17                 PasiÃ³n de Gavilanes                           Dad's Army   \n",
       "18                    Trailer Park Boys                 La Rosa de Guadalupe   \n",
       "19      Charlie's Angels: Full Throttle                    Trailer Park Boys   \n",
       "\n",
       "                                      case3  \\\n",
       "0                                   Friends   \n",
       "1                    The Andy Griffith Show   \n",
       "2                                    Cheers   \n",
       "3                       Pee-wee's Playhouse   \n",
       "4       The Twilight Zone (Original Series)   \n",
       "5                          The Walking Dead   \n",
       "6                                     Haven   \n",
       "7                                   Jericho   \n",
       "8                              Supernatural   \n",
       "9                       Roswell, New Mexico   \n",
       "10                      From Dusk Till Dawn   \n",
       "11                                Star Trek   \n",
       "12                                 Episodes   \n",
       "13                    Star Trek: Enterprise   \n",
       "14                               Dad's Army   \n",
       "15                               Twin Peaks   \n",
       "16                               Still Game   \n",
       "17                          Toast of London   \n",
       "18                                 Kopitiam   \n",
       "19  Dumb and Dumberer: When Harry Met Lloyd   \n",
       "\n",
       "                                  case4                                case5  \\\n",
       "0                              Episodes               The Andy Griffith Show   \n",
       "1                   Pee-wee's Playhouse                               Cheers   \n",
       "2   The Twilight Zone (Original Series)                              Frasier   \n",
       "3                The Andy Griffith Show                             Episodes   \n",
       "4                       Toast of London                           Dad's Army   \n",
       "5                            Still Game                  Pee-wee's Playhouse   \n",
       "6                               Frasier  The Twilight Zone (Original Series)   \n",
       "7                            Dad's Army                              Jericho   \n",
       "8                 Star Trek: Enterprise                  From Dusk Till Dawn   \n",
       "9                          Supernatural                     The Walking Dead   \n",
       "10                               Cheers                         Supernatural   \n",
       "11                            Star Trek                                Haven   \n",
       "12                                Haven                            Star Trek   \n",
       "13                  Roswell, New Mexico                Star Trek: Enterprise   \n",
       "14                       Harry & Bunnie                      Toast of London   \n",
       "15                         Paap-O-Meter                           Twin Peaks   \n",
       "16                           Sammy & Co                           Still Game   \n",
       "17                 Kicko & Super Speedo                    Trailer Park Boys   \n",
       "18          Prince Jai Aur Dumdaar Viru     Danger Mouse: Classic Collection   \n",
       "19                     Sab Jholmaal Hai                  Roswell, New Mexico   \n",
       "\n",
       "                                       case6  \\\n",
       "0                                   Episodes   \n",
       "1   Highland: Thailand's Marijuana Awakening   \n",
       "2                The Accountant of Auschwitz   \n",
       "3                        Miss Representation   \n",
       "4                                   Mountain   \n",
       "5                                Sustainable   \n",
       "6                                  Studio 54   \n",
       "7                            P.S. I Love You   \n",
       "8                                       Zoom   \n",
       "9                         The Creative Brain   \n",
       "10                                  Scream 3   \n",
       "11                              Rumor Has It   \n",
       "12                          Charlie's Angels   \n",
       "13                            Murder Mystery   \n",
       "14          A Little Help with Carol Burnett   \n",
       "15                                    Unrest   \n",
       "16           Charlie's Angels: Full Throttle   \n",
       "17                                My Own Man   \n",
       "18                            The Fear of 13   \n",
       "19                            Theo Who Lived   \n",
       "\n",
       "                                  case7                                case8  \\\n",
       "0                The Andy Griffith Show                             Episodes   \n",
       "1                               Frasier                              Frasier   \n",
       "2                               Friends                           Dad's Army   \n",
       "3                   Pee-wee's Playhouse                           Still Game   \n",
       "4   The Twilight Zone (Original Series)               The Andy Griffith Show   \n",
       "5                      The Walking Dead                               Cheers   \n",
       "6                               Jericho                      Toast of London   \n",
       "7                          Supernatural  The Twilight Zone (Original Series)   \n",
       "8                   From Dusk Till Dawn                     The Walking Dead   \n",
       "9                                 Haven                  Pee-wee's Playhouse   \n",
       "10                  Roswell, New Mexico                  From Dusk Till Dawn   \n",
       "11                            Star Trek                              Jericho   \n",
       "12                Star Trek: Enterprise                    Trailer Park Boys   \n",
       "13                             Episodes                         Supernatural   \n",
       "14                           Twin Peaks                                Haven   \n",
       "15                      Toast of London                            Star Trek   \n",
       "16                           Still Game                  Roswell, New Mexico   \n",
       "17                           Dad's Army                Star Trek: Enterprise   \n",
       "18         Monty Python's Flying Circus                 La Rosa de Guadalupe   \n",
       "19                         The IT Crowd                         The IT Crowd   \n",
       "\n",
       "                                  case9                               case10  \\\n",
       "0                               Friends                             Episodes   \n",
       "1                              Episodes                              Frasier   \n",
       "2                                Cheers                           Still Game   \n",
       "3                The Andy Griffith Show                           Dad's Army   \n",
       "4   The Twilight Zone (Original Series)               The Andy Griffith Show   \n",
       "5                   Pee-wee's Playhouse                               Cheers   \n",
       "6                            Dad's Army                      Toast of London   \n",
       "7                            Still Game                  Pee-wee's Playhouse   \n",
       "8                       Toast of London                     The Walking Dead   \n",
       "9                      The Walking Dead                              Jericho   \n",
       "10                                Haven  The Twilight Zone (Original Series)   \n",
       "11                              Jericho                    Trailer Park Boys   \n",
       "12                         Supernatural                                Haven   \n",
       "13                  From Dusk Till Dawn                  From Dusk Till Dawn   \n",
       "14                  Roswell, New Mexico                         Supernatural   \n",
       "15                Star Trek: Enterprise                  Roswell, New Mexico   \n",
       "16                            Star Trek                            Star Trek   \n",
       "17         Monty Python's Flying Circus                Star Trek: Enterprise   \n",
       "18                    Trailer Park Boys                 La Rosa de Guadalupe   \n",
       "19                 La Rosa de Guadalupe                         The IT Crowd   \n",
       "\n",
       "                                 case11                               case12  \n",
       "0                                Cheers                              Frasier  \n",
       "1                               Frasier               The Andy Griffith Show  \n",
       "2                The Andy Griffith Show                               Cheers  \n",
       "3                   Pee-wee's Playhouse                  Pee-wee's Playhouse  \n",
       "4                               Jericho  The Twilight Zone (Original Series)  \n",
       "5                      The Walking Dead                     The Walking Dead  \n",
       "6   The Twilight Zone (Original Series)                              Jericho  \n",
       "7                   Roswell, New Mexico                  Roswell, New Mexico  \n",
       "8                                 Haven                         Supernatural  \n",
       "9                          Supernatural                                Haven  \n",
       "10                           Still Game                           Still Game  \n",
       "11                             Episodes                  From Dusk Till Dawn  \n",
       "12                  From Dusk Till Dawn                             Episodes  \n",
       "13                            Star Trek                             Kopitiam  \n",
       "14                Star Trek: Enterprise                            Star Trek  \n",
       "15                      Toast of London                Star Trek: Enterprise  \n",
       "16                           Twin Peaks                      Toast of London  \n",
       "17                           Dad's Army                           Dad's Army  \n",
       "18                         Kath and Kim                           Twin Peaks  \n",
       "19                     Magic for Humans                         Kucch To Hai  "
      ]
     },
     "execution_count": 117,
     "metadata": {},
     "output_type": "execute_result"
    }
   ],
   "source": [
    "data"
   ]
  },
  {
   "cell_type": "code",
   "execution_count": null,
   "metadata": {},
   "outputs": [],
   "source": []
  }
 ],
 "metadata": {
  "hide_input": true,
  "kernelspec": {
   "display_name": "Python 3",
   "language": "python",
   "name": "python3"
  },
  "language_info": {
   "codemirror_mode": {
    "name": "ipython",
    "version": 3
   },
   "file_extension": ".py",
   "mimetype": "text/x-python",
   "name": "python",
   "nbconvert_exporter": "python",
   "pygments_lexer": "ipython3",
   "version": "3.7.6"
  },
  "varInspector": {
   "cols": {
    "lenName": 16,
    "lenType": 16,
    "lenVar": 40
   },
   "kernels_config": {
    "python": {
     "delete_cmd_postfix": "",
     "delete_cmd_prefix": "del ",
     "library": "var_list.py",
     "varRefreshCmd": "print(var_dic_list())"
    },
    "r": {
     "delete_cmd_postfix": ") ",
     "delete_cmd_prefix": "rm(",
     "library": "var_list.r",
     "varRefreshCmd": "cat(var_dic_list()) "
    }
   },
   "types_to_exclude": [
    "module",
    "function",
    "builtin_function_or_method",
    "instance",
    "_Feature"
   ],
   "window_display": false
  }
 },
 "nbformat": 4,
 "nbformat_minor": 2
}
